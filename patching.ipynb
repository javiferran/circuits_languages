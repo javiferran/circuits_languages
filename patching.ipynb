{
 "cells": [
  {
   "cell_type": "code",
   "execution_count": 1,
   "metadata": {},
   "outputs": [],
   "source": [
    "%load_ext autoreload\n",
    "%autoreload 2\n",
    "\n",
    "import os\n",
    "from os.path import expanduser\n",
    "home = expanduser(\"~\")"
   ]
  },
  {
   "cell_type": "code",
   "execution_count": 2,
   "metadata": {},
   "outputs": [
    {
     "name": "stderr",
     "output_type": "stream",
     "text": [
      "/root/circuits_languages/venv/lib/python3.11/site-packages/tqdm/auto.py:21: TqdmWarning: IProgress not found. Please update jupyter and ipywidgets. See https://ipywidgets.readthedocs.io/en/stable/user_install.html\n",
      "  from .autonotebook import tqdm as notebook_tqdm\n"
     ]
    }
   ],
   "source": [
    "import torch\n",
    "import numpy as np\n",
    "from pathlib import Path\n",
    "import plotly.express as px\n",
    "\n",
    "from typing import List, Union, Optional\n",
    "from jaxtyping import Float\n",
    "from IPython.display import HTML\n",
    "from neel_plotly import line, imshow, scatter\n",
    "\n",
    "import plotly.io as pio\n",
    "import transformer_lens.utils as utils\n",
    "from transformer_lens import HookedTransformer\n",
    "torch.set_grad_enabled(False)\n",
    "\n",
    "# Create folder to save plots\n",
    "images_dir = f\"{home}/circuits_languages/images\"\n",
    "if not os.path.exists(images_dir):\n",
    "    os.makedirs(images_dir)"
   ]
  },
  {
   "cell_type": "code",
   "execution_count": 3,
   "metadata": {},
   "outputs": [],
   "source": [
    "from utils_sva import clean_blocks_labels, paper_plot\n",
    "from utils_sva import get_logit_diff, compute_act_patching\n",
    "from load_dataset import load_sva_dataset, get_batched_dataset, create_sva_datasets"
   ]
  },
  {
   "cell_type": "markdown",
   "metadata": {},
   "source": [
    "### Load Model"
   ]
  },
  {
   "cell_type": "code",
   "execution_count": 4,
   "metadata": {},
   "outputs": [
    {
     "name": "stderr",
     "output_type": "stream",
     "text": [
      "`config.hidden_act` is ignored, you should use `config.hidden_activation` instead.\n",
      "Gemma's activation function will be set to `gelu_pytorch_tanh`. Please, use\n",
      "`config.hidden_activation` if you want to override this behaviour.\n",
      "See https://github.com/huggingface/transformers/pull/29402 for more details.\n",
      "Loading checkpoint shards: 100%|██████████| 2/2 [00:05<00:00,  2.74s/it]\n"
     ]
    },
    {
     "name": "stdout",
     "output_type": "stream",
     "text": [
      "Loaded pretrained model gemma-2b into HookedTransformer\n",
      "Dataset saved to ./datasets/final_datasets/english_train_sva_dataset.json\n",
      "Dataset saved to ./datasets/final_datasets/english_validation_sva_dataset.json\n",
      "Dataset saved to ./datasets/final_datasets/english_test_sva_dataset.json\n",
      "Dataset saved to ./datasets/final_datasets/spanish_train_sva_dataset.json\n",
      "Dataset saved to ./datasets/final_datasets/spanish_validation_sva_dataset.json\n",
      "Dataset saved to ./datasets/final_datasets/spanish_test_sva_dataset.json\n"
     ]
    }
   ],
   "source": [
    "n_devices = torch.cuda.device_count()\n",
    "model_alias = \"gemma-2b\"\n",
    "model = HookedTransformer.from_pretrained(\n",
    "    model_alias,\n",
    "    center_unembed=True,\n",
    "    center_writing_weights=False,\n",
    "    fold_ln=False,\n",
    "    fold_value_biases=False,\n",
    ")\n",
    "model.set_use_attn_result(False)\n",
    "# Get the default device used\n",
    "device: torch.device = utils.get_device()\n",
    "\n",
    "create_sva_datasets(model)\n"
   ]
  },
  {
   "cell_type": "code",
   "execution_count": 5,
   "metadata": {},
   "outputs": [
    {
     "name": "stdout",
     "output_type": "stream",
     "text": [
      "Tokenized prompt: ['<bos>', 'Los', ' chefs', ' que', ' vieron', ' al', ' productor']\n",
      "Tokenized answer: [' van']\n"
     ]
    },
    {
     "data": {
      "text/html": [
       "<pre style=\"white-space:pre;overflow-x:auto;line-height:normal;font-family:Menlo,'DejaVu Sans Mono',consolas,'Courier New',monospace\">Performance on answer token:\n",
       "<span style=\"font-weight: bold\">Rank: </span><span style=\"color: #008080; text-decoration-color: #008080; font-weight: bold\">482</span><span style=\"font-weight: bold\">      Logit:  </span><span style=\"color: #008080; text-decoration-color: #008080; font-weight: bold\">8.53</span><span style=\"font-weight: bold\"> Prob:  </span><span style=\"color: #008080; text-decoration-color: #008080; font-weight: bold\">0.02</span><span style=\"font-weight: bold\">% Token: | van|</span>\n",
       "</pre>\n"
      ],
      "text/plain": [
       "Performance on answer token:\n",
       "\u001b[1mRank: \u001b[0m\u001b[1;36m482\u001b[0m\u001b[1m      Logit:  \u001b[0m\u001b[1;36m8.53\u001b[0m\u001b[1m Prob:  \u001b[0m\u001b[1;36m0.02\u001b[0m\u001b[1m% Token: | van|\u001b[0m\n"
      ]
     },
     "metadata": {},
     "output_type": "display_data"
    },
    {
     "name": "stdout",
     "output_type": "stream",
     "text": [
      "Top 0th token. Logit: 15.52 Prob: 21.16% Token: | de|\n",
      "Top 1th token. Logit: 14.17 Prob:  5.46% Token: | y|\n",
      "Top 2th token. Logit: 14.12 Prob:  5.22% Token: | del|\n",
      "Top 3th token. Logit: 13.43 Prob:  2.61% Token: | |\n",
      "Top 4th token. Logit: 13.04 Prob:  1.77% Token: |,|\n",
      "Top 5th token. Logit: 12.91 Prob:  1.56% Token: | en|\n",
      "Top 6th token. Logit: 12.69 Prob:  1.25% Token: | ejecutivo|\n",
      "Top 7th token. Logit: 12.55 Prob:  1.08% Token: | David|\n",
      "Top 8th token. Logit: 12.37 Prob:  0.91% Token: | que|\n",
      "Top 9th token. Logit: 12.19 Prob:  0.76% Token: | Michael|\n"
     ]
    },
    {
     "data": {
      "text/html": [
       "<pre style=\"white-space:pre;overflow-x:auto;line-height:normal;font-family:Menlo,'DejaVu Sans Mono',consolas,'Courier New',monospace\"><span style=\"font-weight: bold\">Ranks of the answer tokens:</span> <span style=\"font-weight: bold\">[(</span><span style=\"color: #008000; text-decoration-color: #008000\">' van'</span>, <span style=\"color: #008080; text-decoration-color: #008080; font-weight: bold\">482</span><span style=\"font-weight: bold\">)]</span>\n",
       "</pre>\n"
      ],
      "text/plain": [
       "\u001b[1mRanks of the answer tokens:\u001b[0m \u001b[1m[\u001b[0m\u001b[1m(\u001b[0m\u001b[32m' van'\u001b[0m, \u001b[1;36m482\u001b[0m\u001b[1m)\u001b[0m\u001b[1m]\u001b[0m\n"
      ]
     },
     "metadata": {},
     "output_type": "display_data"
    }
   ],
   "source": [
    "utils.test_prompt('Los chefs que vieron al productor', ' van', model)"
   ]
  },
  {
   "cell_type": "markdown",
   "metadata": {},
   "source": [
    "### Patching Experiments"
   ]
  },
  {
   "cell_type": "code",
   "execution_count": 6,
   "metadata": {},
   "outputs": [
    {
     "name": "stdout",
     "output_type": "stream",
     "text": [
      "51\n",
      "49\n"
     ]
    }
   ],
   "source": [
    "subject_number = 'both' # singular / plural / both\n",
    "language = 'english' # english / spanish / both\n",
    "batch_size = 16\n",
    "num_samples = 100\n",
    "dataset = load_sva_dataset(model, language, subject_number, split='train', num_samples=num_samples)\n",
    "batched_dataset = get_batched_dataset(model, dataset, batch_size=batch_size)\n",
    "\n",
    "batches_base_tokens = batched_dataset['batches_base_tokens']\n",
    "batches_src_tokens = batched_dataset['batches_src_tokens']\n",
    "batches_answer_token_indices = batched_dataset['batches_answer_token_indices']\n",
    "batches = len(batches_src_tokens)"
   ]
  },
  {
   "cell_type": "code",
   "execution_count": 15,
   "metadata": {},
   "outputs": [
    {
     "name": "stdout",
     "output_type": "stream",
     "text": [
      "Base logit diff batch mean: 3.2946\n",
      "Source logit diff batch mean: -3.2946\n",
      "Base logit diff batch mean: 2.9616\n",
      "Source logit diff batch mean: -3.2261\n",
      "Base logit diff batch mean: 3.0497\n",
      "Source logit diff batch mean: -2.7852\n",
      "Base logit diff batch mean: 3.4723\n",
      "Source logit diff batch mean: -3.0394\n",
      "Base logit diff batch mean: 2.9634\n",
      "Source logit diff batch mean: -2.7459\n",
      "Base logit diff batch mean: 2.8846\n",
      "Source logit diff batch mean: -3.8064\n"
     ]
    }
   ],
   "source": [
    "# Compute full dataset results\n",
    "src_logit_diff_list = []\n",
    "base_logit_diff_list = []\n",
    "for batch in range(batches):\n",
    "    base_tokens = batches_base_tokens[batch]\n",
    "    src_tokens = batches_src_tokens[batch]\n",
    "    answer_token_indices = batches_answer_token_indices[batch]\n",
    "\n",
    "    base_logits, base_cache = model.run_with_cache(base_tokens)\n",
    "    src_logits, corrupted_cache = model.run_with_cache(src_tokens)\n",
    "    answer_token_indices = answer_token_indices.to(base_logits.device)\n",
    "    base_logit_diff = get_logit_diff(base_logits, answer_token_indices, mean=False)\n",
    "    base_logit_diff_list.append(base_logit_diff)\n",
    "    print(f\"Base logit diff batch mean: {base_logit_diff.mean().item():.4f}\")\n",
    "\n",
    "    src_logit_diff = get_logit_diff(src_logits, answer_token_indices, mean=False)\n",
    "    src_logit_diff_list.append(src_logit_diff)\n",
    "    print(f\"Source logit diff batch mean: {src_logit_diff.mean().item():.4f}\")\n",
    "\n",
    "full_base_logit_diff = torch.cat(base_logit_diff_list,0).mean(0)\n",
    "full_src_logit_diff = torch.cat(src_logit_diff_list,0).mean(0)\n",
    "# Patching metric\n",
    "CLEAN_BASELINE = full_base_logit_diff\n",
    "CORRUPTED_BASELINE = full_src_logit_diff\n",
    "def ioi_metric(logits, answer_token_indices):\n",
    "    answer_token_indices = answer_token_indices.to(logits.device)\n",
    "    return (get_logit_diff(logits, answer_token_indices) - CORRUPTED_BASELINE) / (CLEAN_BASELINE  - CORRUPTED_BASELINE)\n"
   ]
  },
  {
   "cell_type": "code",
   "execution_count": 17,
   "metadata": {},
   "outputs": [
    {
     "data": {
      "application/vnd.plotly.v1+json": {
       "config": {
        "plotlyServerURL": "https://plot.ly"
       },
       "data": [
        {
         "alignmentgroup": "True",
         "hovertemplate": "variable=0<br>index=%{x}<br>value=%{y}<extra></extra>",
         "legendgroup": "0",
         "marker": {
          "color": "#636efa",
          "pattern": {
           "shape": ""
          }
         },
         "name": "0",
         "offsetgroup": "0",
         "orientation": "v",
         "showlegend": true,
         "textposition": "auto",
         "type": "bar",
         "x": [
          0,
          1
         ],
         "xaxis": "x",
         "y": [
          3.1307687759399414,
          -3.1832008361816406
         ],
         "yaxis": "y"
        }
       ],
       "layout": {
        "barmode": "relative",
        "coloraxis": {
         "showscale": false
        },
        "font": {
         "size": 15
        },
        "legend": {
         "title": {
          "text": "variable"
         },
         "tracegroupgap": 0
        },
        "margin": {
         "t": 60
        },
        "showlegend": false,
        "template": {
         "data": {
          "bar": [
           {
            "error_x": {
             "color": "#2a3f5f"
            },
            "error_y": {
             "color": "#2a3f5f"
            },
            "marker": {
             "line": {
              "color": "white",
              "width": 0.5
             },
             "pattern": {
              "fillmode": "overlay",
              "size": 10,
              "solidity": 0.2
             }
            },
            "type": "bar"
           }
          ],
          "barpolar": [
           {
            "marker": {
             "line": {
              "color": "white",
              "width": 0.5
             },
             "pattern": {
              "fillmode": "overlay",
              "size": 10,
              "solidity": 0.2
             }
            },
            "type": "barpolar"
           }
          ],
          "carpet": [
           {
            "aaxis": {
             "endlinecolor": "#2a3f5f",
             "gridcolor": "#C8D4E3",
             "linecolor": "#C8D4E3",
             "minorgridcolor": "#C8D4E3",
             "startlinecolor": "#2a3f5f"
            },
            "baxis": {
             "endlinecolor": "#2a3f5f",
             "gridcolor": "#C8D4E3",
             "linecolor": "#C8D4E3",
             "minorgridcolor": "#C8D4E3",
             "startlinecolor": "#2a3f5f"
            },
            "type": "carpet"
           }
          ],
          "choropleth": [
           {
            "colorbar": {
             "outlinewidth": 0,
             "ticks": ""
            },
            "type": "choropleth"
           }
          ],
          "contour": [
           {
            "colorbar": {
             "outlinewidth": 0,
             "ticks": ""
            },
            "colorscale": [
             [
              0,
              "#0d0887"
             ],
             [
              0.1111111111111111,
              "#46039f"
             ],
             [
              0.2222222222222222,
              "#7201a8"
             ],
             [
              0.3333333333333333,
              "#9c179e"
             ],
             [
              0.4444444444444444,
              "#bd3786"
             ],
             [
              0.5555555555555556,
              "#d8576b"
             ],
             [
              0.6666666666666666,
              "#ed7953"
             ],
             [
              0.7777777777777778,
              "#fb9f3a"
             ],
             [
              0.8888888888888888,
              "#fdca26"
             ],
             [
              1,
              "#f0f921"
             ]
            ],
            "type": "contour"
           }
          ],
          "contourcarpet": [
           {
            "colorbar": {
             "outlinewidth": 0,
             "ticks": ""
            },
            "type": "contourcarpet"
           }
          ],
          "heatmap": [
           {
            "colorbar": {
             "outlinewidth": 0,
             "ticks": ""
            },
            "colorscale": [
             [
              0,
              "#0d0887"
             ],
             [
              0.1111111111111111,
              "#46039f"
             ],
             [
              0.2222222222222222,
              "#7201a8"
             ],
             [
              0.3333333333333333,
              "#9c179e"
             ],
             [
              0.4444444444444444,
              "#bd3786"
             ],
             [
              0.5555555555555556,
              "#d8576b"
             ],
             [
              0.6666666666666666,
              "#ed7953"
             ],
             [
              0.7777777777777778,
              "#fb9f3a"
             ],
             [
              0.8888888888888888,
              "#fdca26"
             ],
             [
              1,
              "#f0f921"
             ]
            ],
            "type": "heatmap"
           }
          ],
          "heatmapgl": [
           {
            "colorbar": {
             "outlinewidth": 0,
             "ticks": ""
            },
            "colorscale": [
             [
              0,
              "#0d0887"
             ],
             [
              0.1111111111111111,
              "#46039f"
             ],
             [
              0.2222222222222222,
              "#7201a8"
             ],
             [
              0.3333333333333333,
              "#9c179e"
             ],
             [
              0.4444444444444444,
              "#bd3786"
             ],
             [
              0.5555555555555556,
              "#d8576b"
             ],
             [
              0.6666666666666666,
              "#ed7953"
             ],
             [
              0.7777777777777778,
              "#fb9f3a"
             ],
             [
              0.8888888888888888,
              "#fdca26"
             ],
             [
              1,
              "#f0f921"
             ]
            ],
            "type": "heatmapgl"
           }
          ],
          "histogram": [
           {
            "marker": {
             "pattern": {
              "fillmode": "overlay",
              "size": 10,
              "solidity": 0.2
             }
            },
            "type": "histogram"
           }
          ],
          "histogram2d": [
           {
            "colorbar": {
             "outlinewidth": 0,
             "ticks": ""
            },
            "colorscale": [
             [
              0,
              "#0d0887"
             ],
             [
              0.1111111111111111,
              "#46039f"
             ],
             [
              0.2222222222222222,
              "#7201a8"
             ],
             [
              0.3333333333333333,
              "#9c179e"
             ],
             [
              0.4444444444444444,
              "#bd3786"
             ],
             [
              0.5555555555555556,
              "#d8576b"
             ],
             [
              0.6666666666666666,
              "#ed7953"
             ],
             [
              0.7777777777777778,
              "#fb9f3a"
             ],
             [
              0.8888888888888888,
              "#fdca26"
             ],
             [
              1,
              "#f0f921"
             ]
            ],
            "type": "histogram2d"
           }
          ],
          "histogram2dcontour": [
           {
            "colorbar": {
             "outlinewidth": 0,
             "ticks": ""
            },
            "colorscale": [
             [
              0,
              "#0d0887"
             ],
             [
              0.1111111111111111,
              "#46039f"
             ],
             [
              0.2222222222222222,
              "#7201a8"
             ],
             [
              0.3333333333333333,
              "#9c179e"
             ],
             [
              0.4444444444444444,
              "#bd3786"
             ],
             [
              0.5555555555555556,
              "#d8576b"
             ],
             [
              0.6666666666666666,
              "#ed7953"
             ],
             [
              0.7777777777777778,
              "#fb9f3a"
             ],
             [
              0.8888888888888888,
              "#fdca26"
             ],
             [
              1,
              "#f0f921"
             ]
            ],
            "type": "histogram2dcontour"
           }
          ],
          "mesh3d": [
           {
            "colorbar": {
             "outlinewidth": 0,
             "ticks": ""
            },
            "type": "mesh3d"
           }
          ],
          "parcoords": [
           {
            "line": {
             "colorbar": {
              "outlinewidth": 0,
              "ticks": ""
             }
            },
            "type": "parcoords"
           }
          ],
          "pie": [
           {
            "automargin": true,
            "type": "pie"
           }
          ],
          "scatter": [
           {
            "fillpattern": {
             "fillmode": "overlay",
             "size": 10,
             "solidity": 0.2
            },
            "type": "scatter"
           }
          ],
          "scatter3d": [
           {
            "line": {
             "colorbar": {
              "outlinewidth": 0,
              "ticks": ""
             }
            },
            "marker": {
             "colorbar": {
              "outlinewidth": 0,
              "ticks": ""
             }
            },
            "type": "scatter3d"
           }
          ],
          "scattercarpet": [
           {
            "marker": {
             "colorbar": {
              "outlinewidth": 0,
              "ticks": ""
             }
            },
            "type": "scattercarpet"
           }
          ],
          "scattergeo": [
           {
            "marker": {
             "colorbar": {
              "outlinewidth": 0,
              "ticks": ""
             }
            },
            "type": "scattergeo"
           }
          ],
          "scattergl": [
           {
            "marker": {
             "colorbar": {
              "outlinewidth": 0,
              "ticks": ""
             }
            },
            "type": "scattergl"
           }
          ],
          "scattermapbox": [
           {
            "marker": {
             "colorbar": {
              "outlinewidth": 0,
              "ticks": ""
             }
            },
            "type": "scattermapbox"
           }
          ],
          "scatterpolar": [
           {
            "marker": {
             "colorbar": {
              "outlinewidth": 0,
              "ticks": ""
             }
            },
            "type": "scatterpolar"
           }
          ],
          "scatterpolargl": [
           {
            "marker": {
             "colorbar": {
              "outlinewidth": 0,
              "ticks": ""
             }
            },
            "type": "scatterpolargl"
           }
          ],
          "scatterternary": [
           {
            "marker": {
             "colorbar": {
              "outlinewidth": 0,
              "ticks": ""
             }
            },
            "type": "scatterternary"
           }
          ],
          "surface": [
           {
            "colorbar": {
             "outlinewidth": 0,
             "ticks": ""
            },
            "colorscale": [
             [
              0,
              "#0d0887"
             ],
             [
              0.1111111111111111,
              "#46039f"
             ],
             [
              0.2222222222222222,
              "#7201a8"
             ],
             [
              0.3333333333333333,
              "#9c179e"
             ],
             [
              0.4444444444444444,
              "#bd3786"
             ],
             [
              0.5555555555555556,
              "#d8576b"
             ],
             [
              0.6666666666666666,
              "#ed7953"
             ],
             [
              0.7777777777777778,
              "#fb9f3a"
             ],
             [
              0.8888888888888888,
              "#fdca26"
             ],
             [
              1,
              "#f0f921"
             ]
            ],
            "type": "surface"
           }
          ],
          "table": [
           {
            "cells": {
             "fill": {
              "color": "#EBF0F8"
             },
             "line": {
              "color": "white"
             }
            },
            "header": {
             "fill": {
              "color": "#C8D4E3"
             },
             "line": {
              "color": "white"
             }
            },
            "type": "table"
           }
          ]
         },
         "layout": {
          "annotationdefaults": {
           "arrowcolor": "#2a3f5f",
           "arrowhead": 0,
           "arrowwidth": 1
          },
          "autotypenumbers": "strict",
          "coloraxis": {
           "colorbar": {
            "outlinewidth": 0,
            "ticks": ""
           }
          },
          "colorscale": {
           "diverging": [
            [
             0,
             "#8e0152"
            ],
            [
             0.1,
             "#c51b7d"
            ],
            [
             0.2,
             "#de77ae"
            ],
            [
             0.3,
             "#f1b6da"
            ],
            [
             0.4,
             "#fde0ef"
            ],
            [
             0.5,
             "#f7f7f7"
            ],
            [
             0.6,
             "#e6f5d0"
            ],
            [
             0.7,
             "#b8e186"
            ],
            [
             0.8,
             "#7fbc41"
            ],
            [
             0.9,
             "#4d9221"
            ],
            [
             1,
             "#276419"
            ]
           ],
           "sequential": [
            [
             0,
             "#0d0887"
            ],
            [
             0.1111111111111111,
             "#46039f"
            ],
            [
             0.2222222222222222,
             "#7201a8"
            ],
            [
             0.3333333333333333,
             "#9c179e"
            ],
            [
             0.4444444444444444,
             "#bd3786"
            ],
            [
             0.5555555555555556,
             "#d8576b"
            ],
            [
             0.6666666666666666,
             "#ed7953"
            ],
            [
             0.7777777777777778,
             "#fb9f3a"
            ],
            [
             0.8888888888888888,
             "#fdca26"
            ],
            [
             1,
             "#f0f921"
            ]
           ],
           "sequentialminus": [
            [
             0,
             "#0d0887"
            ],
            [
             0.1111111111111111,
             "#46039f"
            ],
            [
             0.2222222222222222,
             "#7201a8"
            ],
            [
             0.3333333333333333,
             "#9c179e"
            ],
            [
             0.4444444444444444,
             "#bd3786"
            ],
            [
             0.5555555555555556,
             "#d8576b"
            ],
            [
             0.6666666666666666,
             "#ed7953"
            ],
            [
             0.7777777777777778,
             "#fb9f3a"
            ],
            [
             0.8888888888888888,
             "#fdca26"
            ],
            [
             1,
             "#f0f921"
            ]
           ]
          },
          "colorway": [
           "#636efa",
           "#EF553B",
           "#00cc96",
           "#ab63fa",
           "#FFA15A",
           "#19d3f3",
           "#FF6692",
           "#B6E880",
           "#FF97FF",
           "#FECB52"
          ],
          "font": {
           "color": "#2a3f5f"
          },
          "geo": {
           "bgcolor": "white",
           "lakecolor": "white",
           "landcolor": "white",
           "showlakes": true,
           "showland": true,
           "subunitcolor": "#C8D4E3"
          },
          "hoverlabel": {
           "align": "left"
          },
          "hovermode": "closest",
          "mapbox": {
           "style": "light"
          },
          "paper_bgcolor": "white",
          "plot_bgcolor": "white",
          "polar": {
           "angularaxis": {
            "gridcolor": "#EBF0F8",
            "linecolor": "#EBF0F8",
            "ticks": ""
           },
           "bgcolor": "white",
           "radialaxis": {
            "gridcolor": "#EBF0F8",
            "linecolor": "#EBF0F8",
            "ticks": ""
           }
          },
          "scene": {
           "xaxis": {
            "backgroundcolor": "white",
            "gridcolor": "#DFE8F3",
            "gridwidth": 2,
            "linecolor": "#EBF0F8",
            "showbackground": true,
            "ticks": "",
            "zerolinecolor": "#EBF0F8"
           },
           "yaxis": {
            "backgroundcolor": "white",
            "gridcolor": "#DFE8F3",
            "gridwidth": 2,
            "linecolor": "#EBF0F8",
            "showbackground": true,
            "ticks": "",
            "zerolinecolor": "#EBF0F8"
           },
           "zaxis": {
            "backgroundcolor": "white",
            "gridcolor": "#DFE8F3",
            "gridwidth": 2,
            "linecolor": "#EBF0F8",
            "showbackground": true,
            "ticks": "",
            "zerolinecolor": "#EBF0F8"
           }
          },
          "shapedefaults": {
           "line": {
            "color": "#2a3f5f"
           }
          },
          "ternary": {
           "aaxis": {
            "gridcolor": "#DFE8F3",
            "linecolor": "#A2B1C6",
            "ticks": ""
           },
           "baxis": {
            "gridcolor": "#DFE8F3",
            "linecolor": "#A2B1C6",
            "ticks": ""
           },
           "bgcolor": "white",
           "caxis": {
            "gridcolor": "#DFE8F3",
            "linecolor": "#A2B1C6",
            "ticks": ""
           }
          },
          "title": {
           "x": 0.05
          },
          "xaxis": {
           "automargin": true,
           "gridcolor": "#EBF0F8",
           "linecolor": "#EBF0F8",
           "ticks": "",
           "title": {
            "standoff": 15
           },
           "zerolinecolor": "#EBF0F8",
           "zerolinewidth": 2
          },
          "yaxis": {
           "automargin": true,
           "gridcolor": "#EBF0F8",
           "linecolor": "#EBF0F8",
           "ticks": "",
           "title": {
            "standoff": 15
           },
           "zerolinecolor": "#EBF0F8",
           "zerolinewidth": 2
          }
         }
        },
        "xaxis": {
         "anchor": "y",
         "domain": [
          0,
          1
         ],
         "gridcolor": "rgb(200,200,200)",
         "griddash": "dash",
         "linecolor": "black",
         "linewidth": 2,
         "showline": true,
         "tickangle": 0,
         "tickmode": "array",
         "ticktext": [
          "Clean input",
          "Corrupted input"
         ],
         "tickvals": [
          0,
          1
         ],
         "title": {
          "text": ""
         },
         "zeroline": false
        },
        "yaxis": {
         "anchor": "x",
         "domain": [
          0,
          1
         ],
         "gridcolor": "rgb(200,200,200)",
         "griddash": "dash",
         "linecolor": "black",
         "linewidth": 2,
         "range": [
          -3.4,
          3.4
         ],
         "showline": true,
         "title": {
          "text": "Logit Difference"
         },
         "zeroline": false
        }
       }
      },
      "text/html": [
       "<div>                            <div id=\"ef77de0c-6f57-4278-9aff-d6a0c0103cb5\" class=\"plotly-graph-div\" style=\"height:525px; width:100%;\"></div>            <script type=\"text/javascript\">                require([\"plotly\"], function(Plotly) {                    window.PLOTLYENV=window.PLOTLYENV || {};                                    if (document.getElementById(\"ef77de0c-6f57-4278-9aff-d6a0c0103cb5\")) {                    Plotly.newPlot(                        \"ef77de0c-6f57-4278-9aff-d6a0c0103cb5\",                        [{\"alignmentgroup\":\"True\",\"hovertemplate\":\"variable=0\\u003cbr\\u003eindex=%{x}\\u003cbr\\u003evalue=%{y}\\u003cextra\\u003e\\u003c\\u002fextra\\u003e\",\"legendgroup\":\"0\",\"marker\":{\"color\":\"#636efa\",\"pattern\":{\"shape\":\"\"}},\"name\":\"0\",\"offsetgroup\":\"0\",\"orientation\":\"v\",\"showlegend\":true,\"textposition\":\"auto\",\"x\":[0,1],\"xaxis\":\"x\",\"y\":[3.1307687759399414,-3.1832008361816406],\"yaxis\":\"y\",\"type\":\"bar\"}],                        {\"template\":{\"data\":{\"barpolar\":[{\"marker\":{\"line\":{\"color\":\"white\",\"width\":0.5},\"pattern\":{\"fillmode\":\"overlay\",\"size\":10,\"solidity\":0.2}},\"type\":\"barpolar\"}],\"bar\":[{\"error_x\":{\"color\":\"#2a3f5f\"},\"error_y\":{\"color\":\"#2a3f5f\"},\"marker\":{\"line\":{\"color\":\"white\",\"width\":0.5},\"pattern\":{\"fillmode\":\"overlay\",\"size\":10,\"solidity\":0.2}},\"type\":\"bar\"}],\"carpet\":[{\"aaxis\":{\"endlinecolor\":\"#2a3f5f\",\"gridcolor\":\"#C8D4E3\",\"linecolor\":\"#C8D4E3\",\"minorgridcolor\":\"#C8D4E3\",\"startlinecolor\":\"#2a3f5f\"},\"baxis\":{\"endlinecolor\":\"#2a3f5f\",\"gridcolor\":\"#C8D4E3\",\"linecolor\":\"#C8D4E3\",\"minorgridcolor\":\"#C8D4E3\",\"startlinecolor\":\"#2a3f5f\"},\"type\":\"carpet\"}],\"choropleth\":[{\"colorbar\":{\"outlinewidth\":0,\"ticks\":\"\"},\"type\":\"choropleth\"}],\"contourcarpet\":[{\"colorbar\":{\"outlinewidth\":0,\"ticks\":\"\"},\"type\":\"contourcarpet\"}],\"contour\":[{\"colorbar\":{\"outlinewidth\":0,\"ticks\":\"\"},\"colorscale\":[[0.0,\"#0d0887\"],[0.1111111111111111,\"#46039f\"],[0.2222222222222222,\"#7201a8\"],[0.3333333333333333,\"#9c179e\"],[0.4444444444444444,\"#bd3786\"],[0.5555555555555556,\"#d8576b\"],[0.6666666666666666,\"#ed7953\"],[0.7777777777777778,\"#fb9f3a\"],[0.8888888888888888,\"#fdca26\"],[1.0,\"#f0f921\"]],\"type\":\"contour\"}],\"heatmapgl\":[{\"colorbar\":{\"outlinewidth\":0,\"ticks\":\"\"},\"colorscale\":[[0.0,\"#0d0887\"],[0.1111111111111111,\"#46039f\"],[0.2222222222222222,\"#7201a8\"],[0.3333333333333333,\"#9c179e\"],[0.4444444444444444,\"#bd3786\"],[0.5555555555555556,\"#d8576b\"],[0.6666666666666666,\"#ed7953\"],[0.7777777777777778,\"#fb9f3a\"],[0.8888888888888888,\"#fdca26\"],[1.0,\"#f0f921\"]],\"type\":\"heatmapgl\"}],\"heatmap\":[{\"colorbar\":{\"outlinewidth\":0,\"ticks\":\"\"},\"colorscale\":[[0.0,\"#0d0887\"],[0.1111111111111111,\"#46039f\"],[0.2222222222222222,\"#7201a8\"],[0.3333333333333333,\"#9c179e\"],[0.4444444444444444,\"#bd3786\"],[0.5555555555555556,\"#d8576b\"],[0.6666666666666666,\"#ed7953\"],[0.7777777777777778,\"#fb9f3a\"],[0.8888888888888888,\"#fdca26\"],[1.0,\"#f0f921\"]],\"type\":\"heatmap\"}],\"histogram2dcontour\":[{\"colorbar\":{\"outlinewidth\":0,\"ticks\":\"\"},\"colorscale\":[[0.0,\"#0d0887\"],[0.1111111111111111,\"#46039f\"],[0.2222222222222222,\"#7201a8\"],[0.3333333333333333,\"#9c179e\"],[0.4444444444444444,\"#bd3786\"],[0.5555555555555556,\"#d8576b\"],[0.6666666666666666,\"#ed7953\"],[0.7777777777777778,\"#fb9f3a\"],[0.8888888888888888,\"#fdca26\"],[1.0,\"#f0f921\"]],\"type\":\"histogram2dcontour\"}],\"histogram2d\":[{\"colorbar\":{\"outlinewidth\":0,\"ticks\":\"\"},\"colorscale\":[[0.0,\"#0d0887\"],[0.1111111111111111,\"#46039f\"],[0.2222222222222222,\"#7201a8\"],[0.3333333333333333,\"#9c179e\"],[0.4444444444444444,\"#bd3786\"],[0.5555555555555556,\"#d8576b\"],[0.6666666666666666,\"#ed7953\"],[0.7777777777777778,\"#fb9f3a\"],[0.8888888888888888,\"#fdca26\"],[1.0,\"#f0f921\"]],\"type\":\"histogram2d\"}],\"histogram\":[{\"marker\":{\"pattern\":{\"fillmode\":\"overlay\",\"size\":10,\"solidity\":0.2}},\"type\":\"histogram\"}],\"mesh3d\":[{\"colorbar\":{\"outlinewidth\":0,\"ticks\":\"\"},\"type\":\"mesh3d\"}],\"parcoords\":[{\"line\":{\"colorbar\":{\"outlinewidth\":0,\"ticks\":\"\"}},\"type\":\"parcoords\"}],\"pie\":[{\"automargin\":true,\"type\":\"pie\"}],\"scatter3d\":[{\"line\":{\"colorbar\":{\"outlinewidth\":0,\"ticks\":\"\"}},\"marker\":{\"colorbar\":{\"outlinewidth\":0,\"ticks\":\"\"}},\"type\":\"scatter3d\"}],\"scattercarpet\":[{\"marker\":{\"colorbar\":{\"outlinewidth\":0,\"ticks\":\"\"}},\"type\":\"scattercarpet\"}],\"scattergeo\":[{\"marker\":{\"colorbar\":{\"outlinewidth\":0,\"ticks\":\"\"}},\"type\":\"scattergeo\"}],\"scattergl\":[{\"marker\":{\"colorbar\":{\"outlinewidth\":0,\"ticks\":\"\"}},\"type\":\"scattergl\"}],\"scattermapbox\":[{\"marker\":{\"colorbar\":{\"outlinewidth\":0,\"ticks\":\"\"}},\"type\":\"scattermapbox\"}],\"scatterpolargl\":[{\"marker\":{\"colorbar\":{\"outlinewidth\":0,\"ticks\":\"\"}},\"type\":\"scatterpolargl\"}],\"scatterpolar\":[{\"marker\":{\"colorbar\":{\"outlinewidth\":0,\"ticks\":\"\"}},\"type\":\"scatterpolar\"}],\"scatter\":[{\"fillpattern\":{\"fillmode\":\"overlay\",\"size\":10,\"solidity\":0.2},\"type\":\"scatter\"}],\"scatterternary\":[{\"marker\":{\"colorbar\":{\"outlinewidth\":0,\"ticks\":\"\"}},\"type\":\"scatterternary\"}],\"surface\":[{\"colorbar\":{\"outlinewidth\":0,\"ticks\":\"\"},\"colorscale\":[[0.0,\"#0d0887\"],[0.1111111111111111,\"#46039f\"],[0.2222222222222222,\"#7201a8\"],[0.3333333333333333,\"#9c179e\"],[0.4444444444444444,\"#bd3786\"],[0.5555555555555556,\"#d8576b\"],[0.6666666666666666,\"#ed7953\"],[0.7777777777777778,\"#fb9f3a\"],[0.8888888888888888,\"#fdca26\"],[1.0,\"#f0f921\"]],\"type\":\"surface\"}],\"table\":[{\"cells\":{\"fill\":{\"color\":\"#EBF0F8\"},\"line\":{\"color\":\"white\"}},\"header\":{\"fill\":{\"color\":\"#C8D4E3\"},\"line\":{\"color\":\"white\"}},\"type\":\"table\"}]},\"layout\":{\"annotationdefaults\":{\"arrowcolor\":\"#2a3f5f\",\"arrowhead\":0,\"arrowwidth\":1},\"autotypenumbers\":\"strict\",\"coloraxis\":{\"colorbar\":{\"outlinewidth\":0,\"ticks\":\"\"}},\"colorscale\":{\"diverging\":[[0,\"#8e0152\"],[0.1,\"#c51b7d\"],[0.2,\"#de77ae\"],[0.3,\"#f1b6da\"],[0.4,\"#fde0ef\"],[0.5,\"#f7f7f7\"],[0.6,\"#e6f5d0\"],[0.7,\"#b8e186\"],[0.8,\"#7fbc41\"],[0.9,\"#4d9221\"],[1,\"#276419\"]],\"sequential\":[[0.0,\"#0d0887\"],[0.1111111111111111,\"#46039f\"],[0.2222222222222222,\"#7201a8\"],[0.3333333333333333,\"#9c179e\"],[0.4444444444444444,\"#bd3786\"],[0.5555555555555556,\"#d8576b\"],[0.6666666666666666,\"#ed7953\"],[0.7777777777777778,\"#fb9f3a\"],[0.8888888888888888,\"#fdca26\"],[1.0,\"#f0f921\"]],\"sequentialminus\":[[0.0,\"#0d0887\"],[0.1111111111111111,\"#46039f\"],[0.2222222222222222,\"#7201a8\"],[0.3333333333333333,\"#9c179e\"],[0.4444444444444444,\"#bd3786\"],[0.5555555555555556,\"#d8576b\"],[0.6666666666666666,\"#ed7953\"],[0.7777777777777778,\"#fb9f3a\"],[0.8888888888888888,\"#fdca26\"],[1.0,\"#f0f921\"]]},\"colorway\":[\"#636efa\",\"#EF553B\",\"#00cc96\",\"#ab63fa\",\"#FFA15A\",\"#19d3f3\",\"#FF6692\",\"#B6E880\",\"#FF97FF\",\"#FECB52\"],\"font\":{\"color\":\"#2a3f5f\"},\"geo\":{\"bgcolor\":\"white\",\"lakecolor\":\"white\",\"landcolor\":\"white\",\"showlakes\":true,\"showland\":true,\"subunitcolor\":\"#C8D4E3\"},\"hoverlabel\":{\"align\":\"left\"},\"hovermode\":\"closest\",\"mapbox\":{\"style\":\"light\"},\"paper_bgcolor\":\"white\",\"plot_bgcolor\":\"white\",\"polar\":{\"angularaxis\":{\"gridcolor\":\"#EBF0F8\",\"linecolor\":\"#EBF0F8\",\"ticks\":\"\"},\"bgcolor\":\"white\",\"radialaxis\":{\"gridcolor\":\"#EBF0F8\",\"linecolor\":\"#EBF0F8\",\"ticks\":\"\"}},\"scene\":{\"xaxis\":{\"backgroundcolor\":\"white\",\"gridcolor\":\"#DFE8F3\",\"gridwidth\":2,\"linecolor\":\"#EBF0F8\",\"showbackground\":true,\"ticks\":\"\",\"zerolinecolor\":\"#EBF0F8\"},\"yaxis\":{\"backgroundcolor\":\"white\",\"gridcolor\":\"#DFE8F3\",\"gridwidth\":2,\"linecolor\":\"#EBF0F8\",\"showbackground\":true,\"ticks\":\"\",\"zerolinecolor\":\"#EBF0F8\"},\"zaxis\":{\"backgroundcolor\":\"white\",\"gridcolor\":\"#DFE8F3\",\"gridwidth\":2,\"linecolor\":\"#EBF0F8\",\"showbackground\":true,\"ticks\":\"\",\"zerolinecolor\":\"#EBF0F8\"}},\"shapedefaults\":{\"line\":{\"color\":\"#2a3f5f\"}},\"ternary\":{\"aaxis\":{\"gridcolor\":\"#DFE8F3\",\"linecolor\":\"#A2B1C6\",\"ticks\":\"\"},\"baxis\":{\"gridcolor\":\"#DFE8F3\",\"linecolor\":\"#A2B1C6\",\"ticks\":\"\"},\"bgcolor\":\"white\",\"caxis\":{\"gridcolor\":\"#DFE8F3\",\"linecolor\":\"#A2B1C6\",\"ticks\":\"\"}},\"title\":{\"x\":0.05},\"xaxis\":{\"automargin\":true,\"gridcolor\":\"#EBF0F8\",\"linecolor\":\"#EBF0F8\",\"ticks\":\"\",\"title\":{\"standoff\":15},\"zerolinecolor\":\"#EBF0F8\",\"zerolinewidth\":2},\"yaxis\":{\"automargin\":true,\"gridcolor\":\"#EBF0F8\",\"linecolor\":\"#EBF0F8\",\"ticks\":\"\",\"title\":{\"standoff\":15},\"zerolinecolor\":\"#EBF0F8\",\"zerolinewidth\":2}}},\"xaxis\":{\"anchor\":\"y\",\"domain\":[0.0,1.0],\"title\":{\"text\":\"\"},\"tickmode\":\"array\",\"tickvals\":[0,1],\"ticktext\":[\"Clean input\",\"Corrupted input\"],\"showline\":true,\"linewidth\":2,\"linecolor\":\"black\",\"tickangle\":0,\"gridcolor\":\"rgb(200,200,200)\",\"griddash\":\"dash\",\"zeroline\":false},\"yaxis\":{\"anchor\":\"x\",\"domain\":[0.0,1.0],\"title\":{\"text\":\"Logit Difference\"},\"showline\":true,\"linewidth\":2,\"linecolor\":\"black\",\"gridcolor\":\"rgb(200,200,200)\",\"griddash\":\"dash\",\"zeroline\":false,\"range\":[-3.4,3.4]},\"legend\":{\"title\":{\"text\":\"variable\"},\"tracegroupgap\":0},\"margin\":{\"t\":60},\"barmode\":\"relative\",\"coloraxis\":{\"showscale\":false},\"showlegend\":false,\"font\":{\"size\":15}},                        {\"responsive\": true}                    ).then(function(){\n",
       "                            \n",
       "var gd = document.getElementById('ef77de0c-6f57-4278-9aff-d6a0c0103cb5');\n",
       "var x = new MutationObserver(function (mutations, observer) {{\n",
       "        var display = window.getComputedStyle(gd).display;\n",
       "        if (!display || display === 'none') {{\n",
       "            console.log([gd, 'removed!']);\n",
       "            Plotly.purge(gd);\n",
       "            observer.disconnect();\n",
       "        }}\n",
       "}});\n",
       "\n",
       "// Listen for the removal of the full notebook cells\n",
       "var notebookContainer = gd.closest('#notebook-container');\n",
       "if (notebookContainer) {{\n",
       "    x.observe(notebookContainer, {childList: true});\n",
       "}}\n",
       "\n",
       "// Listen for the clearing of the current output cell\n",
       "var outputEl = gd.closest('.output');\n",
       "if (outputEl) {{\n",
       "    x.observe(outputEl, {childList: true});\n",
       "}}\n",
       "\n",
       "                        })                };                });            </script>        </div>"
      ]
     },
     "metadata": {},
     "output_type": "display_data"
    }
   ],
   "source": [
    "fig = px.bar([full_base_logit_diff.item(), full_src_logit_diff.item()])\n",
    "fig.update(layout_coloraxis_showscale=False,layout_showlegend=False)\n",
    "#fig.update_layout(legend_title_text='Subject Number')\n",
    "fig.update_layout(\n",
    "    xaxis_title=\"\", yaxis_title=\"Logit Difference\"\n",
    ")\n",
    "fig.update_layout(\n",
    "    xaxis = dict(\n",
    "        tickmode = 'array',\n",
    "        tickvals = [0, 1],\n",
    "        ticktext = ['Clean input', 'Corrupted input']\n",
    "    ),\n",
    "    font=dict(\n",
    "        size=15,  # Set the font size here\n",
    "    )\n",
    ")\n",
    "fig = paper_plot(fig, tickangle=0)\n",
    "fig.update_layout(yaxis_range=[-3.4,3.4])\n",
    "fig.show()\n",
    "os.makedirs(f'{images_dir}/logit_diffs', exist_ok=True)\n",
    "pio.write_image(fig, f'{images_dir}/logit_diffs/{model_alias}_{language}_{subject_number}.png',scale=5, width=550, height=350)\n"
   ]
  },
  {
   "cell_type": "code",
   "execution_count": 16,
   "metadata": {},
   "outputs": [],
   "source": [
    "y_labels = [f'{str(layer)}' for layer in range(model.cfg.n_layers-1,-1,-1)]\n",
    "eng_patching_plot_sentence = model.to_str_tokens(model.to_tokens('The executives that embarrassed the manager'))\n",
    "spa_patching_plot_sentence = model.to_str_tokens(model.to_tokens('Los empleados que vieron al periodista'))\n",
    "patching_plot_sentence = spa_patching_plot_sentence if language == 'spanish' else eng_patching_plot_sentence"
   ]
  },
  {
   "cell_type": "code",
   "execution_count": 18,
   "metadata": {},
   "outputs": [
    {
     "name": "stderr",
     "output_type": "stream",
     "text": [
      "100%|██████████| 126/126 [00:10<00:00, 11.51it/s]\n",
      "100%|██████████| 126/126 [00:11<00:00, 11.38it/s]\n",
      "100%|██████████| 126/126 [00:11<00:00, 10.66it/s]\n",
      "100%|██████████| 126/126 [00:09<00:00, 13.76it/s]\n",
      "100%|██████████| 126/126 [00:09<00:00, 13.40it/s]\n",
      "100%|██████████| 126/126 [00:09<00:00, 13.60it/s]\n",
      "100%|██████████| 126/126 [00:09<00:00, 13.46it/s]\n",
      "100%|██████████| 126/126 [00:09<00:00, 13.30it/s]\n",
      "100%|██████████| 126/126 [00:09<00:00, 13.38it/s]\n",
      "100%|██████████| 126/126 [00:09<00:00, 13.44it/s]\n",
      "100%|██████████| 126/126 [00:09<00:00, 13.42it/s]\n",
      "100%|██████████| 126/126 [00:09<00:00, 13.48it/s]\n",
      "100%|██████████| 126/126 [00:09<00:00, 13.47it/s]\n",
      "100%|██████████| 126/126 [00:10<00:00, 11.65it/s]\n",
      "100%|██████████| 126/126 [00:10<00:00, 11.71it/s]\n",
      "100%|██████████| 126/126 [00:10<00:00, 11.63it/s]\n",
      "100%|██████████| 126/126 [00:10<00:00, 11.60it/s]\n",
      "100%|██████████| 126/126 [00:11<00:00, 11.01it/s]\n"
     ]
    }
   ],
   "source": [
    "# resid_streams\n",
    "# heads_all_pos : attn heads all positions at the same time\n",
    "# heads_last_pos: attn heads last position\n",
    "# full: (resid streams, attn block outs and mlp outs)\n",
    "patching_type = 'full'\n",
    "total_resid_pre_act_patch_results = compute_act_patching(model,\n",
    "                                                        ioi_metric,\n",
    "                                                        patching_type,\n",
    "                                                        batches_base_tokens,\n",
    "                                                        batches_src_tokens,\n",
    "                                                        batches_answer_token_indices,\n",
    "                                                        len(batches_src_tokens))"
   ]
  },
  {
   "cell_type": "code",
   "execution_count": 12,
   "metadata": {},
   "outputs": [
    {
     "data": {
      "application/vnd.plotly.v1+json": {
       "config": {
        "plotlyServerURL": "https://plot.ly"
       },
       "data": [
        {
         "coloraxis": "coloraxis",
         "hovertemplate": "x: %{x}<br>y: %{y}<br>color: %{z}<extra></extra>",
         "name": "0",
         "type": "heatmap",
         "x": [
          "0",
          "1",
          "2",
          "3",
          "4",
          "5",
          "6",
          "7",
          "8",
          "9",
          "10",
          "11",
          "12",
          "13",
          "14",
          "15"
         ],
         "xaxis": "x",
         "y": [
          "27",
          "26",
          "25",
          "24",
          "23",
          "22",
          "21",
          "20",
          "19",
          "18",
          "17",
          "16",
          "15",
          "14",
          "13",
          "12",
          "11",
          "10",
          "9",
          "8",
          "7",
          "6",
          "5",
          "4",
          "3",
          "2",
          "1",
          "0"
         ],
         "yaxis": "y",
         "z": [
          [
           -0.006959749385714531,
           0.000292665499728173,
           -0.008168699219822884,
           0.0008348062401637435,
           -0.006033990532159805,
           0.0012404847657307982,
           -0.005769611336290836,
           0.0027988755609840155,
           -0.004402075428515673,
           -0.0010186623549088836,
           0.00029734321287833154,
           -0.0007597757503390312,
           0.0024979987647384405,
           -0.0026633068919181824,
           -0.0010660924017429352,
           -0.01181237306445837
          ],
          [
           0.00011010002344846725,
           0.017715802416205406,
           0.0003739719686564058,
           0.0033360011875629425,
           -0.0003317464143037796,
           -0.0004165247082710266,
           0.011998748406767845,
           -0.003694809740409255,
           -0.0013612861512228847,
           0.002335513010621071,
           -0.002068805042654276,
           -0.00014449501759372652,
           0.0004487366823013872,
           -0.0003012418746948242,
           0.0026071600150316954,
           0.006725722458213568
          ],
          [
           -0.00002259264510939829,
           -0.0002781134098768234,
           -0.0010960591025650501,
           -0.005026395432651043,
           0.004234770312905312,
           0.00028352317167446017,
           0.0016896647866815329,
           0.0011206617346033454,
           0.0047132959589362144,
           -0.00033106282353401184,
           0.06315644085407257,
           -0.016314208507537842,
           0.0009365733712911606,
           -0.004011677112430334,
           0.0021154682617634535,
           -0.0001962327805813402
          ],
          [
           0.10338695347309113,
           0.00042742182267829776,
           0.0004910625284537673,
           0.0005646903882734478,
           -0.00042845215648412704,
           0.000016571953892707825,
           0.0002896822988986969,
           -0.0013173753395676613,
           0.0028857747092843056,
           0.13011318445205688,
           -0.00010394429409643635,
           0.0000756612716941163,
           0.002966884523630142,
           -0.0005829539149999619,
           -0.000034937016607727855,
           -0.00027423197752796113
          ],
          [
           0.00013115878391545266,
           0.006381649523973465,
           -0.0014942307025194168,
           0.0003268544969614595,
           -0.0005994873936288059,
           0.0011215906124562025,
           0.0005538919940590858,
           -0.004452141933143139,
           -0.0004892060533165932,
           -0.0012135535944253206,
           -0.00005382796371122822,
           0.013486187905073166,
           0.0314447283744812,
           -0.006639384664595127,
           -0.001425200141966343,
           -0.007676066365092993
          ],
          [
           0.0016681754495948553,
           -0.00022107518452685326,
           0.0007965431432239711,
           0.00020510486501734704,
           -0.0022828178480267525,
           -0.0032027717679739,
           0.43059003353118896,
           -0.00004843808710575104,
           0.0014232723042368889,
           -0.001828464213758707,
           -0.00022650262690149248,
           0.0001080806105164811,
           -0.0003534999559633434,
           -0.0008927034214138985,
           0.00008626251656096429,
           -0.0016641027759760618
          ],
          [
           -0.0002365611435379833,
           0.00045359384967014194,
           -0.00014761401689611375,
           -0.0009427014738321304,
           0.0004549240693449974,
           -0.00043704299605451524,
           -0.000005537644028663635,
           -0.0030345814302563667,
           -0.0005299579352140427,
           0.0002939518017228693,
           -0.001445296686142683,
           0.0005672170664183795,
           0.001112202531658113,
           -0.0029896278865635395,
           0.0004895729944109917,
           0.001038905931636691
          ],
          [
           -0.0011764403898268938,
           0.002333017997443676,
           -0.0001322682946920395,
           -0.0018563468474894762,
           -0.0003379201516509056,
           -0.000047725938202347606,
           -0.0011133868247270584,
           0.0008124023443087935,
           0.0006054236437194049,
           0.001933362102136016,
           0.00028420178568921983,
           0.0008154347306117415,
           0.00017613451927900314,
           -0.0003987619129475206,
           -0.0007990965386852622,
           0.00020333006978034973
          ],
          [
           0.00015251711010932922,
           0.002039112616330385,
           -0.0009309981833212078,
           -0.0027663158252835274,
           -0.0025594134349375963,
           0.005423801951110363,
           0.0002232740371255204,
           -0.00014137415564619005,
           -0.0007088963757269084,
           0.0008283304050564766,
           0.00011723706120392308,
           -0.0040656207129359245,
           0.003959887195378542,
           0.002622968051582575,
           0.0014019457157701254,
           0.0014665721682831645
          ],
          [
           -0.00017113704234361649,
           -0.00013340296573005617,
           0.0018618626054376364,
           0.00033669639378786087,
           -0.0005928262835368514,
           -0.0003791091439779848,
           0.00037426254129968584,
           -0.0006305982242338359,
           -0.0006528037483803928,
           -0.0006234226748347282,
           0.00013532614684663713,
           0.00008701455953996629,
           0.07999386638402939,
           -0.00018367357552051544,
           0.0004985338891856372,
           0.0072464533150196075
          ],
          [
           0.0036995026748627424,
           0.002444308251142502,
           0.00028594303876161575,
           0.001858305186033249,
           0.0019210828468203545,
           -0.005227692425251007,
           0.00040056556463241577,
           -0.001164386048913002,
           -0.0012971957912668586,
           0.0026937900111079216,
           -0.0007614888017997146,
           0.0037369641941040754,
           0.006306680850684643,
           0.001238260418176651,
           0.0004589117015711963,
           0.009730350226163864
          ],
          [
           -0.0012373924255371094,
           -0.0001438626495655626,
           -0.0014484068378806114,
           0.00002741751632129308,
           0.0007987022399902344,
           -0.0018780085956677794,
           0.000559397682081908,
           0.00015425434685312212,
           0.0011478327214717865,
           0.002362883649766445,
           -0.0002621253952383995,
           0.0006269309669733047,
           -0.0001306127232965082,
           -0.0020521837286651134,
           0.0004872872377745807,
           -0.0006879825959913433
          ],
          [
           0.0016565759433433414,
           -0.004383529536426067,
           -0.0011170528596267104,
           0.0008787373080849648,
           0.0008622591267339885,
           0.000211973994737491,
           -0.002195275854319334,
           -0.000037872854591114447,
           -0.0004332037642598152,
           0.007860396057367325,
           -0.0002951237256638706,
           -0.00016843093908391893,
           0.0015632153954356909,
           -0.00017022714018821716,
           0.000649144290946424,
           0.0011238710721954703
          ],
          [
           -0.000010994262993335724,
           0.000024036195100052282,
           -0.00007987178105395287,
           -0.000054459400416817516,
           -0.0006204089149832726,
           -0.0002613657561596483,
           -0.0010508078848943114,
           -0.0001469248381908983,
           0.00090742640895769,
           0.003064539283514023,
           0.00024105608463287354,
           -0.00037251258618198335,
           0.0034873150289058685,
           0.0030895040836185217,
           -0.0029474736656993628,
           0.000005565894298342755
          ],
          [
           -0.0013197208754718304,
           -0.0012677235063165426,
           -0.00041184481233358383,
           0.000027481777578941546,
           -0.0023841490037739277,
           -0.0004358555597718805,
           0.002364774700254202,
           0.0002829603326972574,
           -0.00030654342845082283,
           -0.0019699546974152327,
           -0.0017840021755546331,
           0.0005601855809800327,
           -0.0002108899352606386,
           -0.004877119790762663,
           0.00021535562700591981,
           -0.0010841841576620936
          ],
          [
           0.002938927849754691,
           -0.0015861907741054893,
           0.002693681512027979,
           0.0006397950346581638,
           0.0002084365114569664,
           -0.0012041785521432757,
           -0.0010074622696265578,
           0.0020513972267508507,
           -0.0005812586168758571,
           -0.001774965669028461,
           0.00010722565639298409,
           0.0007538773934356868,
           -0.0006961965700611472,
           -0.0005467428709380329,
           -0.00207838648930192,
           0.0040900553576648235
          ],
          [
           0.0007121643866412342,
           -0.00045974491513334215,
           -0.0024476214312016964,
           -0.00007365923374891281,
           0.001638824469409883,
           0.001404140843078494,
           -0.0014644268667325377,
           0.00033490610076114535,
           0.0008417976787313819,
           0.0023747493978589773,
           0.006489319261163473,
           0.0010931454598903656,
           0.00019194807100575417,
           0.00007383059710264206,
           0.0023314966820180416,
           0.0012700064107775688
          ],
          [
           0.00040204450488090515,
           0.00016208055603783578,
           0.000020106634110561572,
           -0.00033041773713193834,
           0.0018530524102970958,
           0.0000350060872733593,
           0.004453720059245825,
           0.00047041894868016243,
           -0.001535629271529615,
           -0.0038222125731408596,
           -0.0011893545743077993,
           0.0002870879543479532,
           0.0061853984370827675,
           0.000012905647963634692,
           -0.0006085218628868461,
           0.00032553295022808015
          ],
          [
           -0.00000947713851928711,
           0.0005607688799500465,
           -0.00008355345198651776,
           0.00036049154005013406,
           -0.00042770401341840625,
           -0.0027051332872360945,
           -0.0009466082556173205,
           0.0003163709188811481,
           0.0012139510363340378,
           -0.000749447732232511,
           0.000012315499589021783,
           -0.0014536716043949127,
           -0.0003652206505648792,
           -0.0009497432038187981,
           0.0006618056213483214,
           -0.00023204772151075304
          ],
          [
           0.00007537752389907837,
           0.0004658407415263355,
           0.000048796337068779394,
           0.00035132779157720506,
           -0.00027753631002269685,
           0.0004013351572211832,
           -0.00010854720312636346,
           0.0007704989984631538,
           0.0003298989904578775,
           0.0013560261577367783,
           0.0012841473799198866,
           0.00017864195979200304,
           -0.000232781283557415,
           -0.00026781330234371126,
           -0.00046330722398124635,
           -0.0016722771106287837
          ],
          [
           -0.0015530264936387539,
           0.000028894593924633227,
           -0.00206173537299037,
           0.0008914009667932987,
           -0.0004991585155948997,
           0.0004034927114844322,
           0.003671560902148485,
           -0.00001981481909751892,
           0.001990026794373989,
           -0.0027986278291791677,
           -0.0013607251457870007,
           0.0009738799999468029,
           -0.001550703076645732,
           -0.0011175436666235328,
           0.00007813051342964172,
           0.0003256562049500644
          ],
          [
           0.001490485854446888,
           0.0008185124024748802,
           -0.0003509712405502796,
           0.0008766081882640719,
           -0.001558541669510305,
           0.0013082775985822082,
           -0.001075587933883071,
           -0.003269648877903819,
           0.0002863717672880739,
           -0.001029609120450914,
           0.00022451735276263207,
           0.00013636673975270241,
           -0.0038018114864826202,
           -0.00035475133336149156,
           0.00020462989050429314,
           0.0031049419194459915
          ],
          [
           -0.00002039472383330576,
           0.00035667483462020755,
           -9.437402468392975e-7,
           0.0002561227302066982,
           -0.00013791242963634431,
           0.00027015371597371995,
           0.0009771441109478474,
           -0.0008325704257003963,
           0.0021671648137271404,
           -0.00023955821234267205,
           0.0009046103805303574,
           0.002342679537832737,
           0.0020836328621953726,
           -0.0008482278208248317,
           -0.00037676142528653145,
           -0.00011292193084955215
          ],
          [
           0.000831448647659272,
           -0.001172371907159686,
           0.0006168062682263553,
           -0.0006027377094142139,
           0.00007128374272724614,
           0.00003152465069433674,
           -0.000549524265807122,
           -0.002123345388099551,
           -0.0017298711463809013,
           -0.0012301113456487656,
           0.00039459517574869096,
           0.0021719865035265684,
           -0.00039985435432754457,
           -0.00027468366897664964,
           0.0003945490752812475,
           0.000021235086023807526
          ],
          [
           -0.0006452162633650005,
           0.001382271060720086,
           -0.0002883800189010799,
           0.0009094669367186725,
           -0.00094484759029001,
           -0.0004129549488425255,
           0.0001752600073814392,
           -0.001237496268004179,
           0.00039431671029888093,
           0.0002624172193463892,
           0.0003011869266629219,
           0.00010013394057750702,
           0.0003028716892004013,
           0.0009339600801467896,
           0.0002896161749958992,
           0.0001281102595385164
          ],
          [
           -0.0009002552251331508,
           -0.00017527460295241326,
           0.0007814510609023273,
           -0.00042552128434181213,
           -0.000005383665666158777,
           0.000009034760296344757,
           0.001275016926229,
           0.0002170704974560067,
           -0.000509072735439986,
           -0.0005254025454632938,
           0.000021044164896011353,
           0.000638143508695066,
           0.00002437892180751078,
           -0.00009146302181761712,
           -0.000027976309866062365,
           0.0000043970844672003295
          ],
          [
           0.00005585886538028717,
           -0.00013949660933576524,
           -0.00005524357402464375,
           -0.00009053138637682423,
           0.0000795607193140313,
           -0.0007286671316251159,
           -0.00020802332437597215,
           -0.0006193043664097786,
           -0.0014565277379006147,
           -0.00011416835332056507,
           -0.0008249003440141678,
           0.00015993199485819787,
           -0.0011564670130610466,
           0.000447065889602527,
           -0.000057388097047805786,
           0.00012129576498409733
          ],
          [
           -0.00020338315516710281,
           -0.0003269072622060776,
           -1.9309422327751236e-7,
           0.000008263936251751147,
           -1.0244548320770264e-8,
           0.00014369035488925874,
           -0.00007847044616937637,
           4.221995908437748e-8,
           0.0004121052916161716,
           -0.00007155444473028183,
           0.0000030097241960902466,
           -0.0004420652985572815,
           0.00031412113457918167,
           -0.00002881946784327738,
           -0.000014950211152608972,
           -0.000026967687517753802
          ]
         ]
        }
       ],
       "layout": {
        "coloraxis": {
         "cmid": 0,
         "colorscale": [
          [
           0,
           "rgb(103,0,31)"
          ],
          [
           0.1,
           "rgb(178,24,43)"
          ],
          [
           0.2,
           "rgb(214,96,77)"
          ],
          [
           0.3,
           "rgb(244,165,130)"
          ],
          [
           0.4,
           "rgb(253,219,199)"
          ],
          [
           0.5,
           "rgb(247,247,247)"
          ],
          [
           0.6,
           "rgb(209,229,240)"
          ],
          [
           0.7,
           "rgb(146,197,222)"
          ],
          [
           0.8,
           "rgb(67,147,195)"
          ],
          [
           0.9,
           "rgb(33,102,172)"
          ],
          [
           1,
           "rgb(5,48,97)"
          ]
         ]
        },
        "template": {
         "data": {
          "bar": [
           {
            "error_x": {
             "color": "#2a3f5f"
            },
            "error_y": {
             "color": "#2a3f5f"
            },
            "marker": {
             "line": {
              "color": "#E5ECF6",
              "width": 0.5
             },
             "pattern": {
              "fillmode": "overlay",
              "size": 10,
              "solidity": 0.2
             }
            },
            "type": "bar"
           }
          ],
          "barpolar": [
           {
            "marker": {
             "line": {
              "color": "#E5ECF6",
              "width": 0.5
             },
             "pattern": {
              "fillmode": "overlay",
              "size": 10,
              "solidity": 0.2
             }
            },
            "type": "barpolar"
           }
          ],
          "carpet": [
           {
            "aaxis": {
             "endlinecolor": "#2a3f5f",
             "gridcolor": "white",
             "linecolor": "white",
             "minorgridcolor": "white",
             "startlinecolor": "#2a3f5f"
            },
            "baxis": {
             "endlinecolor": "#2a3f5f",
             "gridcolor": "white",
             "linecolor": "white",
             "minorgridcolor": "white",
             "startlinecolor": "#2a3f5f"
            },
            "type": "carpet"
           }
          ],
          "choropleth": [
           {
            "colorbar": {
             "outlinewidth": 0,
             "ticks": ""
            },
            "type": "choropleth"
           }
          ],
          "contour": [
           {
            "colorbar": {
             "outlinewidth": 0,
             "ticks": ""
            },
            "colorscale": [
             [
              0,
              "#0d0887"
             ],
             [
              0.1111111111111111,
              "#46039f"
             ],
             [
              0.2222222222222222,
              "#7201a8"
             ],
             [
              0.3333333333333333,
              "#9c179e"
             ],
             [
              0.4444444444444444,
              "#bd3786"
             ],
             [
              0.5555555555555556,
              "#d8576b"
             ],
             [
              0.6666666666666666,
              "#ed7953"
             ],
             [
              0.7777777777777778,
              "#fb9f3a"
             ],
             [
              0.8888888888888888,
              "#fdca26"
             ],
             [
              1,
              "#f0f921"
             ]
            ],
            "type": "contour"
           }
          ],
          "contourcarpet": [
           {
            "colorbar": {
             "outlinewidth": 0,
             "ticks": ""
            },
            "type": "contourcarpet"
           }
          ],
          "heatmap": [
           {
            "colorbar": {
             "outlinewidth": 0,
             "ticks": ""
            },
            "colorscale": [
             [
              0,
              "#0d0887"
             ],
             [
              0.1111111111111111,
              "#46039f"
             ],
             [
              0.2222222222222222,
              "#7201a8"
             ],
             [
              0.3333333333333333,
              "#9c179e"
             ],
             [
              0.4444444444444444,
              "#bd3786"
             ],
             [
              0.5555555555555556,
              "#d8576b"
             ],
             [
              0.6666666666666666,
              "#ed7953"
             ],
             [
              0.7777777777777778,
              "#fb9f3a"
             ],
             [
              0.8888888888888888,
              "#fdca26"
             ],
             [
              1,
              "#f0f921"
             ]
            ],
            "type": "heatmap"
           }
          ],
          "heatmapgl": [
           {
            "colorbar": {
             "outlinewidth": 0,
             "ticks": ""
            },
            "colorscale": [
             [
              0,
              "#0d0887"
             ],
             [
              0.1111111111111111,
              "#46039f"
             ],
             [
              0.2222222222222222,
              "#7201a8"
             ],
             [
              0.3333333333333333,
              "#9c179e"
             ],
             [
              0.4444444444444444,
              "#bd3786"
             ],
             [
              0.5555555555555556,
              "#d8576b"
             ],
             [
              0.6666666666666666,
              "#ed7953"
             ],
             [
              0.7777777777777778,
              "#fb9f3a"
             ],
             [
              0.8888888888888888,
              "#fdca26"
             ],
             [
              1,
              "#f0f921"
             ]
            ],
            "type": "heatmapgl"
           }
          ],
          "histogram": [
           {
            "marker": {
             "pattern": {
              "fillmode": "overlay",
              "size": 10,
              "solidity": 0.2
             }
            },
            "type": "histogram"
           }
          ],
          "histogram2d": [
           {
            "colorbar": {
             "outlinewidth": 0,
             "ticks": ""
            },
            "colorscale": [
             [
              0,
              "#0d0887"
             ],
             [
              0.1111111111111111,
              "#46039f"
             ],
             [
              0.2222222222222222,
              "#7201a8"
             ],
             [
              0.3333333333333333,
              "#9c179e"
             ],
             [
              0.4444444444444444,
              "#bd3786"
             ],
             [
              0.5555555555555556,
              "#d8576b"
             ],
             [
              0.6666666666666666,
              "#ed7953"
             ],
             [
              0.7777777777777778,
              "#fb9f3a"
             ],
             [
              0.8888888888888888,
              "#fdca26"
             ],
             [
              1,
              "#f0f921"
             ]
            ],
            "type": "histogram2d"
           }
          ],
          "histogram2dcontour": [
           {
            "colorbar": {
             "outlinewidth": 0,
             "ticks": ""
            },
            "colorscale": [
             [
              0,
              "#0d0887"
             ],
             [
              0.1111111111111111,
              "#46039f"
             ],
             [
              0.2222222222222222,
              "#7201a8"
             ],
             [
              0.3333333333333333,
              "#9c179e"
             ],
             [
              0.4444444444444444,
              "#bd3786"
             ],
             [
              0.5555555555555556,
              "#d8576b"
             ],
             [
              0.6666666666666666,
              "#ed7953"
             ],
             [
              0.7777777777777778,
              "#fb9f3a"
             ],
             [
              0.8888888888888888,
              "#fdca26"
             ],
             [
              1,
              "#f0f921"
             ]
            ],
            "type": "histogram2dcontour"
           }
          ],
          "mesh3d": [
           {
            "colorbar": {
             "outlinewidth": 0,
             "ticks": ""
            },
            "type": "mesh3d"
           }
          ],
          "parcoords": [
           {
            "line": {
             "colorbar": {
              "outlinewidth": 0,
              "ticks": ""
             }
            },
            "type": "parcoords"
           }
          ],
          "pie": [
           {
            "automargin": true,
            "type": "pie"
           }
          ],
          "scatter": [
           {
            "fillpattern": {
             "fillmode": "overlay",
             "size": 10,
             "solidity": 0.2
            },
            "type": "scatter"
           }
          ],
          "scatter3d": [
           {
            "line": {
             "colorbar": {
              "outlinewidth": 0,
              "ticks": ""
             }
            },
            "marker": {
             "colorbar": {
              "outlinewidth": 0,
              "ticks": ""
             }
            },
            "type": "scatter3d"
           }
          ],
          "scattercarpet": [
           {
            "marker": {
             "colorbar": {
              "outlinewidth": 0,
              "ticks": ""
             }
            },
            "type": "scattercarpet"
           }
          ],
          "scattergeo": [
           {
            "marker": {
             "colorbar": {
              "outlinewidth": 0,
              "ticks": ""
             }
            },
            "type": "scattergeo"
           }
          ],
          "scattergl": [
           {
            "marker": {
             "colorbar": {
              "outlinewidth": 0,
              "ticks": ""
             }
            },
            "type": "scattergl"
           }
          ],
          "scattermapbox": [
           {
            "marker": {
             "colorbar": {
              "outlinewidth": 0,
              "ticks": ""
             }
            },
            "type": "scattermapbox"
           }
          ],
          "scatterpolar": [
           {
            "marker": {
             "colorbar": {
              "outlinewidth": 0,
              "ticks": ""
             }
            },
            "type": "scatterpolar"
           }
          ],
          "scatterpolargl": [
           {
            "marker": {
             "colorbar": {
              "outlinewidth": 0,
              "ticks": ""
             }
            },
            "type": "scatterpolargl"
           }
          ],
          "scatterternary": [
           {
            "marker": {
             "colorbar": {
              "outlinewidth": 0,
              "ticks": ""
             }
            },
            "type": "scatterternary"
           }
          ],
          "surface": [
           {
            "colorbar": {
             "outlinewidth": 0,
             "ticks": ""
            },
            "colorscale": [
             [
              0,
              "#0d0887"
             ],
             [
              0.1111111111111111,
              "#46039f"
             ],
             [
              0.2222222222222222,
              "#7201a8"
             ],
             [
              0.3333333333333333,
              "#9c179e"
             ],
             [
              0.4444444444444444,
              "#bd3786"
             ],
             [
              0.5555555555555556,
              "#d8576b"
             ],
             [
              0.6666666666666666,
              "#ed7953"
             ],
             [
              0.7777777777777778,
              "#fb9f3a"
             ],
             [
              0.8888888888888888,
              "#fdca26"
             ],
             [
              1,
              "#f0f921"
             ]
            ],
            "type": "surface"
           }
          ],
          "table": [
           {
            "cells": {
             "fill": {
              "color": "#EBF0F8"
             },
             "line": {
              "color": "white"
             }
            },
            "header": {
             "fill": {
              "color": "#C8D4E3"
             },
             "line": {
              "color": "white"
             }
            },
            "type": "table"
           }
          ]
         },
         "layout": {
          "annotationdefaults": {
           "arrowcolor": "#2a3f5f",
           "arrowhead": 0,
           "arrowwidth": 1
          },
          "autotypenumbers": "strict",
          "coloraxis": {
           "colorbar": {
            "outlinewidth": 0,
            "ticks": ""
           }
          },
          "colorscale": {
           "diverging": [
            [
             0,
             "#8e0152"
            ],
            [
             0.1,
             "#c51b7d"
            ],
            [
             0.2,
             "#de77ae"
            ],
            [
             0.3,
             "#f1b6da"
            ],
            [
             0.4,
             "#fde0ef"
            ],
            [
             0.5,
             "#f7f7f7"
            ],
            [
             0.6,
             "#e6f5d0"
            ],
            [
             0.7,
             "#b8e186"
            ],
            [
             0.8,
             "#7fbc41"
            ],
            [
             0.9,
             "#4d9221"
            ],
            [
             1,
             "#276419"
            ]
           ],
           "sequential": [
            [
             0,
             "#0d0887"
            ],
            [
             0.1111111111111111,
             "#46039f"
            ],
            [
             0.2222222222222222,
             "#7201a8"
            ],
            [
             0.3333333333333333,
             "#9c179e"
            ],
            [
             0.4444444444444444,
             "#bd3786"
            ],
            [
             0.5555555555555556,
             "#d8576b"
            ],
            [
             0.6666666666666666,
             "#ed7953"
            ],
            [
             0.7777777777777778,
             "#fb9f3a"
            ],
            [
             0.8888888888888888,
             "#fdca26"
            ],
            [
             1,
             "#f0f921"
            ]
           ],
           "sequentialminus": [
            [
             0,
             "#0d0887"
            ],
            [
             0.1111111111111111,
             "#46039f"
            ],
            [
             0.2222222222222222,
             "#7201a8"
            ],
            [
             0.3333333333333333,
             "#9c179e"
            ],
            [
             0.4444444444444444,
             "#bd3786"
            ],
            [
             0.5555555555555556,
             "#d8576b"
            ],
            [
             0.6666666666666666,
             "#ed7953"
            ],
            [
             0.7777777777777778,
             "#fb9f3a"
            ],
            [
             0.8888888888888888,
             "#fdca26"
            ],
            [
             1,
             "#f0f921"
            ]
           ]
          },
          "colorway": [
           "#636efa",
           "#EF553B",
           "#00cc96",
           "#ab63fa",
           "#FFA15A",
           "#19d3f3",
           "#FF6692",
           "#B6E880",
           "#FF97FF",
           "#FECB52"
          ],
          "font": {
           "color": "#2a3f5f"
          },
          "geo": {
           "bgcolor": "white",
           "lakecolor": "white",
           "landcolor": "#E5ECF6",
           "showlakes": true,
           "showland": true,
           "subunitcolor": "white"
          },
          "hoverlabel": {
           "align": "left"
          },
          "hovermode": "closest",
          "mapbox": {
           "style": "light"
          },
          "paper_bgcolor": "white",
          "plot_bgcolor": "#E5ECF6",
          "polar": {
           "angularaxis": {
            "gridcolor": "white",
            "linecolor": "white",
            "ticks": ""
           },
           "bgcolor": "#E5ECF6",
           "radialaxis": {
            "gridcolor": "white",
            "linecolor": "white",
            "ticks": ""
           }
          },
          "scene": {
           "xaxis": {
            "backgroundcolor": "#E5ECF6",
            "gridcolor": "white",
            "gridwidth": 2,
            "linecolor": "white",
            "showbackground": true,
            "ticks": "",
            "zerolinecolor": "white"
           },
           "yaxis": {
            "backgroundcolor": "#E5ECF6",
            "gridcolor": "white",
            "gridwidth": 2,
            "linecolor": "white",
            "showbackground": true,
            "ticks": "",
            "zerolinecolor": "white"
           },
           "zaxis": {
            "backgroundcolor": "#E5ECF6",
            "gridcolor": "white",
            "gridwidth": 2,
            "linecolor": "white",
            "showbackground": true,
            "ticks": "",
            "zerolinecolor": "white"
           }
          },
          "shapedefaults": {
           "line": {
            "color": "#2a3f5f"
           }
          },
          "ternary": {
           "aaxis": {
            "gridcolor": "white",
            "linecolor": "white",
            "ticks": ""
           },
           "baxis": {
            "gridcolor": "white",
            "linecolor": "white",
            "ticks": ""
           },
           "bgcolor": "#E5ECF6",
           "caxis": {
            "gridcolor": "white",
            "linecolor": "white",
            "ticks": ""
           }
          },
          "title": {
           "x": 0.05
          },
          "xaxis": {
           "automargin": true,
           "gridcolor": "white",
           "linecolor": "white",
           "ticks": "",
           "title": {
            "standoff": 15
           },
           "zerolinecolor": "white",
           "zerolinewidth": 2
          },
          "yaxis": {
           "automargin": true,
           "gridcolor": "white",
           "linecolor": "white",
           "ticks": "",
           "title": {
            "standoff": 15
           },
           "zerolinecolor": "white",
           "zerolinewidth": 2
          }
         }
        },
        "title": {
         "text": "Attn Head Output (Last Pos)"
        },
        "xaxis": {
         "anchor": "y",
         "domain": [
          0,
          1
         ],
         "title": {
          "text": "Head"
         }
        },
        "yaxis": {
         "anchor": "x",
         "autorange": "reversed",
         "domain": [
          0,
          1
         ],
         "title": {
          "text": "Layer"
         }
        }
       }
      },
      "text/html": [
       "<div>                            <div id=\"919a6bae-e6a2-43ab-b375-0709c300137e\" class=\"plotly-graph-div\" style=\"height:525px; width:100%;\"></div>            <script type=\"text/javascript\">                require([\"plotly\"], function(Plotly) {                    window.PLOTLYENV=window.PLOTLYENV || {};                                    if (document.getElementById(\"919a6bae-e6a2-43ab-b375-0709c300137e\")) {                    Plotly.newPlot(                        \"919a6bae-e6a2-43ab-b375-0709c300137e\",                        [{\"coloraxis\":\"coloraxis\",\"name\":\"0\",\"x\":[\"0\",\"1\",\"2\",\"3\",\"4\",\"5\",\"6\",\"7\",\"8\",\"9\",\"10\",\"11\",\"12\",\"13\",\"14\",\"15\"],\"y\":[\"27\",\"26\",\"25\",\"24\",\"23\",\"22\",\"21\",\"20\",\"19\",\"18\",\"17\",\"16\",\"15\",\"14\",\"13\",\"12\",\"11\",\"10\",\"9\",\"8\",\"7\",\"6\",\"5\",\"4\",\"3\",\"2\",\"1\",\"0\"],\"z\":[[-0.006959749385714531,0.000292665499728173,-0.008168699219822884,0.0008348062401637435,-0.006033990532159805,0.0012404847657307982,-0.005769611336290836,0.0027988755609840155,-0.004402075428515673,-0.0010186623549088836,0.00029734321287833154,-0.0007597757503390312,0.0024979987647384405,-0.0026633068919181824,-0.0010660924017429352,-0.01181237306445837],[0.00011010002344846725,0.017715802416205406,0.0003739719686564058,0.0033360011875629425,-0.0003317464143037796,-0.0004165247082710266,0.011998748406767845,-0.003694809740409255,-0.0013612861512228847,0.002335513010621071,-0.002068805042654276,-0.00014449501759372652,0.0004487366823013872,-0.0003012418746948242,0.0026071600150316954,0.006725722458213568],[-2.259264510939829e-05,-0.0002781134098768234,-0.0010960591025650501,-0.005026395432651043,0.004234770312905312,0.00028352317167446017,0.0016896647866815329,0.0011206617346033454,0.0047132959589362144,-0.00033106282353401184,0.06315644085407257,-0.016314208507537842,0.0009365733712911606,-0.004011677112430334,0.0021154682617634535,-0.0001962327805813402],[0.10338695347309113,0.00042742182267829776,0.0004910625284537673,0.0005646903882734478,-0.00042845215648412704,1.6571953892707825e-05,0.0002896822988986969,-0.0013173753395676613,0.0028857747092843056,0.13011318445205688,-0.00010394429409643635,7.56612716941163e-05,0.002966884523630142,-0.0005829539149999619,-3.4937016607727855e-05,-0.00027423197752796113],[0.00013115878391545266,0.006381649523973465,-0.0014942307025194168,0.0003268544969614595,-0.0005994873936288059,0.0011215906124562025,0.0005538919940590858,-0.004452141933143139,-0.0004892060533165932,-0.0012135535944253206,-5.382796371122822e-05,0.013486187905073166,0.0314447283744812,-0.006639384664595127,-0.001425200141966343,-0.007676066365092993],[0.0016681754495948553,-0.00022107518452685326,0.0007965431432239711,0.00020510486501734704,-0.0022828178480267525,-0.0032027717679739,0.43059003353118896,-4.843808710575104e-05,0.0014232723042368889,-0.001828464213758707,-0.00022650262690149248,0.0001080806105164811,-0.0003534999559633434,-0.0008927034214138985,8.626251656096429e-05,-0.0016641027759760618],[-0.0002365611435379833,0.00045359384967014194,-0.00014761401689611375,-0.0009427014738321304,0.0004549240693449974,-0.00043704299605451524,-5.537644028663635e-06,-0.0030345814302563667,-0.0005299579352140427,0.0002939518017228693,-0.001445296686142683,0.0005672170664183795,0.001112202531658113,-0.0029896278865635395,0.0004895729944109917,0.001038905931636691],[-0.0011764403898268938,0.002333017997443676,-0.0001322682946920395,-0.0018563468474894762,-0.0003379201516509056,-4.7725938202347606e-05,-0.0011133868247270584,0.0008124023443087935,0.0006054236437194049,0.001933362102136016,0.00028420178568921983,0.0008154347306117415,0.00017613451927900314,-0.0003987619129475206,-0.0007990965386852622,0.00020333006978034973],[0.00015251711010932922,0.002039112616330385,-0.0009309981833212078,-0.0027663158252835274,-0.0025594134349375963,0.005423801951110363,0.0002232740371255204,-0.00014137415564619005,-0.0007088963757269084,0.0008283304050564766,0.00011723706120392308,-0.0040656207129359245,0.003959887195378542,0.002622968051582575,0.0014019457157701254,0.0014665721682831645],[-0.00017113704234361649,-0.00013340296573005617,0.0018618626054376364,0.00033669639378786087,-0.0005928262835368514,-0.0003791091439779848,0.00037426254129968584,-0.0006305982242338359,-0.0006528037483803928,-0.0006234226748347282,0.00013532614684663713,8.701455953996629e-05,0.07999386638402939,-0.00018367357552051544,0.0004985338891856372,0.0072464533150196075],[0.0036995026748627424,0.002444308251142502,0.00028594303876161575,0.001858305186033249,0.0019210828468203545,-0.005227692425251007,0.00040056556463241577,-0.001164386048913002,-0.0012971957912668586,0.0026937900111079216,-0.0007614888017997146,0.0037369641941040754,0.006306680850684643,0.001238260418176651,0.0004589117015711963,0.009730350226163864],[-0.0012373924255371094,-0.0001438626495655626,-0.0014484068378806114,2.741751632129308e-05,0.0007987022399902344,-0.0018780085956677794,0.000559397682081908,0.00015425434685312212,0.0011478327214717865,0.002362883649766445,-0.0002621253952383995,0.0006269309669733047,-0.0001306127232965082,-0.0020521837286651134,0.0004872872377745807,-0.0006879825959913433],[0.0016565759433433414,-0.004383529536426067,-0.0011170528596267104,0.0008787373080849648,0.0008622591267339885,0.000211973994737491,-0.002195275854319334,-3.7872854591114447e-05,-0.0004332037642598152,0.007860396057367325,-0.0002951237256638706,-0.00016843093908391893,0.0015632153954356909,-0.00017022714018821716,0.000649144290946424,0.0011238710721954703],[-1.0994262993335724e-05,2.4036195100052282e-05,-7.987178105395287e-05,-5.4459400416817516e-05,-0.0006204089149832726,-0.0002613657561596483,-0.0010508078848943114,-0.0001469248381908983,0.00090742640895769,0.003064539283514023,0.00024105608463287354,-0.00037251258618198335,0.0034873150289058685,0.0030895040836185217,-0.0029474736656993628,5.565894298342755e-06],[-0.0013197208754718304,-0.0012677235063165426,-0.00041184481233358383,2.7481777578941546e-05,-0.0023841490037739277,-0.0004358555597718805,0.002364774700254202,0.0002829603326972574,-0.00030654342845082283,-0.0019699546974152327,-0.0017840021755546331,0.0005601855809800327,-0.0002108899352606386,-0.004877119790762663,0.00021535562700591981,-0.0010841841576620936],[0.002938927849754691,-0.0015861907741054893,0.002693681512027979,0.0006397950346581638,0.0002084365114569664,-0.0012041785521432757,-0.0010074622696265578,0.0020513972267508507,-0.0005812586168758571,-0.001774965669028461,0.00010722565639298409,0.0007538773934356868,-0.0006961965700611472,-0.0005467428709380329,-0.00207838648930192,0.0040900553576648235],[0.0007121643866412342,-0.00045974491513334215,-0.0024476214312016964,-7.365923374891281e-05,0.001638824469409883,0.001404140843078494,-0.0014644268667325377,0.00033490610076114535,0.0008417976787313819,0.0023747493978589773,0.006489319261163473,0.0010931454598903656,0.00019194807100575417,7.383059710264206e-05,0.0023314966820180416,0.0012700064107775688],[0.00040204450488090515,0.00016208055603783578,2.0106634110561572e-05,-0.00033041773713193834,0.0018530524102970958,3.50060872733593e-05,0.004453720059245825,0.00047041894868016243,-0.001535629271529615,-0.0038222125731408596,-0.0011893545743077993,0.0002870879543479532,0.0061853984370827675,1.2905647963634692e-05,-0.0006085218628868461,0.00032553295022808015],[-9.47713851928711e-06,0.0005607688799500465,-8.355345198651776e-05,0.00036049154005013406,-0.00042770401341840625,-0.0027051332872360945,-0.0009466082556173205,0.0003163709188811481,0.0012139510363340378,-0.000749447732232511,1.2315499589021783e-05,-0.0014536716043949127,-0.0003652206505648792,-0.0009497432038187981,0.0006618056213483214,-0.00023204772151075304],[7.537752389907837e-05,0.0004658407415263355,4.8796337068779394e-05,0.00035132779157720506,-0.00027753631002269685,0.0004013351572211832,-0.00010854720312636346,0.0007704989984631538,0.0003298989904578775,0.0013560261577367783,0.0012841473799198866,0.00017864195979200304,-0.000232781283557415,-0.00026781330234371126,-0.00046330722398124635,-0.0016722771106287837],[-0.0015530264936387539,2.8894593924633227e-05,-0.00206173537299037,0.0008914009667932987,-0.0004991585155948997,0.0004034927114844322,0.003671560902148485,-1.981481909751892e-05,0.001990026794373989,-0.0027986278291791677,-0.0013607251457870007,0.0009738799999468029,-0.001550703076645732,-0.0011175436666235328,7.813051342964172e-05,0.0003256562049500644],[0.001490485854446888,0.0008185124024748802,-0.0003509712405502796,0.0008766081882640719,-0.001558541669510305,0.0013082775985822082,-0.001075587933883071,-0.003269648877903819,0.0002863717672880739,-0.001029609120450914,0.00022451735276263207,0.00013636673975270241,-0.0038018114864826202,-0.00035475133336149156,0.00020462989050429314,0.0031049419194459915],[-2.039472383330576e-05,0.00035667483462020755,-9.437402468392975e-07,0.0002561227302066982,-0.00013791242963634431,0.00027015371597371995,0.0009771441109478474,-0.0008325704257003963,0.0021671648137271404,-0.00023955821234267205,0.0009046103805303574,0.002342679537832737,0.0020836328621953726,-0.0008482278208248317,-0.00037676142528653145,-0.00011292193084955215],[0.000831448647659272,-0.001172371907159686,0.0006168062682263553,-0.0006027377094142139,7.128374272724614e-05,3.152465069433674e-05,-0.000549524265807122,-0.002123345388099551,-0.0017298711463809013,-0.0012301113456487656,0.00039459517574869096,0.0021719865035265684,-0.00039985435432754457,-0.00027468366897664964,0.0003945490752812475,2.1235086023807526e-05],[-0.0006452162633650005,0.001382271060720086,-0.0002883800189010799,0.0009094669367186725,-0.00094484759029001,-0.0004129549488425255,0.0001752600073814392,-0.001237496268004179,0.00039431671029888093,0.0002624172193463892,0.0003011869266629219,0.00010013394057750702,0.0003028716892004013,0.0009339600801467896,0.0002896161749958992,0.0001281102595385164],[-0.0009002552251331508,-0.00017527460295241326,0.0007814510609023273,-0.00042552128434181213,-5.383665666158777e-06,9.034760296344757e-06,0.001275016926229,0.0002170704974560067,-0.000509072735439986,-0.0005254025454632938,2.1044164896011353e-05,0.000638143508695066,2.437892180751078e-05,-9.146302181761712e-05,-2.7976309866062365e-05,4.3970844672003295e-06],[5.585886538028717e-05,-0.00013949660933576524,-5.524357402464375e-05,-9.053138637682423e-05,7.95607193140313e-05,-0.0007286671316251159,-0.00020802332437597215,-0.0006193043664097786,-0.0014565277379006147,-0.00011416835332056507,-0.0008249003440141678,0.00015993199485819787,-0.0011564670130610466,0.000447065889602527,-5.7388097047805786e-05,0.00012129576498409733],[-0.00020338315516710281,-0.0003269072622060776,-1.9309422327751236e-07,8.263936251751147e-06,-1.0244548320770264e-08,0.00014369035488925874,-7.847044616937637e-05,4.221995908437748e-08,0.0004121052916161716,-7.155444473028183e-05,3.0097241960902466e-06,-0.0004420652985572815,0.00031412113457918167,-2.881946784327738e-05,-1.4950211152608972e-05,-2.6967687517753802e-05]],\"type\":\"heatmap\",\"xaxis\":\"x\",\"yaxis\":\"y\",\"hovertemplate\":\"x: %{x}\\u003cbr\\u003ey: %{y}\\u003cbr\\u003ecolor: %{z}\\u003cextra\\u003e\\u003c\\u002fextra\\u003e\"}],                        {\"template\":{\"data\":{\"histogram2dcontour\":[{\"type\":\"histogram2dcontour\",\"colorbar\":{\"outlinewidth\":0,\"ticks\":\"\"},\"colorscale\":[[0.0,\"#0d0887\"],[0.1111111111111111,\"#46039f\"],[0.2222222222222222,\"#7201a8\"],[0.3333333333333333,\"#9c179e\"],[0.4444444444444444,\"#bd3786\"],[0.5555555555555556,\"#d8576b\"],[0.6666666666666666,\"#ed7953\"],[0.7777777777777778,\"#fb9f3a\"],[0.8888888888888888,\"#fdca26\"],[1.0,\"#f0f921\"]]}],\"choropleth\":[{\"type\":\"choropleth\",\"colorbar\":{\"outlinewidth\":0,\"ticks\":\"\"}}],\"histogram2d\":[{\"type\":\"histogram2d\",\"colorbar\":{\"outlinewidth\":0,\"ticks\":\"\"},\"colorscale\":[[0.0,\"#0d0887\"],[0.1111111111111111,\"#46039f\"],[0.2222222222222222,\"#7201a8\"],[0.3333333333333333,\"#9c179e\"],[0.4444444444444444,\"#bd3786\"],[0.5555555555555556,\"#d8576b\"],[0.6666666666666666,\"#ed7953\"],[0.7777777777777778,\"#fb9f3a\"],[0.8888888888888888,\"#fdca26\"],[1.0,\"#f0f921\"]]}],\"heatmap\":[{\"type\":\"heatmap\",\"colorbar\":{\"outlinewidth\":0,\"ticks\":\"\"},\"colorscale\":[[0.0,\"#0d0887\"],[0.1111111111111111,\"#46039f\"],[0.2222222222222222,\"#7201a8\"],[0.3333333333333333,\"#9c179e\"],[0.4444444444444444,\"#bd3786\"],[0.5555555555555556,\"#d8576b\"],[0.6666666666666666,\"#ed7953\"],[0.7777777777777778,\"#fb9f3a\"],[0.8888888888888888,\"#fdca26\"],[1.0,\"#f0f921\"]]}],\"heatmapgl\":[{\"type\":\"heatmapgl\",\"colorbar\":{\"outlinewidth\":0,\"ticks\":\"\"},\"colorscale\":[[0.0,\"#0d0887\"],[0.1111111111111111,\"#46039f\"],[0.2222222222222222,\"#7201a8\"],[0.3333333333333333,\"#9c179e\"],[0.4444444444444444,\"#bd3786\"],[0.5555555555555556,\"#d8576b\"],[0.6666666666666666,\"#ed7953\"],[0.7777777777777778,\"#fb9f3a\"],[0.8888888888888888,\"#fdca26\"],[1.0,\"#f0f921\"]]}],\"contourcarpet\":[{\"type\":\"contourcarpet\",\"colorbar\":{\"outlinewidth\":0,\"ticks\":\"\"}}],\"contour\":[{\"type\":\"contour\",\"colorbar\":{\"outlinewidth\":0,\"ticks\":\"\"},\"colorscale\":[[0.0,\"#0d0887\"],[0.1111111111111111,\"#46039f\"],[0.2222222222222222,\"#7201a8\"],[0.3333333333333333,\"#9c179e\"],[0.4444444444444444,\"#bd3786\"],[0.5555555555555556,\"#d8576b\"],[0.6666666666666666,\"#ed7953\"],[0.7777777777777778,\"#fb9f3a\"],[0.8888888888888888,\"#fdca26\"],[1.0,\"#f0f921\"]]}],\"surface\":[{\"type\":\"surface\",\"colorbar\":{\"outlinewidth\":0,\"ticks\":\"\"},\"colorscale\":[[0.0,\"#0d0887\"],[0.1111111111111111,\"#46039f\"],[0.2222222222222222,\"#7201a8\"],[0.3333333333333333,\"#9c179e\"],[0.4444444444444444,\"#bd3786\"],[0.5555555555555556,\"#d8576b\"],[0.6666666666666666,\"#ed7953\"],[0.7777777777777778,\"#fb9f3a\"],[0.8888888888888888,\"#fdca26\"],[1.0,\"#f0f921\"]]}],\"mesh3d\":[{\"type\":\"mesh3d\",\"colorbar\":{\"outlinewidth\":0,\"ticks\":\"\"}}],\"scatter\":[{\"fillpattern\":{\"fillmode\":\"overlay\",\"size\":10,\"solidity\":0.2},\"type\":\"scatter\"}],\"parcoords\":[{\"type\":\"parcoords\",\"line\":{\"colorbar\":{\"outlinewidth\":0,\"ticks\":\"\"}}}],\"scatterpolargl\":[{\"type\":\"scatterpolargl\",\"marker\":{\"colorbar\":{\"outlinewidth\":0,\"ticks\":\"\"}}}],\"bar\":[{\"error_x\":{\"color\":\"#2a3f5f\"},\"error_y\":{\"color\":\"#2a3f5f\"},\"marker\":{\"line\":{\"color\":\"#E5ECF6\",\"width\":0.5},\"pattern\":{\"fillmode\":\"overlay\",\"size\":10,\"solidity\":0.2}},\"type\":\"bar\"}],\"scattergeo\":[{\"type\":\"scattergeo\",\"marker\":{\"colorbar\":{\"outlinewidth\":0,\"ticks\":\"\"}}}],\"scatterpolar\":[{\"type\":\"scatterpolar\",\"marker\":{\"colorbar\":{\"outlinewidth\":0,\"ticks\":\"\"}}}],\"histogram\":[{\"marker\":{\"pattern\":{\"fillmode\":\"overlay\",\"size\":10,\"solidity\":0.2}},\"type\":\"histogram\"}],\"scattergl\":[{\"type\":\"scattergl\",\"marker\":{\"colorbar\":{\"outlinewidth\":0,\"ticks\":\"\"}}}],\"scatter3d\":[{\"type\":\"scatter3d\",\"line\":{\"colorbar\":{\"outlinewidth\":0,\"ticks\":\"\"}},\"marker\":{\"colorbar\":{\"outlinewidth\":0,\"ticks\":\"\"}}}],\"scattermapbox\":[{\"type\":\"scattermapbox\",\"marker\":{\"colorbar\":{\"outlinewidth\":0,\"ticks\":\"\"}}}],\"scatterternary\":[{\"type\":\"scatterternary\",\"marker\":{\"colorbar\":{\"outlinewidth\":0,\"ticks\":\"\"}}}],\"scattercarpet\":[{\"type\":\"scattercarpet\",\"marker\":{\"colorbar\":{\"outlinewidth\":0,\"ticks\":\"\"}}}],\"carpet\":[{\"aaxis\":{\"endlinecolor\":\"#2a3f5f\",\"gridcolor\":\"white\",\"linecolor\":\"white\",\"minorgridcolor\":\"white\",\"startlinecolor\":\"#2a3f5f\"},\"baxis\":{\"endlinecolor\":\"#2a3f5f\",\"gridcolor\":\"white\",\"linecolor\":\"white\",\"minorgridcolor\":\"white\",\"startlinecolor\":\"#2a3f5f\"},\"type\":\"carpet\"}],\"table\":[{\"cells\":{\"fill\":{\"color\":\"#EBF0F8\"},\"line\":{\"color\":\"white\"}},\"header\":{\"fill\":{\"color\":\"#C8D4E3\"},\"line\":{\"color\":\"white\"}},\"type\":\"table\"}],\"barpolar\":[{\"marker\":{\"line\":{\"color\":\"#E5ECF6\",\"width\":0.5},\"pattern\":{\"fillmode\":\"overlay\",\"size\":10,\"solidity\":0.2}},\"type\":\"barpolar\"}],\"pie\":[{\"automargin\":true,\"type\":\"pie\"}]},\"layout\":{\"autotypenumbers\":\"strict\",\"colorway\":[\"#636efa\",\"#EF553B\",\"#00cc96\",\"#ab63fa\",\"#FFA15A\",\"#19d3f3\",\"#FF6692\",\"#B6E880\",\"#FF97FF\",\"#FECB52\"],\"font\":{\"color\":\"#2a3f5f\"},\"hovermode\":\"closest\",\"hoverlabel\":{\"align\":\"left\"},\"paper_bgcolor\":\"white\",\"plot_bgcolor\":\"#E5ECF6\",\"polar\":{\"bgcolor\":\"#E5ECF6\",\"angularaxis\":{\"gridcolor\":\"white\",\"linecolor\":\"white\",\"ticks\":\"\"},\"radialaxis\":{\"gridcolor\":\"white\",\"linecolor\":\"white\",\"ticks\":\"\"}},\"ternary\":{\"bgcolor\":\"#E5ECF6\",\"aaxis\":{\"gridcolor\":\"white\",\"linecolor\":\"white\",\"ticks\":\"\"},\"baxis\":{\"gridcolor\":\"white\",\"linecolor\":\"white\",\"ticks\":\"\"},\"caxis\":{\"gridcolor\":\"white\",\"linecolor\":\"white\",\"ticks\":\"\"}},\"coloraxis\":{\"colorbar\":{\"outlinewidth\":0,\"ticks\":\"\"}},\"colorscale\":{\"sequential\":[[0.0,\"#0d0887\"],[0.1111111111111111,\"#46039f\"],[0.2222222222222222,\"#7201a8\"],[0.3333333333333333,\"#9c179e\"],[0.4444444444444444,\"#bd3786\"],[0.5555555555555556,\"#d8576b\"],[0.6666666666666666,\"#ed7953\"],[0.7777777777777778,\"#fb9f3a\"],[0.8888888888888888,\"#fdca26\"],[1.0,\"#f0f921\"]],\"sequentialminus\":[[0.0,\"#0d0887\"],[0.1111111111111111,\"#46039f\"],[0.2222222222222222,\"#7201a8\"],[0.3333333333333333,\"#9c179e\"],[0.4444444444444444,\"#bd3786\"],[0.5555555555555556,\"#d8576b\"],[0.6666666666666666,\"#ed7953\"],[0.7777777777777778,\"#fb9f3a\"],[0.8888888888888888,\"#fdca26\"],[1.0,\"#f0f921\"]],\"diverging\":[[0,\"#8e0152\"],[0.1,\"#c51b7d\"],[0.2,\"#de77ae\"],[0.3,\"#f1b6da\"],[0.4,\"#fde0ef\"],[0.5,\"#f7f7f7\"],[0.6,\"#e6f5d0\"],[0.7,\"#b8e186\"],[0.8,\"#7fbc41\"],[0.9,\"#4d9221\"],[1,\"#276419\"]]},\"xaxis\":{\"gridcolor\":\"white\",\"linecolor\":\"white\",\"ticks\":\"\",\"title\":{\"standoff\":15},\"zerolinecolor\":\"white\",\"automargin\":true,\"zerolinewidth\":2},\"yaxis\":{\"gridcolor\":\"white\",\"linecolor\":\"white\",\"ticks\":\"\",\"title\":{\"standoff\":15},\"zerolinecolor\":\"white\",\"automargin\":true,\"zerolinewidth\":2},\"scene\":{\"xaxis\":{\"backgroundcolor\":\"#E5ECF6\",\"gridcolor\":\"white\",\"linecolor\":\"white\",\"showbackground\":true,\"ticks\":\"\",\"zerolinecolor\":\"white\",\"gridwidth\":2},\"yaxis\":{\"backgroundcolor\":\"#E5ECF6\",\"gridcolor\":\"white\",\"linecolor\":\"white\",\"showbackground\":true,\"ticks\":\"\",\"zerolinecolor\":\"white\",\"gridwidth\":2},\"zaxis\":{\"backgroundcolor\":\"#E5ECF6\",\"gridcolor\":\"white\",\"linecolor\":\"white\",\"showbackground\":true,\"ticks\":\"\",\"zerolinecolor\":\"white\",\"gridwidth\":2}},\"shapedefaults\":{\"line\":{\"color\":\"#2a3f5f\"}},\"annotationdefaults\":{\"arrowcolor\":\"#2a3f5f\",\"arrowhead\":0,\"arrowwidth\":1},\"geo\":{\"bgcolor\":\"white\",\"landcolor\":\"#E5ECF6\",\"subunitcolor\":\"white\",\"showland\":true,\"showlakes\":true,\"lakecolor\":\"white\"},\"title\":{\"x\":0.05},\"mapbox\":{\"style\":\"light\"}}},\"xaxis\":{\"anchor\":\"y\",\"domain\":[0.0,1.0],\"title\":{\"text\":\"Head\"}},\"yaxis\":{\"anchor\":\"x\",\"domain\":[0.0,1.0],\"autorange\":\"reversed\",\"title\":{\"text\":\"Layer\"}},\"coloraxis\":{\"colorscale\":[[0.0,\"rgb(103,0,31)\"],[0.1,\"rgb(178,24,43)\"],[0.2,\"rgb(214,96,77)\"],[0.3,\"rgb(244,165,130)\"],[0.4,\"rgb(253,219,199)\"],[0.5,\"rgb(247,247,247)\"],[0.6,\"rgb(209,229,240)\"],[0.7,\"rgb(146,197,222)\"],[0.8,\"rgb(67,147,195)\"],[0.9,\"rgb(33,102,172)\"],[1.0,\"rgb(5,48,97)\"]],\"cmid\":0.0},\"title\":{\"text\":\"Attn Head Output (Last Pos)\"}},                        {\"responsive\": true}                    ).then(function(){\n",
       "                            \n",
       "var gd = document.getElementById('919a6bae-e6a2-43ab-b375-0709c300137e');\n",
       "var x = new MutationObserver(function (mutations, observer) {{\n",
       "        var display = window.getComputedStyle(gd).display;\n",
       "        if (!display || display === 'none') {{\n",
       "            console.log([gd, 'removed!']);\n",
       "            Plotly.purge(gd);\n",
       "            observer.disconnect();\n",
       "        }}\n",
       "}});\n",
       "\n",
       "// Listen for the removal of the full notebook cells\n",
       "var notebookContainer = gd.closest('#notebook-container');\n",
       "if (notebookContainer) {{\n",
       "    x.observe(notebookContainer, {childList: true});\n",
       "}}\n",
       "\n",
       "// Listen for the clearing of the current output cell\n",
       "var outputEl = gd.closest('.output');\n",
       "if (outputEl) {{\n",
       "    x.observe(outputEl, {childList: true});\n",
       "}}\n",
       "\n",
       "                        })                };                });            </script>        </div>"
      ]
     },
     "metadata": {},
     "output_type": "display_data"
    }
   ],
   "source": [
    "# Patching residual streams\n",
    "#resid_pre_act_patch_results = patching.get_act_patch_resid_pre(model, src_tokens, base_cache, ioi_metric)\n",
    "if patching_type=='resid_streams':\n",
    "       fig = imshow(torch.flip(total_resid_pre_act_patch_results, dims=[0]), \n",
    "                yaxis=\"Layer\", \n",
    "                xaxis=\"Position\",\n",
    "                x=[f\"{tok} {i}\" for i, tok in enumerate(patching_plot_sentence)],\n",
    "                y=y_labels,\n",
    "                title=\"resid_pre Activation Patching\",\n",
    "                return_fig=True)\n",
    "\n",
    "#every_block_result = patching.get_act_patch_block_every(model, src_tokens, base_cache, ioi_metric)\n",
    "elif patching_type=='full':\n",
    "        fig = imshow(torch.flip(total_resid_pre_act_patch_results, dims=[1]), facet_col=0,\n",
    "                        y=y_labels,\n",
    "                        facet_labels=[\"Residual Stream\", \"Attn Output\", \"MLP Output\"],\n",
    "                        title=\"Activation Patching Per Block\", xaxis=\"Position\", yaxis=\"Layer\",\n",
    "                        zmax=1, zmin=-1, x= patching_plot_sentence,\n",
    "                        return_fig=True\n",
    "                        )\n",
    "        width = 800\n",
    "        fig.update_xaxes(tickangle=45)\n",
    "elif patching_type == 'heads_last_pos':\n",
    "        fig = imshow(torch.flip(total_resid_pre_act_patch_results, dims=[0]), \n",
    "                        yaxis=\"Layer\", \n",
    "                        xaxis=\"Head\",\n",
    "                        x=[f'{head}' for head in range(model.cfg.n_heads)],\n",
    "                        y=y_labels,\n",
    "                        title=\"Attn Head Output (Last Pos)\",\n",
    "                        return_fig=True)\n",
    "        width=350\n",
    "elif patching_type == 'heads_all_pos':\n",
    "        fig = imshow(torch.flip(total_resid_pre_act_patch_results, dims=[0]), \n",
    "        yaxis=\"Layer\", \n",
    "        xaxis=\"Head\",\n",
    "        x=[f'{head}' for head in range(model.cfg.n_heads)],\n",
    "        y=y_labels,\n",
    "        title=\"Attn Head Output (All Pos)\",\n",
    "        return_fig=True)\n",
    "        width=350\n",
    "        \n",
    "fig.show()\n",
    "# Make the figure transparent\n",
    "fig.update_layout(\n",
    "    paper_bgcolor='rgba(0,0,0,0)',\n",
    "    plot_bgcolor='rgba(0,0,0,0)'\n",
    ")\n",
    "os.makedirs(f'{images_dir}/patching', exist_ok=True)\n",
    "pio.write_image(fig, f'{images_dir}/patching/{model_alias}_{language}_{patching_type}.png',scale=5, width=width, height=500)\n"
   ]
  },
  {
   "cell_type": "code",
   "execution_count": null,
   "metadata": {},
   "outputs": [],
   "source": []
  },
  {
   "cell_type": "code",
   "execution_count": null,
   "metadata": {},
   "outputs": [],
   "source": []
  }
 ],
 "metadata": {
  "kernelspec": {
   "display_name": "Python 3 (ipykernel)",
   "language": "python",
   "name": "python3"
  },
  "language_info": {
   "codemirror_mode": {
    "name": "ipython",
    "version": 3
   },
   "file_extension": ".py",
   "mimetype": "text/x-python",
   "name": "python",
   "nbconvert_exporter": "python",
   "pygments_lexer": "ipython3",
   "version": "3.11.10"
  }
 },
 "nbformat": 4,
 "nbformat_minor": 2
}
