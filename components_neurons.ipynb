{
 "cells": [
  {
   "cell_type": "code",
   "execution_count": 1,
   "metadata": {},
   "outputs": [],
   "source": [
    "%load_ext autoreload\n",
    "%autoreload 2\n",
    "\n",
    "import os\n",
    "from os.path import expanduser\n",
    "home = expanduser(\"~\")"
   ]
  },
  {
   "cell_type": "code",
   "execution_count": 2,
   "metadata": {},
   "outputs": [],
   "source": [
    "import torch\n",
    "import torch.nn as nn\n",
    "import torch.nn.functional as F\n",
    "import torch.optim as optim\n",
    "import numpy as np\n",
    "import einops\n",
    "from fancy_einsum import einsum\n",
    "import tqdm.notebook as tqdm\n",
    "import random\n",
    "from pathlib import Path\n",
    "import plotly.express as px\n",
    "from torch.utils.data import DataLoader\n",
    "\n",
    "from typing import List, Union, Optional\n",
    "from functools import partial\n",
    "import copy\n",
    "\n",
    "import itertools\n",
    "import dataclasses\n",
    "from IPython.display import HTML\n",
    "import pandas as pd\n",
    "from neel_plotly import line, imshow, scatter\n",
    "from jaxtyping import Float\n",
    "import plotly.io as pio\n",
    "\n",
    "import transformer_lens\n",
    "import transformer_lens.utils as utils\n",
    "from transformer_lens.hook_points import (\n",
    "    HookedRootModule,\n",
    "    HookPoint,\n",
    ")  # Hooking utilities\n",
    "from transformer_lens import HookedTransformer, HookedTransformerConfig, FactoredMatrix, ActivationCache\n",
    "import transformer_lens.patching as patching\n",
    "from utils_sva import residual_stack_to_logit_diff\n",
    "torch.set_grad_enabled(False)\n",
    "\n",
    "# Create folder to save plots\n",
    "images_dir = f\"{home}/circuits_languages/images\"\n",
    "if not os.path.exists(images_dir):\n",
    "    os.makedirs(images_dir)"
   ]
  },
  {
   "cell_type": "code",
   "execution_count": 7,
   "metadata": {},
   "outputs": [],
   "source": [
    "from utils_sva import clean_blocks_labels, paper_plot\n",
    "from utils_sva import get_logit_diff, compute_act_patching\n",
    "from load_dataset import load_sva_dataset, get_batched_dataset"
   ]
  },
  {
   "cell_type": "markdown",
   "metadata": {},
   "source": [
    "### Load Model"
   ]
  },
  {
   "cell_type": "code",
   "execution_count": 4,
   "metadata": {},
   "outputs": [
    {
     "name": "stderr",
     "output_type": "stream",
     "text": [
      "/root/miniconda3/envs/arena-env/lib/python3.11/site-packages/huggingface_hub/file_download.py:1132: FutureWarning: `resume_download` is deprecated and will be removed in version 1.0.0. Downloads always resume when possible. If you want to force a new download, use `force_download=True`.\n",
      "  warnings.warn(\n",
      "Gemma's activation function should be approximate GeLU and not exact GeLU.\n",
      "Changing the activation function to `gelu_pytorch_tanh`.if you want to use the legacy `gelu`, edit the `model.config` to set `hidden_activation=gelu`   instead of `hidden_act`. See https://github.com/huggingface/transformers/pull/29402 for more details.\n"
     ]
    },
    {
     "data": {
      "application/vnd.jupyter.widget-view+json": {
       "model_id": "e48e21cb4819462481477dcff5441fec",
       "version_major": 2,
       "version_minor": 0
      },
      "text/plain": [
       "Loading checkpoint shards:   0%|          | 0/2 [00:00<?, ?it/s]"
      ]
     },
     "metadata": {},
     "output_type": "display_data"
    },
    {
     "name": "stdout",
     "output_type": "stream",
     "text": [
      "Loaded pretrained model gemma-2b into HookedTransformer\n"
     ]
    }
   ],
   "source": [
    "n_devices = torch.cuda.device_count()\n",
    "\n",
    "model = HookedTransformer.from_pretrained(\n",
    "    \"gemma-2b\",\n",
    "    center_unembed=True,\n",
    "    center_writing_weights=False,\n",
    "    fold_ln=False,\n",
    "    fold_value_biases=False,\n",
    "    #n_devices=2\n",
    ")\n",
    "model.set_use_attn_result(False)\n",
    "# Get the default device used\n",
    "device: torch.device = utils.get_device()"
   ]
  },
  {
   "cell_type": "markdown",
   "metadata": {},
   "source": [
    "### Composition Attention head and MLP neurons"
   ]
  },
  {
   "cell_type": "code",
   "execution_count": null,
   "metadata": {},
   "outputs": [],
   "source": [
    "model.set_use_attn_result(True)\n",
    "\n",
    "dataset_type = 'both' # singular / plural / both\n",
    "language = 'spanish' # english / spanish / both\n",
    "num_samples = 300\n",
    "batch_size = 10\n",
    "start_at = 0\n",
    "dataset = load_sva_dataset(model, language, dataset_type, num_samples)\n",
    "batched_dataset = get_batched_dataset(model, dataset, batch_size=batch_size)\n",
    "\n",
    "batches_base_tokens = batched_dataset['batches_base_tokens']\n",
    "batches_src_tokens = batched_dataset['batches_src_tokens']\n",
    "batches_answer_token_indices = batched_dataset['batches_answer_token_indices']\n",
    "batches = len(batches_src_tokens)"
   ]
  },
  {
   "cell_type": "code",
   "execution_count": 7,
   "metadata": {},
   "outputs": [],
   "source": [
    "# Attention head\n",
    "images_dir = f\"{home}/circuits_languages/images\"\n",
    "batches = len(batches_base_tokens)\n",
    "attn_layer_index = 13\n",
    "attn_head_index = 7\n",
    "list_output_hook = []\n",
    "#hook_name = f'blocks.{attn_layer_index}.attn.hook_result'\n",
    "hook_name = utils.get_act_name('result', attn_layer_index)\n",
    "#hook_name = utils.get_act_name('resid_pre', attn_layer_index)\n",
    "#output_attention_head = cache[hook_name][:,-1,attn_head_index]\n",
    "for batch in range(batches):\n",
    "    # Get clean tokens and answer indices from batches\n",
    "    base_tokens = batches_base_tokens[batch]\n",
    "    base_logits, base_cache = model.run_with_cache(base_tokens, names_filter=[hook_name])\n",
    "    output_hook_pos = base_cache[hook_name][:,-1]\n",
    "    list_output_hook.append(output_hook_pos)\n",
    "#key_attention_head = cache[f'blocks.{attn_layer_index}.attn.hook_q'][:,-1,attn_head_index]\n",
    "cat_output_hook = torch.cat(list_output_hook, 0)\n"
   ]
  },
  {
   "cell_type": "code",
   "execution_count": 8,
   "metadata": {},
   "outputs": [],
   "source": [
    "output_attention_head = cat_output_hook[:,attn_head_index]"
   ]
  },
  {
   "cell_type": "code",
   "execution_count": 9,
   "metadata": {},
   "outputs": [],
   "source": [
    "# MLP neuron\n",
    "MLP_layer = 13\n",
    "MLP_neuron = 2069\n",
    "\n",
    "# Dot product with neuron's W_in column (input weights)\n",
    "dot_prod = einsum(\n",
    "        f\"batch d_model, d_model \\\n",
    "        -> batch \",\n",
    "        output_attention_head,\n",
    "        model.W_in[MLP_layer][:,MLP_neuron])"
   ]
  },
  {
   "cell_type": "code",
   "execution_count": 10,
   "metadata": {},
   "outputs": [],
   "source": [
    "def flatten(xss):\n",
    "    return [x for xs in xss for x in xs]\n",
    "flatten_batches_base_tokens = flatten(batched_dataset['batches_base_tokens'])\n",
    "flatten_ex_number_list = flatten(batched_dataset['batches_ex_number_list'])\n"
   ]
  },
  {
   "cell_type": "code",
   "execution_count": 11,
   "metadata": {},
   "outputs": [
    {
     "name": "stdout",
     "output_type": "stream",
     "text": [
      "<bos>The ministers that disguised the executive, dot product: 2.5\n",
      "<bos>The authors that injured the secretary, dot product: 2.2\n",
      "<bos>The athlete that disguised the executive, dot product: -1.2\n",
      "<bos>The guard that injured the secretary, dot product: -0.98\n",
      "<bos>The ministers that embarrassed the manager, dot product: 2.8\n",
      "<bos>The executive that embarrassed the manager, dot product: -0.95\n",
      "<bos>The executive that injured the doctors, dot product: -0.49\n",
      "<bos>The farmer that ignored the teachers, dot product: -1.2\n",
      "<bos>The executives that injured the doctors, dot product: 3.5\n",
      "<bos>The authors that ignored the teachers, dot product: 3.6\n",
      "<bos>The managers that admired the author, dot product: 2.5\n",
      "<bos>The actors that ignored the author, dot product: 3.0\n",
      "<bos>The executive that admired the author, dot product: -0.93\n",
      "<bos>The secretary that ignored the author, dot product: -0.99\n",
      "<bos>The consultant that ignored the actor, dot product: -0.9\n",
      "<bos>The authors that ignored the actor, dot product: 3.6\n",
      "<bos>The manager that ignored the athlete, dot product: -1.1\n",
      "<bos>The athletes that ignored the athlete, dot product: 1.7\n",
      "<bos>The actors that liked the executives, dot product: 4.0\n",
      "<bos>The guards that embarrassed the pilots, dot product: 3.6\n",
      "<bos>The customer that liked the executives, dot product: -0.46\n",
      "<bos>The author that embarrassed the pilots, dot product: -0.99\n",
      "<bos>The officers that hated the customers, dot product: 2.9\n",
      "<bos>The architect that hated the customers, dot product: -1.2\n",
      "<bos>The farmers that hated the clerk, dot product: 2.4\n",
      "<bos>The actors that disguised the farmer, dot product: 3.0\n",
      "<bos>The athlete that hated the clerk, dot product: -1.3\n",
      "<bos>The architect that disguised the farmer, dot product: -1.2\n",
      "<bos>The athlete that injured the senators, dot product: -0.54\n",
      "<bos>The ministers that injured the senators, dot product: 3.2\n",
      "<bos>The actors that ignored the officers, dot product: 3.9\n",
      "<bos>The ministers that liked the architect, dot product: 3.2\n",
      "<bos>The actor that ignored the officers, dot product: -1.2\n",
      "<bos>The minister that liked the architect, dot product: -1.3\n",
      "<bos>The author that liked the senators, dot product: -1.2\n",
      "<bos>The athletes that disguised the officers, dot product: 3.9\n",
      "<bos>The authors that liked the senators, dot product: 4.6\n",
      "<bos>The pilot that disguised the officers, dot product: -1.3\n",
      "<bos>The executives that hated the manager, dot product: 1.9\n",
      "<bos>The consultants that ignored the guards, dot product: 3.1\n",
      "<bos>The author that hated the manager, dot product: -1.2\n",
      "<bos>The minister that ignored the guards, dot product: -1.1\n",
      "<bos>The customer that hurt the teachers, dot product: -0.41\n",
      "<bos>The managers that hurt the teachers, dot product: 3.2\n",
      "<bos>The authors that hurt the architects, dot product: 3.3\n",
      "<bos>The senators that ignored the actor, dot product: 3.6\n",
      "<bos>The doctor that hurt the architects, dot product: -0.63\n",
      "<bos>The clerk that ignored the actor, dot product: -1.4\n",
      "<bos>The consultant that embarrassed the guards, dot product: -0.35\n",
      "<bos>The guard that injured the doctor, dot product: -0.95\n",
      "<bos>The ministers that embarrassed the guards, dot product: 3.2\n",
      "<bos>The doctors that injured the doctor, dot product: 3.1\n",
      "<bos>The teacher that ignored the managers, dot product: -0.97\n",
      "<bos>The architect that injured the farmer, dot product: -1.1\n",
      "<bos>The actors that ignored the managers, dot product: 3.7\n",
      "<bos>The farmers that injured the farmer, dot product: 1.9\n",
      "<bos>The farmer that embarrassed the actor, dot product: -1.2\n",
      "<bos>The architects that embarrassed the actor, dot product: 2.1\n",
      "<bos>The officers that liked the manager, dot product: 3.1\n",
      "<bos>The clerks that disguised the pilots, dot product: 3.1\n",
      "<bos>The executive that liked the manager, dot product: -0.96\n",
      "<bos>The architect that disguised the pilots, dot product: -0.6\n",
      "<bos>The teacher that ignored the executive, dot product: -0.65\n",
      "<bos>The athlete that disguised the farmers, dot product: -1.0\n",
      "<bos>The teachers that ignored the executive, dot product: 1.5\n",
      "<bos>The officers that disguised the farmers, dot product: 3.9\n",
      "<bos>The manager that injured the doctors, dot product: -0.52\n",
      "<bos>The pilots that ignored the minister, dot product: 3.3\n",
      "<bos>The officers that injured the doctors, dot product: 3.6\n",
      "<bos>The senator that ignored the minister, dot product: -1.7\n",
      "<bos>The guards that injured the officers, dot product: 3.5\n",
      "<bos>The author that disguised the athlete, dot product: -1.7\n",
      "<bos>The manager that injured the officers, dot product: -0.35\n",
      "<bos>The managers that disguised the athlete, dot product: 2.4\n",
      "<bos>The customer that ignored the athlete, dot product: -0.97\n",
      "<bos>The actor that ignored the managers, dot product: -1.4\n",
      "<bos>The clerks that ignored the athlete, dot product: 2.6\n",
      "<bos>The executives that ignored the managers, dot product: 3.9\n",
      "<bos>The senator that ignored the pilots, dot product: -1.5\n",
      "<bos>The actor that disguised the customer, dot product: -1.5\n",
      "<bos>The farmers that ignored the pilots, dot product: 3.1\n",
      "<bos>The consultants that disguised the customer, dot product: 2.1\n",
      "<bos>The athlete that ignored the architect, dot product: -1.4\n",
      "<bos>The actors that liked the architect, dot product: 3.2\n",
      "<bos>The farmers that ignored the architect, dot product: 2.8\n",
      "<bos>The executive that liked the architect, dot product: -1.0\n",
      "<bos>The officer that injured the pilots, dot product: -0.78\n",
      "<bos>The architect that injured the executives, dot product: -0.5\n",
      "<bos>The customers that injured the pilots, dot product: 3.0\n",
      "<bos>The ministers that injured the executives, dot product: 3.4\n",
      "<bos>The minister that embarrassed the clerk, dot product: -1.3\n",
      "<bos>The manager that injured the teachers, dot product: -0.46\n",
      "<bos>The doctors that embarrassed the clerk, dot product: 3.0\n",
      "<bos>The doctors that injured the teachers, dot product: 3.2\n",
      "<bos>The officer that ignored the doctors, dot product: -1.2\n",
      "<bos>The architects that hurt the farmers, dot product: 2.5\n",
      "<bos>The athletes that ignored the doctors, dot product: 3.4\n",
      "<bos>The consultant that hurt the farmers, dot product: -0.41\n",
      "<bos>The clerk that hurt the manager, dot product: -1.2\n",
      "<bos>The minister that embarrassed the pilots, dot product: -1.0\n",
      "<bos>The secretaries that hurt the manager, dot product: 1.5\n",
      "<bos>The ministers that embarrassed the pilots, dot product: 3.6\n",
      "<bos>The executive that hated the guards, dot product: -0.52\n",
      "<bos>The athletes that disguised the teacher, dot product: 3.4\n",
      "<bos>The athletes that hated the guards, dot product: 3.1\n",
      "<bos>The executive that disguised the teacher, dot product: -0.99\n",
      "<bos>The executive that admired the doctors, dot product: -0.88\n",
      "<bos>The minister that hated the authors, dot product: -0.87\n",
      "<bos>The guards that admired the doctors, dot product: 4.0\n",
      "<bos>The customers that hated the authors, dot product: 2.5\n",
      "<bos>The senators that ignored the executives, dot product: 3.7\n",
      "<bos>The author that embarrassed the executive, dot product: -1.1\n",
      "<bos>The clerk that ignored the executives, dot product: -1.2\n",
      "<bos>The officers that embarrassed the executive, dot product: 2.5\n",
      "<bos>The farmer that ignored the executive, dot product: -1.0\n",
      "<bos>The executives that admired the doctor, dot product: 3.2\n",
      "<bos>The clerks that ignored the executive, dot product: 1.5\n",
      "<bos>The pilot that admired the doctor, dot product: -1.4\n",
      "<bos>The pilot that injured the pilots, dot product: -1.3\n",
      "<bos>The pilot that embarrassed the athletes, dot product: -1.3\n",
      "<bos>The consultants that injured the pilots, dot product: 3.0\n",
      "<bos>The officers that embarrassed the athletes, dot product: 4.1\n",
      "<bos>The farmer that hurt the clerk, dot product: -1.2\n",
      "<bos>The minister that disguised the secretaries, dot product: -0.85\n",
      "<bos>The managers that hurt the clerk, dot product: 2.1\n",
      "<bos>The guards that disguised the secretaries, dot product: 3.6\n",
      "<bos>The actor that injured the clerk, dot product: -1.3\n",
      "<bos>The minister that hurt the senator, dot product: -1.5\n",
      "<bos>The teachers that injured the clerk, dot product: 2.4\n",
      "<bos>The consultants that hurt the senator, dot product: 2.4\n",
      "<bos>The ministers that admired the athletes, dot product: 4.0\n",
      "<bos>The author that admired the pilot, dot product: -1.5\n",
      "<bos>The senator that admired the athletes, dot product: -1.7\n",
      "<bos>The teachers that admired the pilot, dot product: 2.9\n",
      "<bos>The managers that embarrassed the executive, dot product: 1.8\n",
      "<bos>The officers that hated the farmer, dot product: 2.3\n",
      "<bos>The clerk that embarrassed the executive, dot product: -1.0\n",
      "<bos>The senator that hated the farmer, dot product: -1.4\n",
      "<bos>The athletes that injured the manager, dot product: 2.6\n",
      "<bos>The doctor that hurt the pilot, dot product: -1.2\n",
      "<bos>The minister that injured the manager, dot product: -1.1\n",
      "<bos>The managers that hurt the pilot, dot product: 2.1\n",
      "<bos>The clerk that disguised the guard, dot product: -1.2\n",
      "<bos>The ministers that liked the actors, dot product: 3.9\n",
      "<bos>The authors that disguised the guard, dot product: 1.7\n",
      "<bos>The actor that liked the actors, dot product: -0.95\n",
      "<bos>The author that ignored the athlete, dot product: -1.5\n",
      "<bos>The doctors that embarrassed the actor, dot product: 2.6\n",
      "<bos>The teachers that ignored the athlete, dot product: 2.8\n",
      "<bos>The minister that embarrassed the actor, dot product: -1.3\n",
      "<bos>The athlete that ignored the pilots, dot product: -1.1\n",
      "<bos>The athletes that hated the author, dot product: 2.0\n",
      "<bos>The managers that ignored the pilots, dot product: 4.1\n",
      "<bos>The farmer that hated the author, dot product: -1.1\n",
      "<bos>The executive that liked the officers, dot product: -0.62\n",
      "<bos>The doctor that admired the athlete, dot product: -1.2\n",
      "<bos>The farmers that liked the officers, dot product: 3.4\n",
      "<bos>The architects that admired the athlete, dot product: 3.3\n",
      "<bos>The clerks that disguised the athletes, dot product: 2.9\n",
      "<bos>The clerk that hurt the customer, dot product: -1.2\n",
      "<bos>The doctor that disguised the athletes, dot product: -1.0\n",
      "<bos>The architects that hurt the customer, dot product: 2.2\n",
      "<bos>The secretary that liked the secretaries, dot product: -0.66\n",
      "<bos>The executive that admired the athlete, dot product: -1.0\n",
      "<bos>The guards that liked the secretaries, dot product: 3.3\n",
      "<bos>The actors that admired the athlete, dot product: 3.4\n",
      "<bos>The architect that liked the teacher, dot product: -0.93\n",
      "<bos>The doctors that liked the teacher, dot product: 2.4\n",
      "<bos>The guard that disguised the ministers, dot product: -0.43\n",
      "<bos>The athlete that hurt the pilot, dot product: -1.0\n",
      "<bos>The ministers that disguised the ministers, dot product: 3.4\n",
      "<bos>The senators that hurt the pilot, dot product: 2.3\n",
      "<bos>The executive that disguised the doctors, dot product: -0.67\n",
      "<bos>The architects that embarrassed the manager, dot product: 2.3\n",
      "<bos>The executives that disguised the doctors, dot product: 3.5\n",
      "<bos>The consultant that embarrassed the manager, dot product: -0.82\n",
      "<bos>The executive that hurt the authors, dot product: -0.2\n",
      "<bos>The athlete that liked the minister, dot product: -1.1\n",
      "<bos>The executives that hurt the authors, dot product: 3.2\n",
      "<bos>The clerks that liked the minister, dot product: 2.2\n",
      "<bos>The minister that disguised the architects, dot product: -0.94\n",
      "<bos>The senators that hurt the manager, dot product: 2.8\n",
      "<bos>The authors that disguised the architects, dot product: 3.2\n",
      "<bos>The actor that hurt the manager, dot product: -1.4\n",
      "<bos>The farmer that embarrassed the senators, dot product: -0.88\n",
      "<bos>The consultant that liked the customers, dot product: -0.67\n",
      "<bos>The consultants that embarrassed the senators, dot product: 3.7\n",
      "<bos>The executives that liked the customers, dot product: 3.5\n",
      "<bos>The farmer that embarrassed the minister, dot product: -1.3\n",
      "<bos>The author that disguised the ministers, dot product: -1.1\n",
      "<bos>The ministers that embarrassed the minister, dot product: 2.5\n",
      "<bos>The doctors that disguised the ministers, dot product: 3.1\n",
      "<bos>The senator that admired the pilots, dot product: -1.7\n",
      "<bos>The secretary that injured the doctors, dot product: -0.43\n",
      "<bos>The pilots that admired the pilots, dot product: 2.5\n",
      "<bos>The officers that injured the doctors, dot product: 3.6\n",
      "<bos>The clerks that ignored the executives, dot product: 3.4\n",
      "<bos>The executive that disguised the doctor, dot product: -0.94\n",
      "<bos>The officer that ignored the executives, dot product: -1.1\n",
      "<bos>The farmers that disguised the doctor, dot product: 2.7\n",
      "<bos>The customer that injured the clerk, dot product: -0.9\n",
      "<bos>The customer that hated the teacher, dot product: -0.72\n",
      "<bos>The consultants that injured the clerk, dot product: 2.5\n",
      "<bos>The managers that hated the teacher, dot product: 1.5\n",
      "<bos>The teacher that ignored the athlete, dot product: -1.4\n",
      "<bos>The doctors that admired the farmer, dot product: 3.1\n",
      "<bos>The ministers that ignored the athlete, dot product: 3.6\n",
      "<bos>The doctor that admired the farmer, dot product: -1.4\n",
      "<bos>The consultants that admired the pilot, dot product: 3.4\n",
      "<bos>The senator that admired the pilot, dot product: -1.7\n",
      "<bos>The executives that injured the guards, dot product: 3.1\n",
      "<bos>The pilots that liked the managers, dot product: 3.5\n",
      "<bos>The teacher that injured the guards, dot product: -0.7\n",
      "<bos>The manager that liked the managers, dot product: -0.69\n",
      "<bos>The customers that admired the minister, dot product: 2.0\n",
      "<bos>The officer that hated the ministers, dot product: -0.79\n",
      "<bos>The architect that admired the minister, dot product: -1.1\n",
      "<bos>The authors that hated the ministers, dot product: 3.4\n",
      "<bos>The doctors that liked the guard, dot product: 2.6\n",
      "<bos>The architects that hated the managers, dot product: 2.3\n",
      "<bos>The teacher that liked the guard, dot product: -0.97\n",
      "<bos>The manager that hated the managers, dot product: -0.75\n",
      "<bos>The teacher that admired the authors, dot product: -0.7\n",
      "<bos>The author that injured the secretary, dot product: -1.3\n",
      "<bos>The senators that admired the authors, dot product: 2.8\n",
      "<bos>The doctors that injured the secretary, dot product: 3.3\n",
      "<bos>The ministers that ignored the doctor, dot product: 3.3\n",
      "<bos>The athletes that embarrassed the guard, dot product: 3.1\n",
      "<bos>The officer that ignored the doctor, dot product: -1.5\n",
      "<bos>The guard that embarrassed the guard, dot product: -1.1\n",
      "<bos>The author that disguised the manager, dot product: -1.5\n",
      "<bos>The secretary that hated the farmer, dot product: -1.0\n",
      "<bos>The customers that disguised the manager, dot product: 2.6\n",
      "<bos>The managers that hated the farmer, dot product: 1.9\n",
      "<bos>The doctors that injured the actors, dot product: 3.2\n",
      "<bos>The doctors that hated the athletes, dot product: 3.1\n",
      "<bos>The teacher that injured the actors, dot product: -0.64\n",
      "<bos>The guard that hated the athletes, dot product: -1.1\n",
      "<bos>The doctors that injured the customers, dot product: 3.0\n",
      "<bos>The clerks that admired the doctors, dot product: 3.4\n",
      "<bos>The farmer that injured the customers, dot product: -0.9\n",
      "<bos>The architect that admired the doctors, dot product: -1.0\n",
      "<bos>The author that ignored the pilots, dot product: -1.2\n",
      "<bos>The consultant that admired the athlete, dot product: -0.95\n",
      "<bos>The executives that ignored the pilots, dot product: 4.1\n",
      "<bos>The architects that admired the athlete, dot product: 3.3\n",
      "<bos>The farmer that injured the pilots, dot product: -0.63\n",
      "<bos>The architect that admired the pilot, dot product: -1.1\n",
      "<bos>The actors that injured the pilots, dot product: 2.8\n",
      "<bos>The authors that admired the pilot, dot product: 2.5\n",
      "<bos>The senator that admired the executive, dot product: -1.2\n",
      "<bos>The ministers that admired the managers, dot product: 3.7\n",
      "<bos>The farmers that admired the executive, dot product: 2.4\n",
      "<bos>The author that admired the managers, dot product: -1.3\n",
      "<bos>The executives that hated the officers, dot product: 3.2\n",
      "<bos>The secretary that liked the doctor, dot product: -0.98\n",
      "<bos>The architect that hated the officers, dot product: -0.61\n",
      "<bos>The athletes that liked the doctor, dot product: 3.0\n",
      "<bos>The architects that admired the author, dot product: 2.5\n",
      "<bos>The doctor that disguised the teacher, dot product: -1.2\n",
      "<bos>The executive that admired the author, dot product: -0.93\n",
      "<bos>The athletes that disguised the teacher, dot product: 3.4\n",
      "<bos>The actor that admired the pilots, dot product: -1.1\n",
      "<bos>The athlete that hated the manager, dot product: -1.2\n",
      "<bos>The senators that admired the pilots, dot product: 3.6\n",
      "<bos>The secretaries that hated the manager, dot product: 1.3\n",
      "<bos>The farmers that injured the manager, dot product: 1.9\n",
      "<bos>The officer that ignored the architects, dot product: -0.89\n",
      "<bos>The consultant that injured the manager, dot product: -0.71\n",
      "<bos>The secretaries that ignored the architects, dot product: 2.7\n",
      "<bos>The customer that liked the senator, dot product: -0.79\n",
      "<bos>The customer that admired the author, dot product: -0.64\n",
      "<bos>The authors that liked the senator, dot product: 4.2\n",
      "<bos>The customers that admired the author, dot product: 2.0\n",
      "<bos>The pilot that ignored the pilots, dot product: -0.93\n",
      "<bos>The farmers that ignored the senators, dot product: 3.3\n",
      "<bos>The senators that ignored the pilots, dot product: 3.7\n",
      "<bos>The consultant that ignored the senators, dot product: -0.51\n",
      "<bos>The pilots that ignored the executive, dot product: 1.8\n",
      "<bos>The doctors that hurt the customers, dot product: 2.8\n",
      "<bos>The officer that ignored the executive, dot product: -0.86\n",
      "<bos>The clerk that hurt the customers, dot product: -1.1\n",
      "<bos>The actors that hurt the ministers, dot product: 2.9\n",
      "<bos>The minister that hurt the ministers, dot product: -1.2\n",
      "<bos>The farmers that injured the architects, dot product: 2.7\n",
      "<bos>The farmer that injured the architects, dot product: -0.58\n",
      "<bos>The senators that injured the architects, dot product: 3.5\n",
      "<bos>The doctors that disguised the managers, dot product: 3.0\n",
      "<bos>The consultant that injured the architects, dot product: -0.18\n",
      "<bos>The actor that disguised the managers, dot product: -1.3\n",
      "<bos>The consultant that admired the executive, dot product: -1.0\n",
      "<bos>The consultant that disguised the authors, dot product: -0.49\n",
      "<bos>The actors that admired the executive, dot product: 3.1\n",
      "<bos>The actors that disguised the authors, dot product: 3.8\n",
      "<bos>The farmer that liked the senators, dot product: -1.1\n",
      "<bos>The farmers that liked the senators, dot product: 3.2\n",
      "<bos>The actor that hated the senators, dot product: -0.99\n",
      "<bos>The executives that hated the senators, dot product: 3.7\n",
      "<bos>The secretary that disguised the actors, dot product: -0.48\n",
      "<bos>The executive that hurt the minister, dot product: -0.84\n"
     ]
    }
   ],
   "source": [
    "from collections import defaultdict\n",
    "per_number_dict = defaultdict(list)\n",
    "\n",
    "for batch_element in range(dot_prod.shape[0]):\n",
    "    print(f'{model.to_string(flatten_batches_base_tokens[batch_element])}, dot product: {dot_prod[batch_element]:.2}')\n",
    "    if flatten_ex_number_list[batch_element] == 'Singular':\n",
    "        if len(per_number_dict['Singular']) == 149:\n",
    "            # Workaraound to get lists of the same length\n",
    "            continue\n",
    "        else:\n",
    "            per_number_dict['Singular'].append(dot_prod[batch_element].item())\n",
    "        \n",
    "    elif flatten_ex_number_list[batch_element] == 'Plural':\n",
    "        per_number_dict['Plural'].append(dot_prod[batch_element].item())"
   ]
  },
  {
   "cell_type": "code",
   "execution_count": 12,
   "metadata": {},
   "outputs": [
    {
     "data": {
      "text/plain": [
       "149"
      ]
     },
     "execution_count": 12,
     "metadata": {},
     "output_type": "execute_result"
    }
   ],
   "source": [
    "len(per_number_dict['Plural'])"
   ]
  },
  {
   "cell_type": "code",
   "execution_count": 13,
   "metadata": {},
   "outputs": [
    {
     "data": {
      "text/plain": [
       "149"
      ]
     },
     "execution_count": 13,
     "metadata": {},
     "output_type": "execute_result"
    }
   ],
   "source": [
    "len(per_number_dict['Singular'])"
   ]
  },
  {
   "cell_type": "code",
   "execution_count": 20,
   "metadata": {},
   "outputs": [
    {
     "data": {
      "application/vnd.plotly.v1+json": {
       "config": {
        "plotlyServerURL": "https://plot.ly"
       },
       "data": [
        {
         "alignmentgroup": "True",
         "hovertemplate": "variable=%{x}<br>value=%{y}<extra></extra>",
         "legendgroup": "",
         "marker": {
          "color": "#636efa"
         },
         "name": "",
         "notched": false,
         "offsetgroup": "",
         "orientation": "v",
         "showlegend": false,
         "type": "box",
         "x": [
          "Plural",
          "Plural",
          "Plural",
          "Plural",
          "Plural",
          "Plural",
          "Plural",
          "Plural",
          "Plural",
          "Plural",
          "Plural",
          "Plural",
          "Plural",
          "Plural",
          "Plural",
          "Plural",
          "Plural",
          "Plural",
          "Plural",
          "Plural",
          "Plural",
          "Plural",
          "Plural",
          "Plural",
          "Plural",
          "Plural",
          "Plural",
          "Plural",
          "Plural",
          "Plural",
          "Plural",
          "Plural",
          "Plural",
          "Plural",
          "Plural",
          "Plural",
          "Plural",
          "Plural",
          "Plural",
          "Plural",
          "Plural",
          "Plural",
          "Plural",
          "Plural",
          "Plural",
          "Plural",
          "Plural",
          "Plural",
          "Plural",
          "Plural",
          "Plural",
          "Plural",
          "Plural",
          "Plural",
          "Plural",
          "Plural",
          "Plural",
          "Plural",
          "Plural",
          "Plural",
          "Plural",
          "Plural",
          "Plural",
          "Plural",
          "Plural",
          "Plural",
          "Plural",
          "Plural",
          "Plural",
          "Plural",
          "Plural",
          "Plural",
          "Plural",
          "Plural",
          "Plural",
          "Plural",
          "Plural",
          "Plural",
          "Plural",
          "Plural",
          "Plural",
          "Plural",
          "Plural",
          "Plural",
          "Plural",
          "Plural",
          "Plural",
          "Plural",
          "Plural",
          "Plural",
          "Plural",
          "Plural",
          "Plural",
          "Plural",
          "Plural",
          "Plural",
          "Plural",
          "Plural",
          "Plural",
          "Plural",
          "Plural",
          "Plural",
          "Plural",
          "Plural",
          "Plural",
          "Plural",
          "Plural",
          "Plural",
          "Plural",
          "Plural",
          "Plural",
          "Plural",
          "Plural",
          "Plural",
          "Plural",
          "Plural",
          "Plural",
          "Plural",
          "Plural",
          "Plural",
          "Plural",
          "Plural",
          "Plural",
          "Plural",
          "Plural",
          "Plural",
          "Plural",
          "Plural",
          "Plural",
          "Plural",
          "Plural",
          "Plural",
          "Plural",
          "Plural",
          "Plural",
          "Plural",
          "Plural",
          "Plural",
          "Plural",
          "Plural",
          "Plural",
          "Plural",
          "Plural",
          "Plural",
          "Plural",
          "Plural",
          "Plural",
          "Plural",
          "Plural",
          "Singular",
          "Singular",
          "Singular",
          "Singular",
          "Singular",
          "Singular",
          "Singular",
          "Singular",
          "Singular",
          "Singular",
          "Singular",
          "Singular",
          "Singular",
          "Singular",
          "Singular",
          "Singular",
          "Singular",
          "Singular",
          "Singular",
          "Singular",
          "Singular",
          "Singular",
          "Singular",
          "Singular",
          "Singular",
          "Singular",
          "Singular",
          "Singular",
          "Singular",
          "Singular",
          "Singular",
          "Singular",
          "Singular",
          "Singular",
          "Singular",
          "Singular",
          "Singular",
          "Singular",
          "Singular",
          "Singular",
          "Singular",
          "Singular",
          "Singular",
          "Singular",
          "Singular",
          "Singular",
          "Singular",
          "Singular",
          "Singular",
          "Singular",
          "Singular",
          "Singular",
          "Singular",
          "Singular",
          "Singular",
          "Singular",
          "Singular",
          "Singular",
          "Singular",
          "Singular",
          "Singular",
          "Singular",
          "Singular",
          "Singular",
          "Singular",
          "Singular",
          "Singular",
          "Singular",
          "Singular",
          "Singular",
          "Singular",
          "Singular",
          "Singular",
          "Singular",
          "Singular",
          "Singular",
          "Singular",
          "Singular",
          "Singular",
          "Singular",
          "Singular",
          "Singular",
          "Singular",
          "Singular",
          "Singular",
          "Singular",
          "Singular",
          "Singular",
          "Singular",
          "Singular",
          "Singular",
          "Singular",
          "Singular",
          "Singular",
          "Singular",
          "Singular",
          "Singular",
          "Singular",
          "Singular",
          "Singular",
          "Singular",
          "Singular",
          "Singular",
          "Singular",
          "Singular",
          "Singular",
          "Singular",
          "Singular",
          "Singular",
          "Singular",
          "Singular",
          "Singular",
          "Singular",
          "Singular",
          "Singular",
          "Singular",
          "Singular",
          "Singular",
          "Singular",
          "Singular",
          "Singular",
          "Singular",
          "Singular",
          "Singular",
          "Singular",
          "Singular",
          "Singular",
          "Singular",
          "Singular",
          "Singular",
          "Singular",
          "Singular",
          "Singular",
          "Singular",
          "Singular",
          "Singular",
          "Singular",
          "Singular",
          "Singular",
          "Singular",
          "Singular",
          "Singular",
          "Singular",
          "Singular",
          "Singular",
          "Singular",
          "Singular",
          "Singular",
          "Singular"
         ],
         "x0": " ",
         "xaxis": "x",
         "y": [
          2.4697232246398926,
          2.206775665283203,
          2.8477094173431396,
          3.4684948921203613,
          3.5516886711120605,
          2.5401694774627686,
          3.04693603515625,
          3.6305530071258545,
          1.7404425144195557,
          4.045846462249756,
          3.6157820224761963,
          2.9279048442840576,
          2.400742530822754,
          3.049854278564453,
          3.2438814640045166,
          3.9200515747070312,
          3.150102138519287,
          3.934497594833374,
          4.559023857116699,
          1.9479680061340332,
          3.1080050468444824,
          3.180471658706665,
          3.256598472595215,
          3.598906993865967,
          3.233445405960083,
          3.1474263668060303,
          3.6530098915100098,
          1.8998416662216187,
          2.0992798805236816,
          3.119567394256592,
          3.095118284225464,
          1.5116915702819824,
          3.8984336853027344,
          3.251065254211426,
          3.6030173301696777,
          3.4618825912475586,
          2.407151222229004,
          2.598987579345703,
          3.8889613151550293,
          3.084204912185669,
          2.1205806732177734,
          3.235381603240967,
          2.7847118377685547,
          3.0219993591308594,
          3.3817873001098633,
          3.0028510093688965,
          3.176391363143921,
          2.46880841255188,
          3.420095920562744,
          1.469408392906189,
          3.5775108337402344,
          3.3946032524108887,
          3.102501630783081,
          3.9871907234191895,
          2.4551162719726562,
          3.711291790008545,
          2.53568696975708,
          3.175201892852783,
          1.5106244087219238,
          2.97615385055542,
          4.066887855529785,
          2.1006805896759033,
          3.6174445152282715,
          2.375777006149292,
          2.4296388626098633,
          3.9961166381835938,
          2.858046054840088,
          1.8384774923324585,
          2.346243143081665,
          2.617997646331787,
          2.052931785583496,
          3.943122386932373,
          1.7014117240905762,
          2.6113522052764893,
          2.831132411956787,
          2.031383752822876,
          4.11044454574585,
          3.360095977783203,
          3.252377510070801,
          2.942328453063965,
          2.1778619289398193,
          3.343890428543091,
          3.432199478149414,
          2.3645544052124023,
          3.4163012504577637,
          2.305725574493408,
          2.310525894165039,
          3.5095717906951904,
          3.19217848777771,
          2.161778211593628,
          2.8342413902282715,
          3.1921823024749756,
          3.7361068725585938,
          3.4854021072387695,
          2.488140344619751,
          3.0629196166992188,
          2.5090885162353516,
          3.6030173301696777,
          3.443495512008667,
          2.677645206451416,
          2.451298713684082,
          1.5069530010223389,
          3.0673675537109375,
          3.6039037704467773,
          3.4038162231445312,
          3.100459337234497,
          3.5307071208953857,
          1.998358130455017,
          3.396594524383545,
          2.632328510284424,
          2.2743284702301025,
          2.7750234603881836,
          3.29390549659729,
          3.326082706451416,
          3.1377129554748535,
          2.5602529048919678,
          1.8944629430770874,
          3.1859326362609863,
          3.0561275482177734,
          3.0066866874694824,
          3.3642477989196777,
          4.082801818847656,
          3.252377510070801,
          2.8458075523376465,
          2.502509832382202,
          3.729707717895508,
          2.4312496185302734,
          3.217266082763672,
          3.0370383262634277,
          2.5307669639587402,
          3.3946032524108887,
          3.606879472732544,
          1.3053646087646484,
          1.894796371459961,
          2.7161569595336914,
          4.166988372802734,
          1.9973397254943848,
          3.3331048488616943,
          3.6586365699768066,
          1.8242111206054688,
          2.7969272136688232,
          2.941840648651123,
          2.698838233947754,
          3.479800224304199,
          3.0262603759765625,
          3.1370677947998047,
          3.7530782222747803,
          3.2048590183258057,
          3.677668571472168,
          -1.2304754257202148,
          -0.9806872010231018,
          -0.950634241104126,
          -0.49461203813552856,
          -1.2349265813827515,
          -0.9278135299682617,
          -0.9900612235069275,
          -0.9025148153305054,
          -1.0769370794296265,
          -0.4596390724182129,
          -0.9934413433074951,
          -1.1638941764831543,
          -1.3278944492340088,
          -1.2376880645751953,
          -0.538594126701355,
          -1.2257484197616577,
          -1.2996649742126465,
          -1.2196134328842163,
          -1.31925368309021,
          -1.1949653625488281,
          -1.1386559009552002,
          -0.40582138299942017,
          -0.6255087852478027,
          -1.3696496486663818,
          -0.35371822118759155,
          -0.9503622055053711,
          -0.9657431840896606,
          -1.1139553785324097,
          -1.1694310903549194,
          -0.9582740664482117,
          -0.6008575558662415,
          -0.6531635522842407,
          -0.9998217225074768,
          -0.5217374563217163,
          -1.722522497177124,
          -1.6557483673095703,
          -0.35461732745170593,
          -0.9747136831283569,
          -1.4407304525375366,
          -1.484771728515625,
          -1.4798144102096558,
          -1.4388998746871948,
          -1.0264544486999512,
          -0.7790855765342712,
          -0.4979836046695709,
          -1.2991303205490112,
          -0.45978599786758423,
          -1.2015538215637207,
          -0.40521228313446045,
          -1.158378005027771,
          -1.0241819620132446,
          -0.5243192911148071,
          -0.9948697090148926,
          -0.8760435581207275,
          -0.8687849640846252,
          -1.0950181484222412,
          -1.1790003776550293,
          -1.0273685455322266,
          -1.4232120513916016,
          -1.2701945304870605,
          -1.340965986251831,
          -1.1849753856658936,
          -0.8538767695426941,
          -1.3258161544799805,
          -1.496551513671875,
          -1.466306447982788,
          -1.696367859840393,
          -1.0396331548690796,
          -1.4256253242492676,
          -1.1732900142669678,
          -1.0934228897094727,
          -1.175527572631836,
          -0.9512760639190674,
          -1.466362714767456,
          -1.305458903312683,
          -1.077995777130127,
          -1.0983483791351318,
          -0.6241703629493713,
          -1.1931862831115723,
          -1.157844066619873,
          -1.0153167247772217,
          -0.6605477333068848,
          -1.0473732948303223,
          -0.9316250681877136,
          -0.4345448613166809,
          -1.0341345071792603,
          -0.6732206344604492,
          -0.8153218626976013,
          -0.19714611768722534,
          -1.1418399810791016,
          -0.9372561573982239,
          -1.433047890663147,
          -0.8842313885688782,
          -0.6679554581642151,
          -1.3370001316070557,
          -1.0887060165405273,
          -1.7002567052841187,
          -0.4302891194820404,
          -0.9380256533622742,
          -1.1420310735702515,
          -0.9043806791305542,
          -0.7239022254943848,
          -1.3996737003326416,
          -1.3661564588546753,
          -1.6754846572875977,
          -0.6992224454879761,
          -0.6937021613121033,
          -0.7912718057632446,
          -1.0751149654388428,
          -0.9662498235702515,
          -0.7496687173843384,
          -0.7049354910850525,
          -1.3056848049163818,
          -1.4661550521850586,
          -1.0644696950912476,
          -1.4754219055175781,
          -1.003257393836975,
          -0.635675311088562,
          -1.1234854459762573,
          -0.8980101346969604,
          -1.0102524757385254,
          -1.1796492338180542,
          -0.9529950618743896,
          -0.6262619495391846,
          -1.0528056621551514,
          -1.2240967750549316,
          -1.3408197164535522,
          -0.978424072265625,
          -0.6056258678436279,
          -1.152440071105957,
          -0.9278135299682617,
          -1.0951926708221436,
          -1.2064449787139893,
          -0.890384316444397,
          -0.7127432227134705,
          -0.7875733375549316,
          -0.6359575390815735,
          -0.9319484233856201,
          -0.5144273042678833,
          -0.8570362329483032,
          -1.096685767173767,
          -1.1714223623275757,
          -0.5787109136581421,
          -0.17590011656284332,
          -1.2739518880844116,
          -1.0203096866607666,
          -0.4909081757068634,
          -1.1353691816329956,
          -0.9872533082962036
         ],
         "y0": " ",
         "yaxis": "y"
        }
       ],
       "layout": {
        "boxmode": "group",
        "font": {
         "size": 15
        },
        "legend": {
         "tracegroupgap": 0
        },
        "margin": {
         "t": 60
        },
        "template": {
         "data": {
          "bar": [
           {
            "error_x": {
             "color": "#2a3f5f"
            },
            "error_y": {
             "color": "#2a3f5f"
            },
            "marker": {
             "line": {
              "color": "white",
              "width": 0.5
             },
             "pattern": {
              "fillmode": "overlay",
              "size": 10,
              "solidity": 0.2
             }
            },
            "type": "bar"
           }
          ],
          "barpolar": [
           {
            "marker": {
             "line": {
              "color": "white",
              "width": 0.5
             },
             "pattern": {
              "fillmode": "overlay",
              "size": 10,
              "solidity": 0.2
             }
            },
            "type": "barpolar"
           }
          ],
          "carpet": [
           {
            "aaxis": {
             "endlinecolor": "#2a3f5f",
             "gridcolor": "#C8D4E3",
             "linecolor": "#C8D4E3",
             "minorgridcolor": "#C8D4E3",
             "startlinecolor": "#2a3f5f"
            },
            "baxis": {
             "endlinecolor": "#2a3f5f",
             "gridcolor": "#C8D4E3",
             "linecolor": "#C8D4E3",
             "minorgridcolor": "#C8D4E3",
             "startlinecolor": "#2a3f5f"
            },
            "type": "carpet"
           }
          ],
          "choropleth": [
           {
            "colorbar": {
             "outlinewidth": 0,
             "ticks": ""
            },
            "type": "choropleth"
           }
          ],
          "contour": [
           {
            "colorbar": {
             "outlinewidth": 0,
             "ticks": ""
            },
            "colorscale": [
             [
              0,
              "#0d0887"
             ],
             [
              0.1111111111111111,
              "#46039f"
             ],
             [
              0.2222222222222222,
              "#7201a8"
             ],
             [
              0.3333333333333333,
              "#9c179e"
             ],
             [
              0.4444444444444444,
              "#bd3786"
             ],
             [
              0.5555555555555556,
              "#d8576b"
             ],
             [
              0.6666666666666666,
              "#ed7953"
             ],
             [
              0.7777777777777778,
              "#fb9f3a"
             ],
             [
              0.8888888888888888,
              "#fdca26"
             ],
             [
              1,
              "#f0f921"
             ]
            ],
            "type": "contour"
           }
          ],
          "contourcarpet": [
           {
            "colorbar": {
             "outlinewidth": 0,
             "ticks": ""
            },
            "type": "contourcarpet"
           }
          ],
          "heatmap": [
           {
            "colorbar": {
             "outlinewidth": 0,
             "ticks": ""
            },
            "colorscale": [
             [
              0,
              "#0d0887"
             ],
             [
              0.1111111111111111,
              "#46039f"
             ],
             [
              0.2222222222222222,
              "#7201a8"
             ],
             [
              0.3333333333333333,
              "#9c179e"
             ],
             [
              0.4444444444444444,
              "#bd3786"
             ],
             [
              0.5555555555555556,
              "#d8576b"
             ],
             [
              0.6666666666666666,
              "#ed7953"
             ],
             [
              0.7777777777777778,
              "#fb9f3a"
             ],
             [
              0.8888888888888888,
              "#fdca26"
             ],
             [
              1,
              "#f0f921"
             ]
            ],
            "type": "heatmap"
           }
          ],
          "heatmapgl": [
           {
            "colorbar": {
             "outlinewidth": 0,
             "ticks": ""
            },
            "colorscale": [
             [
              0,
              "#0d0887"
             ],
             [
              0.1111111111111111,
              "#46039f"
             ],
             [
              0.2222222222222222,
              "#7201a8"
             ],
             [
              0.3333333333333333,
              "#9c179e"
             ],
             [
              0.4444444444444444,
              "#bd3786"
             ],
             [
              0.5555555555555556,
              "#d8576b"
             ],
             [
              0.6666666666666666,
              "#ed7953"
             ],
             [
              0.7777777777777778,
              "#fb9f3a"
             ],
             [
              0.8888888888888888,
              "#fdca26"
             ],
             [
              1,
              "#f0f921"
             ]
            ],
            "type": "heatmapgl"
           }
          ],
          "histogram": [
           {
            "marker": {
             "pattern": {
              "fillmode": "overlay",
              "size": 10,
              "solidity": 0.2
             }
            },
            "type": "histogram"
           }
          ],
          "histogram2d": [
           {
            "colorbar": {
             "outlinewidth": 0,
             "ticks": ""
            },
            "colorscale": [
             [
              0,
              "#0d0887"
             ],
             [
              0.1111111111111111,
              "#46039f"
             ],
             [
              0.2222222222222222,
              "#7201a8"
             ],
             [
              0.3333333333333333,
              "#9c179e"
             ],
             [
              0.4444444444444444,
              "#bd3786"
             ],
             [
              0.5555555555555556,
              "#d8576b"
             ],
             [
              0.6666666666666666,
              "#ed7953"
             ],
             [
              0.7777777777777778,
              "#fb9f3a"
             ],
             [
              0.8888888888888888,
              "#fdca26"
             ],
             [
              1,
              "#f0f921"
             ]
            ],
            "type": "histogram2d"
           }
          ],
          "histogram2dcontour": [
           {
            "colorbar": {
             "outlinewidth": 0,
             "ticks": ""
            },
            "colorscale": [
             [
              0,
              "#0d0887"
             ],
             [
              0.1111111111111111,
              "#46039f"
             ],
             [
              0.2222222222222222,
              "#7201a8"
             ],
             [
              0.3333333333333333,
              "#9c179e"
             ],
             [
              0.4444444444444444,
              "#bd3786"
             ],
             [
              0.5555555555555556,
              "#d8576b"
             ],
             [
              0.6666666666666666,
              "#ed7953"
             ],
             [
              0.7777777777777778,
              "#fb9f3a"
             ],
             [
              0.8888888888888888,
              "#fdca26"
             ],
             [
              1,
              "#f0f921"
             ]
            ],
            "type": "histogram2dcontour"
           }
          ],
          "mesh3d": [
           {
            "colorbar": {
             "outlinewidth": 0,
             "ticks": ""
            },
            "type": "mesh3d"
           }
          ],
          "parcoords": [
           {
            "line": {
             "colorbar": {
              "outlinewidth": 0,
              "ticks": ""
             }
            },
            "type": "parcoords"
           }
          ],
          "pie": [
           {
            "automargin": true,
            "type": "pie"
           }
          ],
          "scatter": [
           {
            "fillpattern": {
             "fillmode": "overlay",
             "size": 10,
             "solidity": 0.2
            },
            "type": "scatter"
           }
          ],
          "scatter3d": [
           {
            "line": {
             "colorbar": {
              "outlinewidth": 0,
              "ticks": ""
             }
            },
            "marker": {
             "colorbar": {
              "outlinewidth": 0,
              "ticks": ""
             }
            },
            "type": "scatter3d"
           }
          ],
          "scattercarpet": [
           {
            "marker": {
             "colorbar": {
              "outlinewidth": 0,
              "ticks": ""
             }
            },
            "type": "scattercarpet"
           }
          ],
          "scattergeo": [
           {
            "marker": {
             "colorbar": {
              "outlinewidth": 0,
              "ticks": ""
             }
            },
            "type": "scattergeo"
           }
          ],
          "scattergl": [
           {
            "marker": {
             "colorbar": {
              "outlinewidth": 0,
              "ticks": ""
             }
            },
            "type": "scattergl"
           }
          ],
          "scattermapbox": [
           {
            "marker": {
             "colorbar": {
              "outlinewidth": 0,
              "ticks": ""
             }
            },
            "type": "scattermapbox"
           }
          ],
          "scatterpolar": [
           {
            "marker": {
             "colorbar": {
              "outlinewidth": 0,
              "ticks": ""
             }
            },
            "type": "scatterpolar"
           }
          ],
          "scatterpolargl": [
           {
            "marker": {
             "colorbar": {
              "outlinewidth": 0,
              "ticks": ""
             }
            },
            "type": "scatterpolargl"
           }
          ],
          "scatterternary": [
           {
            "marker": {
             "colorbar": {
              "outlinewidth": 0,
              "ticks": ""
             }
            },
            "type": "scatterternary"
           }
          ],
          "surface": [
           {
            "colorbar": {
             "outlinewidth": 0,
             "ticks": ""
            },
            "colorscale": [
             [
              0,
              "#0d0887"
             ],
             [
              0.1111111111111111,
              "#46039f"
             ],
             [
              0.2222222222222222,
              "#7201a8"
             ],
             [
              0.3333333333333333,
              "#9c179e"
             ],
             [
              0.4444444444444444,
              "#bd3786"
             ],
             [
              0.5555555555555556,
              "#d8576b"
             ],
             [
              0.6666666666666666,
              "#ed7953"
             ],
             [
              0.7777777777777778,
              "#fb9f3a"
             ],
             [
              0.8888888888888888,
              "#fdca26"
             ],
             [
              1,
              "#f0f921"
             ]
            ],
            "type": "surface"
           }
          ],
          "table": [
           {
            "cells": {
             "fill": {
              "color": "#EBF0F8"
             },
             "line": {
              "color": "white"
             }
            },
            "header": {
             "fill": {
              "color": "#C8D4E3"
             },
             "line": {
              "color": "white"
             }
            },
            "type": "table"
           }
          ]
         },
         "layout": {
          "annotationdefaults": {
           "arrowcolor": "#2a3f5f",
           "arrowhead": 0,
           "arrowwidth": 1
          },
          "autotypenumbers": "strict",
          "coloraxis": {
           "colorbar": {
            "outlinewidth": 0,
            "ticks": ""
           }
          },
          "colorscale": {
           "diverging": [
            [
             0,
             "#8e0152"
            ],
            [
             0.1,
             "#c51b7d"
            ],
            [
             0.2,
             "#de77ae"
            ],
            [
             0.3,
             "#f1b6da"
            ],
            [
             0.4,
             "#fde0ef"
            ],
            [
             0.5,
             "#f7f7f7"
            ],
            [
             0.6,
             "#e6f5d0"
            ],
            [
             0.7,
             "#b8e186"
            ],
            [
             0.8,
             "#7fbc41"
            ],
            [
             0.9,
             "#4d9221"
            ],
            [
             1,
             "#276419"
            ]
           ],
           "sequential": [
            [
             0,
             "#0d0887"
            ],
            [
             0.1111111111111111,
             "#46039f"
            ],
            [
             0.2222222222222222,
             "#7201a8"
            ],
            [
             0.3333333333333333,
             "#9c179e"
            ],
            [
             0.4444444444444444,
             "#bd3786"
            ],
            [
             0.5555555555555556,
             "#d8576b"
            ],
            [
             0.6666666666666666,
             "#ed7953"
            ],
            [
             0.7777777777777778,
             "#fb9f3a"
            ],
            [
             0.8888888888888888,
             "#fdca26"
            ],
            [
             1,
             "#f0f921"
            ]
           ],
           "sequentialminus": [
            [
             0,
             "#0d0887"
            ],
            [
             0.1111111111111111,
             "#46039f"
            ],
            [
             0.2222222222222222,
             "#7201a8"
            ],
            [
             0.3333333333333333,
             "#9c179e"
            ],
            [
             0.4444444444444444,
             "#bd3786"
            ],
            [
             0.5555555555555556,
             "#d8576b"
            ],
            [
             0.6666666666666666,
             "#ed7953"
            ],
            [
             0.7777777777777778,
             "#fb9f3a"
            ],
            [
             0.8888888888888888,
             "#fdca26"
            ],
            [
             1,
             "#f0f921"
            ]
           ]
          },
          "colorway": [
           "#636efa",
           "#EF553B",
           "#00cc96",
           "#ab63fa",
           "#FFA15A",
           "#19d3f3",
           "#FF6692",
           "#B6E880",
           "#FF97FF",
           "#FECB52"
          ],
          "font": {
           "color": "#2a3f5f"
          },
          "geo": {
           "bgcolor": "white",
           "lakecolor": "white",
           "landcolor": "white",
           "showlakes": true,
           "showland": true,
           "subunitcolor": "#C8D4E3"
          },
          "hoverlabel": {
           "align": "left"
          },
          "hovermode": "closest",
          "mapbox": {
           "style": "light"
          },
          "paper_bgcolor": "white",
          "plot_bgcolor": "white",
          "polar": {
           "angularaxis": {
            "gridcolor": "#EBF0F8",
            "linecolor": "#EBF0F8",
            "ticks": ""
           },
           "bgcolor": "white",
           "radialaxis": {
            "gridcolor": "#EBF0F8",
            "linecolor": "#EBF0F8",
            "ticks": ""
           }
          },
          "scene": {
           "xaxis": {
            "backgroundcolor": "white",
            "gridcolor": "#DFE8F3",
            "gridwidth": 2,
            "linecolor": "#EBF0F8",
            "showbackground": true,
            "ticks": "",
            "zerolinecolor": "#EBF0F8"
           },
           "yaxis": {
            "backgroundcolor": "white",
            "gridcolor": "#DFE8F3",
            "gridwidth": 2,
            "linecolor": "#EBF0F8",
            "showbackground": true,
            "ticks": "",
            "zerolinecolor": "#EBF0F8"
           },
           "zaxis": {
            "backgroundcolor": "white",
            "gridcolor": "#DFE8F3",
            "gridwidth": 2,
            "linecolor": "#EBF0F8",
            "showbackground": true,
            "ticks": "",
            "zerolinecolor": "#EBF0F8"
           }
          },
          "shapedefaults": {
           "line": {
            "color": "#2a3f5f"
           }
          },
          "ternary": {
           "aaxis": {
            "gridcolor": "#DFE8F3",
            "linecolor": "#A2B1C6",
            "ticks": ""
           },
           "baxis": {
            "gridcolor": "#DFE8F3",
            "linecolor": "#A2B1C6",
            "ticks": ""
           },
           "bgcolor": "white",
           "caxis": {
            "gridcolor": "#DFE8F3",
            "linecolor": "#A2B1C6",
            "ticks": ""
           }
          },
          "title": {
           "x": 0.05
          },
          "xaxis": {
           "automargin": true,
           "gridcolor": "#EBF0F8",
           "linecolor": "#EBF0F8",
           "ticks": "",
           "title": {
            "standoff": 15
           },
           "zerolinecolor": "#EBF0F8",
           "zerolinewidth": 2
          },
          "yaxis": {
           "automargin": true,
           "gridcolor": "#EBF0F8",
           "linecolor": "#EBF0F8",
           "ticks": "",
           "title": {
            "standoff": 15
           },
           "zerolinecolor": "#EBF0F8",
           "zerolinewidth": 2
          }
         }
        },
        "xaxis": {
         "anchor": "y",
         "domain": [
          0,
          1
         ],
         "gridcolor": "rgb(200,200,200)",
         "griddash": "dash",
         "linecolor": "black",
         "linewidth": 2,
         "showline": true,
         "tickangle": 60,
         "title": {
          "text": "Subject Number"
         },
         "zeroline": false
        },
        "yaxis": {
         "anchor": "x",
         "domain": [
          0,
          1
         ],
         "gridcolor": "rgb(200,200,200)",
         "griddash": "dash",
         "linecolor": "black",
         "linewidth": 2,
         "showline": true,
         "title": {
          "text": ""
         },
         "zeroline": false
        }
       }
      },
      "text/html": [
       "<div>                            <div id=\"9efccb1a-79b5-4482-a708-0800b5fb831d\" class=\"plotly-graph-div\" style=\"height:525px; width:100%;\"></div>            <script type=\"text/javascript\">                require([\"plotly\"], function(Plotly) {                    window.PLOTLYENV=window.PLOTLYENV || {};                                    if (document.getElementById(\"9efccb1a-79b5-4482-a708-0800b5fb831d\")) {                    Plotly.newPlot(                        \"9efccb1a-79b5-4482-a708-0800b5fb831d\",                        [{\"alignmentgroup\":\"True\",\"hovertemplate\":\"variable=%{x}\\u003cbr\\u003evalue=%{y}\\u003cextra\\u003e\\u003c\\u002fextra\\u003e\",\"legendgroup\":\"\",\"marker\":{\"color\":\"#636efa\"},\"name\":\"\",\"notched\":false,\"offsetgroup\":\"\",\"orientation\":\"v\",\"showlegend\":false,\"x\":[\"Plural\",\"Plural\",\"Plural\",\"Plural\",\"Plural\",\"Plural\",\"Plural\",\"Plural\",\"Plural\",\"Plural\",\"Plural\",\"Plural\",\"Plural\",\"Plural\",\"Plural\",\"Plural\",\"Plural\",\"Plural\",\"Plural\",\"Plural\",\"Plural\",\"Plural\",\"Plural\",\"Plural\",\"Plural\",\"Plural\",\"Plural\",\"Plural\",\"Plural\",\"Plural\",\"Plural\",\"Plural\",\"Plural\",\"Plural\",\"Plural\",\"Plural\",\"Plural\",\"Plural\",\"Plural\",\"Plural\",\"Plural\",\"Plural\",\"Plural\",\"Plural\",\"Plural\",\"Plural\",\"Plural\",\"Plural\",\"Plural\",\"Plural\",\"Plural\",\"Plural\",\"Plural\",\"Plural\",\"Plural\",\"Plural\",\"Plural\",\"Plural\",\"Plural\",\"Plural\",\"Plural\",\"Plural\",\"Plural\",\"Plural\",\"Plural\",\"Plural\",\"Plural\",\"Plural\",\"Plural\",\"Plural\",\"Plural\",\"Plural\",\"Plural\",\"Plural\",\"Plural\",\"Plural\",\"Plural\",\"Plural\",\"Plural\",\"Plural\",\"Plural\",\"Plural\",\"Plural\",\"Plural\",\"Plural\",\"Plural\",\"Plural\",\"Plural\",\"Plural\",\"Plural\",\"Plural\",\"Plural\",\"Plural\",\"Plural\",\"Plural\",\"Plural\",\"Plural\",\"Plural\",\"Plural\",\"Plural\",\"Plural\",\"Plural\",\"Plural\",\"Plural\",\"Plural\",\"Plural\",\"Plural\",\"Plural\",\"Plural\",\"Plural\",\"Plural\",\"Plural\",\"Plural\",\"Plural\",\"Plural\",\"Plural\",\"Plural\",\"Plural\",\"Plural\",\"Plural\",\"Plural\",\"Plural\",\"Plural\",\"Plural\",\"Plural\",\"Plural\",\"Plural\",\"Plural\",\"Plural\",\"Plural\",\"Plural\",\"Plural\",\"Plural\",\"Plural\",\"Plural\",\"Plural\",\"Plural\",\"Plural\",\"Plural\",\"Plural\",\"Plural\",\"Plural\",\"Plural\",\"Plural\",\"Plural\",\"Plural\",\"Plural\",\"Plural\",\"Plural\",\"Singular\",\"Singular\",\"Singular\",\"Singular\",\"Singular\",\"Singular\",\"Singular\",\"Singular\",\"Singular\",\"Singular\",\"Singular\",\"Singular\",\"Singular\",\"Singular\",\"Singular\",\"Singular\",\"Singular\",\"Singular\",\"Singular\",\"Singular\",\"Singular\",\"Singular\",\"Singular\",\"Singular\",\"Singular\",\"Singular\",\"Singular\",\"Singular\",\"Singular\",\"Singular\",\"Singular\",\"Singular\",\"Singular\",\"Singular\",\"Singular\",\"Singular\",\"Singular\",\"Singular\",\"Singular\",\"Singular\",\"Singular\",\"Singular\",\"Singular\",\"Singular\",\"Singular\",\"Singular\",\"Singular\",\"Singular\",\"Singular\",\"Singular\",\"Singular\",\"Singular\",\"Singular\",\"Singular\",\"Singular\",\"Singular\",\"Singular\",\"Singular\",\"Singular\",\"Singular\",\"Singular\",\"Singular\",\"Singular\",\"Singular\",\"Singular\",\"Singular\",\"Singular\",\"Singular\",\"Singular\",\"Singular\",\"Singular\",\"Singular\",\"Singular\",\"Singular\",\"Singular\",\"Singular\",\"Singular\",\"Singular\",\"Singular\",\"Singular\",\"Singular\",\"Singular\",\"Singular\",\"Singular\",\"Singular\",\"Singular\",\"Singular\",\"Singular\",\"Singular\",\"Singular\",\"Singular\",\"Singular\",\"Singular\",\"Singular\",\"Singular\",\"Singular\",\"Singular\",\"Singular\",\"Singular\",\"Singular\",\"Singular\",\"Singular\",\"Singular\",\"Singular\",\"Singular\",\"Singular\",\"Singular\",\"Singular\",\"Singular\",\"Singular\",\"Singular\",\"Singular\",\"Singular\",\"Singular\",\"Singular\",\"Singular\",\"Singular\",\"Singular\",\"Singular\",\"Singular\",\"Singular\",\"Singular\",\"Singular\",\"Singular\",\"Singular\",\"Singular\",\"Singular\",\"Singular\",\"Singular\",\"Singular\",\"Singular\",\"Singular\",\"Singular\",\"Singular\",\"Singular\",\"Singular\",\"Singular\",\"Singular\",\"Singular\",\"Singular\",\"Singular\",\"Singular\",\"Singular\",\"Singular\",\"Singular\",\"Singular\",\"Singular\",\"Singular\",\"Singular\"],\"x0\":\" \",\"xaxis\":\"x\",\"y\":[2.4697232246398926,2.206775665283203,2.8477094173431396,3.4684948921203613,3.5516886711120605,2.5401694774627686,3.04693603515625,3.6305530071258545,1.7404425144195557,4.045846462249756,3.6157820224761963,2.9279048442840576,2.400742530822754,3.049854278564453,3.2438814640045166,3.9200515747070312,3.150102138519287,3.934497594833374,4.559023857116699,1.9479680061340332,3.1080050468444824,3.180471658706665,3.256598472595215,3.598906993865967,3.233445405960083,3.1474263668060303,3.6530098915100098,1.8998416662216187,2.0992798805236816,3.119567394256592,3.095118284225464,1.5116915702819824,3.8984336853027344,3.251065254211426,3.6030173301696777,3.4618825912475586,2.407151222229004,2.598987579345703,3.8889613151550293,3.084204912185669,2.1205806732177734,3.235381603240967,2.7847118377685547,3.0219993591308594,3.3817873001098633,3.0028510093688965,3.176391363143921,2.46880841255188,3.420095920562744,1.469408392906189,3.5775108337402344,3.3946032524108887,3.102501630783081,3.9871907234191895,2.4551162719726562,3.711291790008545,2.53568696975708,3.175201892852783,1.5106244087219238,2.97615385055542,4.066887855529785,2.1006805896759033,3.6174445152282715,2.375777006149292,2.4296388626098633,3.9961166381835938,2.858046054840088,1.8384774923324585,2.346243143081665,2.617997646331787,2.052931785583496,3.943122386932373,1.7014117240905762,2.6113522052764893,2.831132411956787,2.031383752822876,4.11044454574585,3.360095977783203,3.252377510070801,2.942328453063965,2.1778619289398193,3.343890428543091,3.432199478149414,2.3645544052124023,3.4163012504577637,2.305725574493408,2.310525894165039,3.5095717906951904,3.19217848777771,2.161778211593628,2.8342413902282715,3.1921823024749756,3.7361068725585938,3.4854021072387695,2.488140344619751,3.0629196166992188,2.5090885162353516,3.6030173301696777,3.443495512008667,2.677645206451416,2.451298713684082,1.5069530010223389,3.0673675537109375,3.6039037704467773,3.4038162231445312,3.100459337234497,3.5307071208953857,1.998358130455017,3.396594524383545,2.632328510284424,2.2743284702301025,2.7750234603881836,3.29390549659729,3.326082706451416,3.1377129554748535,2.5602529048919678,1.8944629430770874,3.1859326362609863,3.0561275482177734,3.0066866874694824,3.3642477989196777,4.082801818847656,3.252377510070801,2.8458075523376465,2.502509832382202,3.729707717895508,2.4312496185302734,3.217266082763672,3.0370383262634277,2.5307669639587402,3.3946032524108887,3.606879472732544,1.3053646087646484,1.894796371459961,2.7161569595336914,4.166988372802734,1.9973397254943848,3.3331048488616943,3.6586365699768066,1.8242111206054688,2.7969272136688232,2.941840648651123,2.698838233947754,3.479800224304199,3.0262603759765625,3.1370677947998047,3.7530782222747803,3.2048590183258057,3.677668571472168,-1.2304754257202148,-0.9806872010231018,-0.950634241104126,-0.49461203813552856,-1.2349265813827515,-0.9278135299682617,-0.9900612235069275,-0.9025148153305054,-1.0769370794296265,-0.4596390724182129,-0.9934413433074951,-1.1638941764831543,-1.3278944492340088,-1.2376880645751953,-0.538594126701355,-1.2257484197616577,-1.2996649742126465,-1.2196134328842163,-1.31925368309021,-1.1949653625488281,-1.1386559009552002,-0.40582138299942017,-0.6255087852478027,-1.3696496486663818,-0.35371822118759155,-0.9503622055053711,-0.9657431840896606,-1.1139553785324097,-1.1694310903549194,-0.9582740664482117,-0.6008575558662415,-0.6531635522842407,-0.9998217225074768,-0.5217374563217163,-1.722522497177124,-1.6557483673095703,-0.35461732745170593,-0.9747136831283569,-1.4407304525375366,-1.484771728515625,-1.4798144102096558,-1.4388998746871948,-1.0264544486999512,-0.7790855765342712,-0.4979836046695709,-1.2991303205490112,-0.45978599786758423,-1.2015538215637207,-0.40521228313446045,-1.158378005027771,-1.0241819620132446,-0.5243192911148071,-0.9948697090148926,-0.8760435581207275,-0.8687849640846252,-1.0950181484222412,-1.1790003776550293,-1.0273685455322266,-1.4232120513916016,-1.2701945304870605,-1.340965986251831,-1.1849753856658936,-0.8538767695426941,-1.3258161544799805,-1.496551513671875,-1.466306447982788,-1.696367859840393,-1.0396331548690796,-1.4256253242492676,-1.1732900142669678,-1.0934228897094727,-1.175527572631836,-0.9512760639190674,-1.466362714767456,-1.305458903312683,-1.077995777130127,-1.0983483791351318,-0.6241703629493713,-1.1931862831115723,-1.157844066619873,-1.0153167247772217,-0.6605477333068848,-1.0473732948303223,-0.9316250681877136,-0.4345448613166809,-1.0341345071792603,-0.6732206344604492,-0.8153218626976013,-0.19714611768722534,-1.1418399810791016,-0.9372561573982239,-1.433047890663147,-0.8842313885688782,-0.6679554581642151,-1.3370001316070557,-1.0887060165405273,-1.7002567052841187,-0.4302891194820404,-0.9380256533622742,-1.1420310735702515,-0.9043806791305542,-0.7239022254943848,-1.3996737003326416,-1.3661564588546753,-1.6754846572875977,-0.6992224454879761,-0.6937021613121033,-0.7912718057632446,-1.0751149654388428,-0.9662498235702515,-0.7496687173843384,-0.7049354910850525,-1.3056848049163818,-1.4661550521850586,-1.0644696950912476,-1.4754219055175781,-1.003257393836975,-0.635675311088562,-1.1234854459762573,-0.8980101346969604,-1.0102524757385254,-1.1796492338180542,-0.9529950618743896,-0.6262619495391846,-1.0528056621551514,-1.2240967750549316,-1.3408197164535522,-0.978424072265625,-0.6056258678436279,-1.152440071105957,-0.9278135299682617,-1.0951926708221436,-1.2064449787139893,-0.890384316444397,-0.7127432227134705,-0.7875733375549316,-0.6359575390815735,-0.9319484233856201,-0.5144273042678833,-0.8570362329483032,-1.096685767173767,-1.1714223623275757,-0.5787109136581421,-0.17590011656284332,-1.2739518880844116,-1.0203096866607666,-0.4909081757068634,-1.1353691816329956,-0.9872533082962036],\"y0\":\" \",\"yaxis\":\"y\",\"type\":\"box\"}],                        {\"template\":{\"data\":{\"barpolar\":[{\"marker\":{\"line\":{\"color\":\"white\",\"width\":0.5},\"pattern\":{\"fillmode\":\"overlay\",\"size\":10,\"solidity\":0.2}},\"type\":\"barpolar\"}],\"bar\":[{\"error_x\":{\"color\":\"#2a3f5f\"},\"error_y\":{\"color\":\"#2a3f5f\"},\"marker\":{\"line\":{\"color\":\"white\",\"width\":0.5},\"pattern\":{\"fillmode\":\"overlay\",\"size\":10,\"solidity\":0.2}},\"type\":\"bar\"}],\"carpet\":[{\"aaxis\":{\"endlinecolor\":\"#2a3f5f\",\"gridcolor\":\"#C8D4E3\",\"linecolor\":\"#C8D4E3\",\"minorgridcolor\":\"#C8D4E3\",\"startlinecolor\":\"#2a3f5f\"},\"baxis\":{\"endlinecolor\":\"#2a3f5f\",\"gridcolor\":\"#C8D4E3\",\"linecolor\":\"#C8D4E3\",\"minorgridcolor\":\"#C8D4E3\",\"startlinecolor\":\"#2a3f5f\"},\"type\":\"carpet\"}],\"choropleth\":[{\"colorbar\":{\"outlinewidth\":0,\"ticks\":\"\"},\"type\":\"choropleth\"}],\"contourcarpet\":[{\"colorbar\":{\"outlinewidth\":0,\"ticks\":\"\"},\"type\":\"contourcarpet\"}],\"contour\":[{\"colorbar\":{\"outlinewidth\":0,\"ticks\":\"\"},\"colorscale\":[[0.0,\"#0d0887\"],[0.1111111111111111,\"#46039f\"],[0.2222222222222222,\"#7201a8\"],[0.3333333333333333,\"#9c179e\"],[0.4444444444444444,\"#bd3786\"],[0.5555555555555556,\"#d8576b\"],[0.6666666666666666,\"#ed7953\"],[0.7777777777777778,\"#fb9f3a\"],[0.8888888888888888,\"#fdca26\"],[1.0,\"#f0f921\"]],\"type\":\"contour\"}],\"heatmapgl\":[{\"colorbar\":{\"outlinewidth\":0,\"ticks\":\"\"},\"colorscale\":[[0.0,\"#0d0887\"],[0.1111111111111111,\"#46039f\"],[0.2222222222222222,\"#7201a8\"],[0.3333333333333333,\"#9c179e\"],[0.4444444444444444,\"#bd3786\"],[0.5555555555555556,\"#d8576b\"],[0.6666666666666666,\"#ed7953\"],[0.7777777777777778,\"#fb9f3a\"],[0.8888888888888888,\"#fdca26\"],[1.0,\"#f0f921\"]],\"type\":\"heatmapgl\"}],\"heatmap\":[{\"colorbar\":{\"outlinewidth\":0,\"ticks\":\"\"},\"colorscale\":[[0.0,\"#0d0887\"],[0.1111111111111111,\"#46039f\"],[0.2222222222222222,\"#7201a8\"],[0.3333333333333333,\"#9c179e\"],[0.4444444444444444,\"#bd3786\"],[0.5555555555555556,\"#d8576b\"],[0.6666666666666666,\"#ed7953\"],[0.7777777777777778,\"#fb9f3a\"],[0.8888888888888888,\"#fdca26\"],[1.0,\"#f0f921\"]],\"type\":\"heatmap\"}],\"histogram2dcontour\":[{\"colorbar\":{\"outlinewidth\":0,\"ticks\":\"\"},\"colorscale\":[[0.0,\"#0d0887\"],[0.1111111111111111,\"#46039f\"],[0.2222222222222222,\"#7201a8\"],[0.3333333333333333,\"#9c179e\"],[0.4444444444444444,\"#bd3786\"],[0.5555555555555556,\"#d8576b\"],[0.6666666666666666,\"#ed7953\"],[0.7777777777777778,\"#fb9f3a\"],[0.8888888888888888,\"#fdca26\"],[1.0,\"#f0f921\"]],\"type\":\"histogram2dcontour\"}],\"histogram2d\":[{\"colorbar\":{\"outlinewidth\":0,\"ticks\":\"\"},\"colorscale\":[[0.0,\"#0d0887\"],[0.1111111111111111,\"#46039f\"],[0.2222222222222222,\"#7201a8\"],[0.3333333333333333,\"#9c179e\"],[0.4444444444444444,\"#bd3786\"],[0.5555555555555556,\"#d8576b\"],[0.6666666666666666,\"#ed7953\"],[0.7777777777777778,\"#fb9f3a\"],[0.8888888888888888,\"#fdca26\"],[1.0,\"#f0f921\"]],\"type\":\"histogram2d\"}],\"histogram\":[{\"marker\":{\"pattern\":{\"fillmode\":\"overlay\",\"size\":10,\"solidity\":0.2}},\"type\":\"histogram\"}],\"mesh3d\":[{\"colorbar\":{\"outlinewidth\":0,\"ticks\":\"\"},\"type\":\"mesh3d\"}],\"parcoords\":[{\"line\":{\"colorbar\":{\"outlinewidth\":0,\"ticks\":\"\"}},\"type\":\"parcoords\"}],\"pie\":[{\"automargin\":true,\"type\":\"pie\"}],\"scatter3d\":[{\"line\":{\"colorbar\":{\"outlinewidth\":0,\"ticks\":\"\"}},\"marker\":{\"colorbar\":{\"outlinewidth\":0,\"ticks\":\"\"}},\"type\":\"scatter3d\"}],\"scattercarpet\":[{\"marker\":{\"colorbar\":{\"outlinewidth\":0,\"ticks\":\"\"}},\"type\":\"scattercarpet\"}],\"scattergeo\":[{\"marker\":{\"colorbar\":{\"outlinewidth\":0,\"ticks\":\"\"}},\"type\":\"scattergeo\"}],\"scattergl\":[{\"marker\":{\"colorbar\":{\"outlinewidth\":0,\"ticks\":\"\"}},\"type\":\"scattergl\"}],\"scattermapbox\":[{\"marker\":{\"colorbar\":{\"outlinewidth\":0,\"ticks\":\"\"}},\"type\":\"scattermapbox\"}],\"scatterpolargl\":[{\"marker\":{\"colorbar\":{\"outlinewidth\":0,\"ticks\":\"\"}},\"type\":\"scatterpolargl\"}],\"scatterpolar\":[{\"marker\":{\"colorbar\":{\"outlinewidth\":0,\"ticks\":\"\"}},\"type\":\"scatterpolar\"}],\"scatter\":[{\"fillpattern\":{\"fillmode\":\"overlay\",\"size\":10,\"solidity\":0.2},\"type\":\"scatter\"}],\"scatterternary\":[{\"marker\":{\"colorbar\":{\"outlinewidth\":0,\"ticks\":\"\"}},\"type\":\"scatterternary\"}],\"surface\":[{\"colorbar\":{\"outlinewidth\":0,\"ticks\":\"\"},\"colorscale\":[[0.0,\"#0d0887\"],[0.1111111111111111,\"#46039f\"],[0.2222222222222222,\"#7201a8\"],[0.3333333333333333,\"#9c179e\"],[0.4444444444444444,\"#bd3786\"],[0.5555555555555556,\"#d8576b\"],[0.6666666666666666,\"#ed7953\"],[0.7777777777777778,\"#fb9f3a\"],[0.8888888888888888,\"#fdca26\"],[1.0,\"#f0f921\"]],\"type\":\"surface\"}],\"table\":[{\"cells\":{\"fill\":{\"color\":\"#EBF0F8\"},\"line\":{\"color\":\"white\"}},\"header\":{\"fill\":{\"color\":\"#C8D4E3\"},\"line\":{\"color\":\"white\"}},\"type\":\"table\"}]},\"layout\":{\"annotationdefaults\":{\"arrowcolor\":\"#2a3f5f\",\"arrowhead\":0,\"arrowwidth\":1},\"autotypenumbers\":\"strict\",\"coloraxis\":{\"colorbar\":{\"outlinewidth\":0,\"ticks\":\"\"}},\"colorscale\":{\"diverging\":[[0,\"#8e0152\"],[0.1,\"#c51b7d\"],[0.2,\"#de77ae\"],[0.3,\"#f1b6da\"],[0.4,\"#fde0ef\"],[0.5,\"#f7f7f7\"],[0.6,\"#e6f5d0\"],[0.7,\"#b8e186\"],[0.8,\"#7fbc41\"],[0.9,\"#4d9221\"],[1,\"#276419\"]],\"sequential\":[[0.0,\"#0d0887\"],[0.1111111111111111,\"#46039f\"],[0.2222222222222222,\"#7201a8\"],[0.3333333333333333,\"#9c179e\"],[0.4444444444444444,\"#bd3786\"],[0.5555555555555556,\"#d8576b\"],[0.6666666666666666,\"#ed7953\"],[0.7777777777777778,\"#fb9f3a\"],[0.8888888888888888,\"#fdca26\"],[1.0,\"#f0f921\"]],\"sequentialminus\":[[0.0,\"#0d0887\"],[0.1111111111111111,\"#46039f\"],[0.2222222222222222,\"#7201a8\"],[0.3333333333333333,\"#9c179e\"],[0.4444444444444444,\"#bd3786\"],[0.5555555555555556,\"#d8576b\"],[0.6666666666666666,\"#ed7953\"],[0.7777777777777778,\"#fb9f3a\"],[0.8888888888888888,\"#fdca26\"],[1.0,\"#f0f921\"]]},\"colorway\":[\"#636efa\",\"#EF553B\",\"#00cc96\",\"#ab63fa\",\"#FFA15A\",\"#19d3f3\",\"#FF6692\",\"#B6E880\",\"#FF97FF\",\"#FECB52\"],\"font\":{\"color\":\"#2a3f5f\"},\"geo\":{\"bgcolor\":\"white\",\"lakecolor\":\"white\",\"landcolor\":\"white\",\"showlakes\":true,\"showland\":true,\"subunitcolor\":\"#C8D4E3\"},\"hoverlabel\":{\"align\":\"left\"},\"hovermode\":\"closest\",\"mapbox\":{\"style\":\"light\"},\"paper_bgcolor\":\"white\",\"plot_bgcolor\":\"white\",\"polar\":{\"angularaxis\":{\"gridcolor\":\"#EBF0F8\",\"linecolor\":\"#EBF0F8\",\"ticks\":\"\"},\"bgcolor\":\"white\",\"radialaxis\":{\"gridcolor\":\"#EBF0F8\",\"linecolor\":\"#EBF0F8\",\"ticks\":\"\"}},\"scene\":{\"xaxis\":{\"backgroundcolor\":\"white\",\"gridcolor\":\"#DFE8F3\",\"gridwidth\":2,\"linecolor\":\"#EBF0F8\",\"showbackground\":true,\"ticks\":\"\",\"zerolinecolor\":\"#EBF0F8\"},\"yaxis\":{\"backgroundcolor\":\"white\",\"gridcolor\":\"#DFE8F3\",\"gridwidth\":2,\"linecolor\":\"#EBF0F8\",\"showbackground\":true,\"ticks\":\"\",\"zerolinecolor\":\"#EBF0F8\"},\"zaxis\":{\"backgroundcolor\":\"white\",\"gridcolor\":\"#DFE8F3\",\"gridwidth\":2,\"linecolor\":\"#EBF0F8\",\"showbackground\":true,\"ticks\":\"\",\"zerolinecolor\":\"#EBF0F8\"}},\"shapedefaults\":{\"line\":{\"color\":\"#2a3f5f\"}},\"ternary\":{\"aaxis\":{\"gridcolor\":\"#DFE8F3\",\"linecolor\":\"#A2B1C6\",\"ticks\":\"\"},\"baxis\":{\"gridcolor\":\"#DFE8F3\",\"linecolor\":\"#A2B1C6\",\"ticks\":\"\"},\"bgcolor\":\"white\",\"caxis\":{\"gridcolor\":\"#DFE8F3\",\"linecolor\":\"#A2B1C6\",\"ticks\":\"\"}},\"title\":{\"x\":0.05},\"xaxis\":{\"automargin\":true,\"gridcolor\":\"#EBF0F8\",\"linecolor\":\"#EBF0F8\",\"ticks\":\"\",\"title\":{\"standoff\":15},\"zerolinecolor\":\"#EBF0F8\",\"zerolinewidth\":2},\"yaxis\":{\"automargin\":true,\"gridcolor\":\"#EBF0F8\",\"linecolor\":\"#EBF0F8\",\"ticks\":\"\",\"title\":{\"standoff\":15},\"zerolinecolor\":\"#EBF0F8\",\"zerolinewidth\":2}}},\"xaxis\":{\"anchor\":\"y\",\"domain\":[0.0,1.0],\"title\":{\"text\":\"Subject Number\"},\"showline\":true,\"linewidth\":2,\"linecolor\":\"black\",\"tickangle\":60,\"gridcolor\":\"rgb(200,200,200)\",\"griddash\":\"dash\",\"zeroline\":false},\"yaxis\":{\"anchor\":\"x\",\"domain\":[0.0,1.0],\"title\":{\"text\":\"\"},\"showline\":true,\"linewidth\":2,\"linecolor\":\"black\",\"gridcolor\":\"rgb(200,200,200)\",\"griddash\":\"dash\",\"zeroline\":false},\"legend\":{\"tracegroupgap\":0},\"margin\":{\"t\":60},\"boxmode\":\"group\",\"font\":{\"size\":15}},                        {\"responsive\": true}                    ).then(function(){\n",
       "                            \n",
       "var gd = document.getElementById('9efccb1a-79b5-4482-a708-0800b5fb831d');\n",
       "var x = new MutationObserver(function (mutations, observer) {{\n",
       "        var display = window.getComputedStyle(gd).display;\n",
       "        if (!display || display === 'none') {{\n",
       "            console.log([gd, 'removed!']);\n",
       "            Plotly.purge(gd);\n",
       "            observer.disconnect();\n",
       "        }}\n",
       "}});\n",
       "\n",
       "// Listen for the removal of the full notebook cells\n",
       "var notebookContainer = gd.closest('#notebook-container');\n",
       "if (notebookContainer) {{\n",
       "    x.observe(notebookContainer, {childList: true});\n",
       "}}\n",
       "\n",
       "// Listen for the clearing of the current output cell\n",
       "var outputEl = gd.closest('.output');\n",
       "if (outputEl) {{\n",
       "    x.observe(outputEl, {childList: true});\n",
       "}}\n",
       "\n",
       "                        })                };                });            </script>        </div>"
      ]
     },
     "metadata": {},
     "output_type": "display_data"
    }
   ],
   "source": [
    "df = pd.DataFrame.from_dict(per_number_dict)\n",
    "import plotly.express as px\n",
    "fig = px.box(df, title=f'')\n",
    "fig.update_layout(\n",
    "    xaxis_title=\"Subject Number\", yaxis_title=\"\",\n",
    "    font=dict(\n",
    "        size=15,  # Set the font size here\n",
    "    )\n",
    ")\n",
    "fig = paper_plot(fig, tickangle=0)\n",
    "fig.show()"
   ]
  },
  {
   "cell_type": "code",
   "execution_count": 21,
   "metadata": {},
   "outputs": [],
   "source": [
    "pio.write_image(fig, f'{images_dir}/{language}_MLP{MLP_layer}_neuron{MLP_neuron}_act_subj_num.png',scale=5, width=550, height=350)"
   ]
  },
  {
   "cell_type": "code",
   "execution_count": 12,
   "metadata": {},
   "outputs": [],
   "source": [
    "layer_index = 17\n",
    "head_index = 4\n",
    "\n",
    "# Compute final LN normalized attention head output, attention block\n",
    "# MLP output, or specific neuron\n",
    "\n",
    "# normalized_attn_hook_result = cache.apply_ln_to_stack(\n",
    "#     cache[f'blocks.{layer_index}.attn.hook_result'][:,-1,head_index], layer=-1, pos_slice=-1\n",
    "# )\n",
    "\n",
    "# normalized_attn_block = cache.apply_ln_to_stack(\n",
    "#     cache['blocks.0.hook_attn_out'][:,-1,:], layer=-1, pos_slice=-1\n",
    "# )\n",
    "\n",
    "# # [50, 7, 2048]\n",
    "# normalized_mlp_out = cache.apply_ln_to_stack(\n",
    "#     cache[f'blocks.{layer_index}.hook_mlp_out'][:,-1], layer=-1, pos_slice=-1\n",
    "# )\n",
    "\n",
    "\n",
    "neuron_idx = 1138\n",
    "neuron = model.W_out[layer_index][neuron_idx].unsqueeze(0)\n",
    "\n",
    "# Project component output into the vocabulary space\n",
    "# Select model component output!\n",
    "tokens_component = einsum(\n",
    "        f\"batch d_model, d_model vocab_size \\\n",
    "        -> batch vocab_size\",\n",
    "        neuron * model.ln_final.w,\n",
    "        model.unembed.W_U)\n",
    "torch.cuda.empty_cache()"
   ]
  },
  {
   "cell_type": "code",
   "execution_count": 13,
   "metadata": {},
   "outputs": [
    {
     "name": "stdout",
     "output_type": "stream",
     "text": [
      "Top promoted tokens: ['▁!...', 'tinyos', 'tshell', 'uffy', 'jarah', '▁Pexels', '▁pixabay', '▁tenda', 'GEBURTSDATUM', '▁Bhi', '▁Méri', '▁Dubuque', 'vergne', '▁uefa', 'Discografia', '▁effe', '▁thut', '▁Stavanger', 'rungsseite', '▁inverno', 'EditorBrowsable', 'Ẳ', '▁Pixabay', '▁Evansville', 'olkien', '▁greate', '▁grammi', '▁Thần', '▁liverpool', '▁peugeot', '!:)', 'Autoritní', 'ChatColor', '▁morrow', '▁tartalomajánló', '▁chelsea', '▁overcrow', '!!:', '▁autorytatywna', '▁Tradu', '▁lidl', '▁nct', '▁fays', '▁nabo', 'Портали', 'Karakteristik', '▁:)</', '▁fhe', \"▁:')\", '▁fuf', '▁whil', '▁racconta', 'alpin', '▁princi', 'uscany', '▁desir', '▁ktm', 'rivit', 'memoized', '▁:)))', '▁outono', '▁onsdag', 'umplimiento', '▁Roskov', '▁København', '▁venice', '▁bangkok', '▁herre', '▁waer', '▁shou', '!!</', 'ategorias', 'verifyException', '▁poff', '▁betweenstory', '▁Mulher', '▁tõ', '▁iStock', '▁Aggi', '▁Gurgaon', 'uxedo', '▁Pressed', '▁fign', '▁thar', 'bibnamefont', '▁CreateTagHelper', '▁Occidente', 'zegor', 'blij', '▁inev', '▁porcelaine', '▁krop', '▁wikihow', 'esticular', 'entieth', 'calciatore', 'örgy', '▁pluri', '▁oof', 'attered', 'ाहरण', '▁delhi', '▁fub', '▁Muzeum', '▁dispen', 'igarette', '▁purcha', 'kamers', '▁inimes', '▁fredag', '▁tasse', '▁bicchiere', '▁cdti', '▁olx', '▁Evanston', '▁shr', '▁Thiên', '▁xoxo', 'SPIN', 'ssaint', '▁smtplib', '▁Alamy', 'weebly', '▁mergul', 'assertions', '▁vienas', '▁litri', 'setVerticalGroup', '▁eft', '▁🥲', 'magini', '▁Violon', 'habad', '▁Cubes', '▁Désolé', '▁handleMessage', '▁gelas', '▁sml', '▁koncentr', 'attoos', 'ArrowToggle', \"▁'\\\\\\\\;'\", '📋', '▁Wherefore', '▁magis', '▁Bourgoin', '▁depositphotos', '▁publick', '▁varanda', 'IContainer', 'PreInfinity', 'Surviving', '#+#', '▁appartements', '▁mumbai', '▁brilli', '▁Júnior', '▁Chúa', '▁tenerife', '▁bụ', '▁Wabash', '▁Livro', '▁verily', '▁Zeeland', '▁mediano', '▁Amour', 'InBytes', '+#+', '▁wif', '▁?...', '▁encomp', '▁!!!!!!', '▁Lmao', '▁tokyo', '▁biograf', 'liferay', 'Ilustra', 'ثيق', 'endencies', 'Карьера', '▁irish', 'rinfo', 'todd', '▁الرخصة', '▁Nagpur', '▁historien', '▁territoires', '▁seoul', '▁pcx', 'pegno', 'Viited', '▁krishna', '▁jule', '▁;-;', '▁Hyperion', '▁€€', '▁dammit', 'vstack', 'клопе', '▁rivi', 'diğim', '▁tew', '▁philosop', '▁sabi', 'zookeeper', '▁ugg', '▁voile', \"▁!'\", 'soever', '▁panier', '▁prius', '▁évi', '▁arrivé', '▁Jogo', '▁Agreg', 'gameOver', '▁Rockford', '▁Stillwater', '▁rime', 'المل', '▁Vallarta', 'CollectionUtils', 'livejournal', '▁Jerez', '▁officiers', '▁bds', '▁poland', 'ordinaire', 'NUMX', 'calaure', '▁wond', 'ahi', '▁disambiguazione', '▁sally', 'trung', 'zeh', '▁Peoria', 'TOXIC', 'ijer', '▁dissol', '▁Diffraction', '▁!?', '▁Bakersfield', 'quillo', '▁للاسماء', '▁Harrisburg', '▁🤣🤣', '▁createSlice', '▁Projektu', 'ennai', 'actéris', '▁burton', 'rxjs', '▁!”', '▁compagnies', 'equila', '▁interro', '▁kerst', 'Då', 'wixt', 'scheid', 'zipped', 'ülü', 'atalyst', 'Искәрмәләр', '▁fotografie', '않', '▁Joaqu', '▁AssemblyCompany', 'Kommun', '▁Abingdon', '▁scopri', '▁Prentice', '▁Soi', '▁Elast', '▁liquido', 'arition', '▁soie', '▁thefe', '▁rolle', '▁Cárdenas', '▁Karab', '▁Cougars', 'jerc', '▁Montrose', '▁départements', 'ruitment', '▁momo', '▁befo', 'skine', '▁Dissolve', '▁Ahh', '▁mxArray', '▁Isten', '▁svolge', 'rousel', 'Karakter', '▁Dacă', '▁Chartres', '▁acce', '▁racon', '▁grati', '▁boul', 'illerato', 'thebibliography', '🎰', '..!!', 'rister', 'stackoverflow', '▁archivi', 'tvguidetime', '▁fince', '▁Græ', 'yczny', 'GBK', 'ientí', '▁cherokee', '▁snows', '▁blinks', '▁FBref', '▁Konkur', '▁accor', '▁Evaporation', '▁Limoges', 'NotImplemented', 'Жен', '▁alcool', '▁اطلع', '▁fto', 'Rankings', '▁bonnie', 'Ké', '▁NSCoder', 'ENJOY', '▁😭😭', '▁ille', '▁provence', '▁Messieurs', '▁côtes', '▁Zelanda', '▁tdci', '▁lts', '▁guarante', '▁Asbury', 'androidx', '▁ciao', '▁Textures', 'Enciclopedia', 'dulos', 'ainted', '▁banane', 'rds', 'tritts', '▁Castelo', '▁Rese', '▁boks', 'Publik', '▁farine', '▁Combien', '▁wales', '▁Quân', '▁bordeaux', '▁Appro', 'américa', '▁immor', '€)', 'Wirtschaft', '▁sprit', '▁Vũ', '▁Changer', 'dunk', '▁srs', 'logico', 'ôtel', 'Ответ', '▁októ', '▁munich', 'Igles', '▁Paulista', 'ritto', '▁lincoln', '▁crou', '▁ingredi', 'perso', '▁frontale', 'Pherson', 'Москва', '▁PHPUnit', '▁jk', '▁Arxivat', '▁rati', 'нился', 'Matrices', '▁Jerusal', '▁Arrivals', '▁Cardigan', 'hared', 'GameManager', '▁lørdag', '▁respecter', '▁Rumuni', 'rehensive', '▁fte', '▁Fs', '▁Meksiku', '▁Grill', '▁Bourg', '▁aasta', '▁autunno', '▁Journ', '▁torsdag', 'Imported', 'boxed', '▁Topeka', '▁XXXV', 'Código', '▁Núñez', '▁Confe', '▁troup', '▁محفوظة', '▁Skiing', '▁bourg', 'Caracteristici', 'ristiano', 'Père', 'Chennai', '▁Brussels', 'erschiedene', '▁amsterdam', 'silian', '▁censiti', '▁strick', 'gelopen', '▁Antiques', '▁superflu', '▁marqu', '▁acel', '▁smite', 'roppo', 'kamer', '▁alarme', '▁chois', '▁vry', 'iptables', '▁budapest', 'jería', 'setCount', 'trás', 'AutoresizingMask', '▁Auvergne', '▁assiste', '▁Hous', '▁olympiques', '▁paillettes', '▁Вікі', '▁perfon', '▁fash', 'estament', '▁/>\";', '▁Spirito', '▁découv', 'لينكات', '▁Knoxville', 'öch', '▁Britann', 'XmlAccessType', 'cửa', '▁Flagstaff', '▁pregn', '▁aand', '▁tyn', '▁Wikiquote', '▁Dearborn', '▁🙃', '▁Majesté', 'vidéo', 'Couleur', 'Biografi', 'inemann', '▁Solubility', 'ďaka', '℗', '▁scalars', '▁bedankt', '▁Whittier', '▁gramas', 'êtres', '▁??????', '▁contacter', '▁Obrador', '▁yonder', 'Étienne', '▁naturellement', 'yadh', 'horizontalLayout', '▁Fluids', '▁katkıda', 'AdapterFactory', '▁huy', '▁vhs']\n",
      "Ranking correct prediction: 177307\n",
      "Ranking wrong prediction: 255640\n",
      "\n"
     ]
    }
   ],
   "source": [
    "from collections import defaultdict\n",
    "\n",
    "# Get top/bottom tokens\n",
    "top_k = 500\n",
    "largest = True # True: promoted tokens / False: suppressed tokens\n",
    "ranking_dict = defaultdict(list)\n",
    "top_k_tokens_component = torch.topk(tokens_component, top_k, dim=-1, largest=largest).indices#.cpu().tolist()\n",
    "for batch_element in range(top_k_tokens_component.shape[0]):\n",
    "        top_k_str_tokens_component = model.tokenizer.convert_ids_to_tokens(top_k_tokens_component[batch_element])\n",
    "        if largest == False:\n",
    "                print(f'Suppresed tokens: {top_k_str_tokens_component}')\n",
    "        else:\n",
    "                print(f'Top promoted tokens: {top_k_str_tokens_component}')\n",
    "        rank_corr_pred = (torch.sort(tokens_component, descending=largest).indices[batch_element] == answer_token_indices[batch_element][0].item()).nonzero(as_tuple=True)[0].item()\n",
    "        rank_wrong_pred = (torch.sort(tokens_component, descending=largest).indices[batch_element] == answer_token_indices[batch_element][1].item()).nonzero(as_tuple=True)[0].item()\n",
    "        \n",
    "        if largest == False:\n",
    "                # We show indices starting from the last\n",
    "                rank_corr_pred*=-1\n",
    "                rank_wrong_pred*=-1\n",
    "        ranking_dict['corr_pred'].append(rank_corr_pred)\n",
    "        ranking_dict['wrong_pred'].append(rank_wrong_pred)\n",
    "        print(f'Ranking correct prediction: {rank_corr_pred}')\n",
    "        print(f'Ranking wrong prediction: {rank_wrong_pred}\\n')\n"
   ]
  },
  {
   "cell_type": "code",
   "execution_count": null,
   "metadata": {},
   "outputs": [
    {
     "data": {
      "application/vnd.plotly.v1+json": {
       "config": {
        "plotlyServerURL": "https://plot.ly"
       },
       "data": [
        {
         "alignmentgroup": "True",
         "hovertemplate": "variable=%{x}<br>value=%{y}<extra></extra>",
         "legendgroup": "",
         "marker": {
          "color": "#636efa"
         },
         "name": "",
         "notched": false,
         "offsetgroup": "",
         "orientation": "v",
         "showlegend": false,
         "type": "box",
         "x": [
          "corr_pred",
          "corr_pred",
          "corr_pred",
          "corr_pred",
          "corr_pred",
          "corr_pred",
          "corr_pred",
          "corr_pred",
          "corr_pred",
          "corr_pred",
          "corr_pred",
          "corr_pred",
          "corr_pred",
          "corr_pred",
          "corr_pred",
          "corr_pred",
          "corr_pred",
          "corr_pred",
          "corr_pred",
          "corr_pred",
          "corr_pred",
          "corr_pred",
          "corr_pred",
          "corr_pred",
          "corr_pred",
          "corr_pred",
          "corr_pred",
          "corr_pred",
          "corr_pred",
          "corr_pred",
          "corr_pred",
          "corr_pred",
          "corr_pred",
          "corr_pred",
          "corr_pred",
          "corr_pred",
          "corr_pred",
          "corr_pred",
          "corr_pred",
          "corr_pred",
          "corr_pred",
          "corr_pred",
          "corr_pred",
          "corr_pred",
          "corr_pred",
          "corr_pred",
          "corr_pred",
          "corr_pred",
          "corr_pred",
          "corr_pred",
          "wrong_pred",
          "wrong_pred",
          "wrong_pred",
          "wrong_pred",
          "wrong_pred",
          "wrong_pred",
          "wrong_pred",
          "wrong_pred",
          "wrong_pred",
          "wrong_pred",
          "wrong_pred",
          "wrong_pred",
          "wrong_pred",
          "wrong_pred",
          "wrong_pred",
          "wrong_pred",
          "wrong_pred",
          "wrong_pred",
          "wrong_pred",
          "wrong_pred",
          "wrong_pred",
          "wrong_pred",
          "wrong_pred",
          "wrong_pred",
          "wrong_pred",
          "wrong_pred",
          "wrong_pred",
          "wrong_pred",
          "wrong_pred",
          "wrong_pred",
          "wrong_pred",
          "wrong_pred",
          "wrong_pred",
          "wrong_pred",
          "wrong_pred",
          "wrong_pred",
          "wrong_pred",
          "wrong_pred",
          "wrong_pred",
          "wrong_pred",
          "wrong_pred",
          "wrong_pred",
          "wrong_pred",
          "wrong_pred",
          "wrong_pred",
          "wrong_pred",
          "wrong_pred",
          "wrong_pred",
          "wrong_pred",
          "wrong_pred"
         ],
         "x0": " ",
         "xaxis": "x",
         "y": [
          61,
          5,
          34,
          5,
          2,
          33,
          48,
          165,
          8,
          1,
          2,
          3,
          58,
          59,
          12,
          5,
          21,
          745,
          7,
          2,
          9,
          85,
          1,
          18,
          3,
          9,
          55,
          11,
          20,
          10,
          8,
          2,
          5,
          145,
          357,
          2,
          3,
          228,
          1,
          3,
          252,
          69,
          1,
          6,
          9,
          6,
          21,
          10,
          48,
          7,
          24205,
          69432,
          3319,
          554,
          81617,
          175,
          339,
          1891,
          74413,
          51518,
          81579,
          73561,
          135,
          1403,
          260,
          26578,
          5401,
          7417,
          39726,
          3694,
          697,
          4252,
          63861,
          144,
          52388,
          43232,
          1332,
          2090,
          583,
          54331,
          24555,
          60474,
          6752,
          2102,
          1683,
          58487,
          50132,
          222,
          56534,
          25527,
          4715,
          1375,
          2153,
          32644,
          1838,
          41146,
          7304,
          22901,
          539,
          387
         ],
         "y0": " ",
         "yaxis": "y"
        }
       ],
       "layout": {
        "boxmode": "group",
        "legend": {
         "tracegroupgap": 0
        },
        "template": {
         "data": {
          "bar": [
           {
            "error_x": {
             "color": "#2a3f5f"
            },
            "error_y": {
             "color": "#2a3f5f"
            },
            "marker": {
             "line": {
              "color": "#E5ECF6",
              "width": 0.5
             },
             "pattern": {
              "fillmode": "overlay",
              "size": 10,
              "solidity": 0.2
             }
            },
            "type": "bar"
           }
          ],
          "barpolar": [
           {
            "marker": {
             "line": {
              "color": "#E5ECF6",
              "width": 0.5
             },
             "pattern": {
              "fillmode": "overlay",
              "size": 10,
              "solidity": 0.2
             }
            },
            "type": "barpolar"
           }
          ],
          "carpet": [
           {
            "aaxis": {
             "endlinecolor": "#2a3f5f",
             "gridcolor": "white",
             "linecolor": "white",
             "minorgridcolor": "white",
             "startlinecolor": "#2a3f5f"
            },
            "baxis": {
             "endlinecolor": "#2a3f5f",
             "gridcolor": "white",
             "linecolor": "white",
             "minorgridcolor": "white",
             "startlinecolor": "#2a3f5f"
            },
            "type": "carpet"
           }
          ],
          "choropleth": [
           {
            "colorbar": {
             "outlinewidth": 0,
             "ticks": ""
            },
            "type": "choropleth"
           }
          ],
          "contour": [
           {
            "colorbar": {
             "outlinewidth": 0,
             "ticks": ""
            },
            "colorscale": [
             [
              0,
              "#0d0887"
             ],
             [
              0.1111111111111111,
              "#46039f"
             ],
             [
              0.2222222222222222,
              "#7201a8"
             ],
             [
              0.3333333333333333,
              "#9c179e"
             ],
             [
              0.4444444444444444,
              "#bd3786"
             ],
             [
              0.5555555555555556,
              "#d8576b"
             ],
             [
              0.6666666666666666,
              "#ed7953"
             ],
             [
              0.7777777777777778,
              "#fb9f3a"
             ],
             [
              0.8888888888888888,
              "#fdca26"
             ],
             [
              1,
              "#f0f921"
             ]
            ],
            "type": "contour"
           }
          ],
          "contourcarpet": [
           {
            "colorbar": {
             "outlinewidth": 0,
             "ticks": ""
            },
            "type": "contourcarpet"
           }
          ],
          "heatmap": [
           {
            "colorbar": {
             "outlinewidth": 0,
             "ticks": ""
            },
            "colorscale": [
             [
              0,
              "#0d0887"
             ],
             [
              0.1111111111111111,
              "#46039f"
             ],
             [
              0.2222222222222222,
              "#7201a8"
             ],
             [
              0.3333333333333333,
              "#9c179e"
             ],
             [
              0.4444444444444444,
              "#bd3786"
             ],
             [
              0.5555555555555556,
              "#d8576b"
             ],
             [
              0.6666666666666666,
              "#ed7953"
             ],
             [
              0.7777777777777778,
              "#fb9f3a"
             ],
             [
              0.8888888888888888,
              "#fdca26"
             ],
             [
              1,
              "#f0f921"
             ]
            ],
            "type": "heatmap"
           }
          ],
          "heatmapgl": [
           {
            "colorbar": {
             "outlinewidth": 0,
             "ticks": ""
            },
            "colorscale": [
             [
              0,
              "#0d0887"
             ],
             [
              0.1111111111111111,
              "#46039f"
             ],
             [
              0.2222222222222222,
              "#7201a8"
             ],
             [
              0.3333333333333333,
              "#9c179e"
             ],
             [
              0.4444444444444444,
              "#bd3786"
             ],
             [
              0.5555555555555556,
              "#d8576b"
             ],
             [
              0.6666666666666666,
              "#ed7953"
             ],
             [
              0.7777777777777778,
              "#fb9f3a"
             ],
             [
              0.8888888888888888,
              "#fdca26"
             ],
             [
              1,
              "#f0f921"
             ]
            ],
            "type": "heatmapgl"
           }
          ],
          "histogram": [
           {
            "marker": {
             "pattern": {
              "fillmode": "overlay",
              "size": 10,
              "solidity": 0.2
             }
            },
            "type": "histogram"
           }
          ],
          "histogram2d": [
           {
            "colorbar": {
             "outlinewidth": 0,
             "ticks": ""
            },
            "colorscale": [
             [
              0,
              "#0d0887"
             ],
             [
              0.1111111111111111,
              "#46039f"
             ],
             [
              0.2222222222222222,
              "#7201a8"
             ],
             [
              0.3333333333333333,
              "#9c179e"
             ],
             [
              0.4444444444444444,
              "#bd3786"
             ],
             [
              0.5555555555555556,
              "#d8576b"
             ],
             [
              0.6666666666666666,
              "#ed7953"
             ],
             [
              0.7777777777777778,
              "#fb9f3a"
             ],
             [
              0.8888888888888888,
              "#fdca26"
             ],
             [
              1,
              "#f0f921"
             ]
            ],
            "type": "histogram2d"
           }
          ],
          "histogram2dcontour": [
           {
            "colorbar": {
             "outlinewidth": 0,
             "ticks": ""
            },
            "colorscale": [
             [
              0,
              "#0d0887"
             ],
             [
              0.1111111111111111,
              "#46039f"
             ],
             [
              0.2222222222222222,
              "#7201a8"
             ],
             [
              0.3333333333333333,
              "#9c179e"
             ],
             [
              0.4444444444444444,
              "#bd3786"
             ],
             [
              0.5555555555555556,
              "#d8576b"
             ],
             [
              0.6666666666666666,
              "#ed7953"
             ],
             [
              0.7777777777777778,
              "#fb9f3a"
             ],
             [
              0.8888888888888888,
              "#fdca26"
             ],
             [
              1,
              "#f0f921"
             ]
            ],
            "type": "histogram2dcontour"
           }
          ],
          "mesh3d": [
           {
            "colorbar": {
             "outlinewidth": 0,
             "ticks": ""
            },
            "type": "mesh3d"
           }
          ],
          "parcoords": [
           {
            "line": {
             "colorbar": {
              "outlinewidth": 0,
              "ticks": ""
             }
            },
            "type": "parcoords"
           }
          ],
          "pie": [
           {
            "automargin": true,
            "type": "pie"
           }
          ],
          "scatter": [
           {
            "fillpattern": {
             "fillmode": "overlay",
             "size": 10,
             "solidity": 0.2
            },
            "type": "scatter"
           }
          ],
          "scatter3d": [
           {
            "line": {
             "colorbar": {
              "outlinewidth": 0,
              "ticks": ""
             }
            },
            "marker": {
             "colorbar": {
              "outlinewidth": 0,
              "ticks": ""
             }
            },
            "type": "scatter3d"
           }
          ],
          "scattercarpet": [
           {
            "marker": {
             "colorbar": {
              "outlinewidth": 0,
              "ticks": ""
             }
            },
            "type": "scattercarpet"
           }
          ],
          "scattergeo": [
           {
            "marker": {
             "colorbar": {
              "outlinewidth": 0,
              "ticks": ""
             }
            },
            "type": "scattergeo"
           }
          ],
          "scattergl": [
           {
            "marker": {
             "colorbar": {
              "outlinewidth": 0,
              "ticks": ""
             }
            },
            "type": "scattergl"
           }
          ],
          "scattermapbox": [
           {
            "marker": {
             "colorbar": {
              "outlinewidth": 0,
              "ticks": ""
             }
            },
            "type": "scattermapbox"
           }
          ],
          "scatterpolar": [
           {
            "marker": {
             "colorbar": {
              "outlinewidth": 0,
              "ticks": ""
             }
            },
            "type": "scatterpolar"
           }
          ],
          "scatterpolargl": [
           {
            "marker": {
             "colorbar": {
              "outlinewidth": 0,
              "ticks": ""
             }
            },
            "type": "scatterpolargl"
           }
          ],
          "scatterternary": [
           {
            "marker": {
             "colorbar": {
              "outlinewidth": 0,
              "ticks": ""
             }
            },
            "type": "scatterternary"
           }
          ],
          "surface": [
           {
            "colorbar": {
             "outlinewidth": 0,
             "ticks": ""
            },
            "colorscale": [
             [
              0,
              "#0d0887"
             ],
             [
              0.1111111111111111,
              "#46039f"
             ],
             [
              0.2222222222222222,
              "#7201a8"
             ],
             [
              0.3333333333333333,
              "#9c179e"
             ],
             [
              0.4444444444444444,
              "#bd3786"
             ],
             [
              0.5555555555555556,
              "#d8576b"
             ],
             [
              0.6666666666666666,
              "#ed7953"
             ],
             [
              0.7777777777777778,
              "#fb9f3a"
             ],
             [
              0.8888888888888888,
              "#fdca26"
             ],
             [
              1,
              "#f0f921"
             ]
            ],
            "type": "surface"
           }
          ],
          "table": [
           {
            "cells": {
             "fill": {
              "color": "#EBF0F8"
             },
             "line": {
              "color": "white"
             }
            },
            "header": {
             "fill": {
              "color": "#C8D4E3"
             },
             "line": {
              "color": "white"
             }
            },
            "type": "table"
           }
          ]
         },
         "layout": {
          "annotationdefaults": {
           "arrowcolor": "#2a3f5f",
           "arrowhead": 0,
           "arrowwidth": 1
          },
          "autotypenumbers": "strict",
          "coloraxis": {
           "colorbar": {
            "outlinewidth": 0,
            "ticks": ""
           }
          },
          "colorscale": {
           "diverging": [
            [
             0,
             "#8e0152"
            ],
            [
             0.1,
             "#c51b7d"
            ],
            [
             0.2,
             "#de77ae"
            ],
            [
             0.3,
             "#f1b6da"
            ],
            [
             0.4,
             "#fde0ef"
            ],
            [
             0.5,
             "#f7f7f7"
            ],
            [
             0.6,
             "#e6f5d0"
            ],
            [
             0.7,
             "#b8e186"
            ],
            [
             0.8,
             "#7fbc41"
            ],
            [
             0.9,
             "#4d9221"
            ],
            [
             1,
             "#276419"
            ]
           ],
           "sequential": [
            [
             0,
             "#0d0887"
            ],
            [
             0.1111111111111111,
             "#46039f"
            ],
            [
             0.2222222222222222,
             "#7201a8"
            ],
            [
             0.3333333333333333,
             "#9c179e"
            ],
            [
             0.4444444444444444,
             "#bd3786"
            ],
            [
             0.5555555555555556,
             "#d8576b"
            ],
            [
             0.6666666666666666,
             "#ed7953"
            ],
            [
             0.7777777777777778,
             "#fb9f3a"
            ],
            [
             0.8888888888888888,
             "#fdca26"
            ],
            [
             1,
             "#f0f921"
            ]
           ],
           "sequentialminus": [
            [
             0,
             "#0d0887"
            ],
            [
             0.1111111111111111,
             "#46039f"
            ],
            [
             0.2222222222222222,
             "#7201a8"
            ],
            [
             0.3333333333333333,
             "#9c179e"
            ],
            [
             0.4444444444444444,
             "#bd3786"
            ],
            [
             0.5555555555555556,
             "#d8576b"
            ],
            [
             0.6666666666666666,
             "#ed7953"
            ],
            [
             0.7777777777777778,
             "#fb9f3a"
            ],
            [
             0.8888888888888888,
             "#fdca26"
            ],
            [
             1,
             "#f0f921"
            ]
           ]
          },
          "colorway": [
           "#636efa",
           "#EF553B",
           "#00cc96",
           "#ab63fa",
           "#FFA15A",
           "#19d3f3",
           "#FF6692",
           "#B6E880",
           "#FF97FF",
           "#FECB52"
          ],
          "font": {
           "color": "#2a3f5f"
          },
          "geo": {
           "bgcolor": "white",
           "lakecolor": "white",
           "landcolor": "#E5ECF6",
           "showlakes": true,
           "showland": true,
           "subunitcolor": "white"
          },
          "hoverlabel": {
           "align": "left"
          },
          "hovermode": "closest",
          "mapbox": {
           "style": "light"
          },
          "paper_bgcolor": "white",
          "plot_bgcolor": "#E5ECF6",
          "polar": {
           "angularaxis": {
            "gridcolor": "white",
            "linecolor": "white",
            "ticks": ""
           },
           "bgcolor": "#E5ECF6",
           "radialaxis": {
            "gridcolor": "white",
            "linecolor": "white",
            "ticks": ""
           }
          },
          "scene": {
           "xaxis": {
            "backgroundcolor": "#E5ECF6",
            "gridcolor": "white",
            "gridwidth": 2,
            "linecolor": "white",
            "showbackground": true,
            "ticks": "",
            "zerolinecolor": "white"
           },
           "yaxis": {
            "backgroundcolor": "#E5ECF6",
            "gridcolor": "white",
            "gridwidth": 2,
            "linecolor": "white",
            "showbackground": true,
            "ticks": "",
            "zerolinecolor": "white"
           },
           "zaxis": {
            "backgroundcolor": "#E5ECF6",
            "gridcolor": "white",
            "gridwidth": 2,
            "linecolor": "white",
            "showbackground": true,
            "ticks": "",
            "zerolinecolor": "white"
           }
          },
          "shapedefaults": {
           "line": {
            "color": "#2a3f5f"
           }
          },
          "ternary": {
           "aaxis": {
            "gridcolor": "white",
            "linecolor": "white",
            "ticks": ""
           },
           "baxis": {
            "gridcolor": "white",
            "linecolor": "white",
            "ticks": ""
           },
           "bgcolor": "#E5ECF6",
           "caxis": {
            "gridcolor": "white",
            "linecolor": "white",
            "ticks": ""
           }
          },
          "title": {
           "x": 0.05
          },
          "xaxis": {
           "automargin": true,
           "gridcolor": "white",
           "linecolor": "white",
           "ticks": "",
           "title": {
            "standoff": 15
           },
           "zerolinecolor": "white",
           "zerolinewidth": 2
          },
          "yaxis": {
           "automargin": true,
           "gridcolor": "white",
           "linecolor": "white",
           "ticks": "",
           "title": {
            "standoff": 15
           },
           "zerolinecolor": "white",
           "zerolinewidth": 2
          }
         }
        },
        "title": {
         "text": "Ranking correct and wrong verb forms L17H4 Spanish"
        },
        "xaxis": {
         "anchor": "y",
         "domain": [
          0,
          1
         ],
         "title": {
          "text": "variable"
         }
        },
        "yaxis": {
         "anchor": "x",
         "domain": [
          0,
          1
         ],
         "title": {
          "text": "value"
         }
        }
       }
      },
      "text/html": [
       "<div>                            <div id=\"c0f1e83f-e4ff-4bf2-b55c-32cd6881acdf\" class=\"plotly-graph-div\" style=\"height:525px; width:100%;\"></div>            <script type=\"text/javascript\">                require([\"plotly\"], function(Plotly) {                    window.PLOTLYENV=window.PLOTLYENV || {};                                    if (document.getElementById(\"c0f1e83f-e4ff-4bf2-b55c-32cd6881acdf\")) {                    Plotly.newPlot(                        \"c0f1e83f-e4ff-4bf2-b55c-32cd6881acdf\",                        [{\"alignmentgroup\":\"True\",\"hovertemplate\":\"variable=%{x}\\u003cbr\\u003evalue=%{y}\\u003cextra\\u003e\\u003c\\u002fextra\\u003e\",\"legendgroup\":\"\",\"marker\":{\"color\":\"#636efa\"},\"name\":\"\",\"notched\":false,\"offsetgroup\":\"\",\"orientation\":\"v\",\"showlegend\":false,\"x\":[\"corr_pred\",\"corr_pred\",\"corr_pred\",\"corr_pred\",\"corr_pred\",\"corr_pred\",\"corr_pred\",\"corr_pred\",\"corr_pred\",\"corr_pred\",\"corr_pred\",\"corr_pred\",\"corr_pred\",\"corr_pred\",\"corr_pred\",\"corr_pred\",\"corr_pred\",\"corr_pred\",\"corr_pred\",\"corr_pred\",\"corr_pred\",\"corr_pred\",\"corr_pred\",\"corr_pred\",\"corr_pred\",\"corr_pred\",\"corr_pred\",\"corr_pred\",\"corr_pred\",\"corr_pred\",\"corr_pred\",\"corr_pred\",\"corr_pred\",\"corr_pred\",\"corr_pred\",\"corr_pred\",\"corr_pred\",\"corr_pred\",\"corr_pred\",\"corr_pred\",\"corr_pred\",\"corr_pred\",\"corr_pred\",\"corr_pred\",\"corr_pred\",\"corr_pred\",\"corr_pred\",\"corr_pred\",\"corr_pred\",\"corr_pred\",\"wrong_pred\",\"wrong_pred\",\"wrong_pred\",\"wrong_pred\",\"wrong_pred\",\"wrong_pred\",\"wrong_pred\",\"wrong_pred\",\"wrong_pred\",\"wrong_pred\",\"wrong_pred\",\"wrong_pred\",\"wrong_pred\",\"wrong_pred\",\"wrong_pred\",\"wrong_pred\",\"wrong_pred\",\"wrong_pred\",\"wrong_pred\",\"wrong_pred\",\"wrong_pred\",\"wrong_pred\",\"wrong_pred\",\"wrong_pred\",\"wrong_pred\",\"wrong_pred\",\"wrong_pred\",\"wrong_pred\",\"wrong_pred\",\"wrong_pred\",\"wrong_pred\",\"wrong_pred\",\"wrong_pred\",\"wrong_pred\",\"wrong_pred\",\"wrong_pred\",\"wrong_pred\",\"wrong_pred\",\"wrong_pred\",\"wrong_pred\",\"wrong_pred\",\"wrong_pred\",\"wrong_pred\",\"wrong_pred\",\"wrong_pred\",\"wrong_pred\",\"wrong_pred\",\"wrong_pred\",\"wrong_pred\",\"wrong_pred\"],\"x0\":\" \",\"xaxis\":\"x\",\"y\":[61,5,34,5,2,33,48,165,8,1,2,3,58,59,12,5,21,745,7,2,9,85,1,18,3,9,55,11,20,10,8,2,5,145,357,2,3,228,1,3,252,69,1,6,9,6,21,10,48,7,24205,69432,3319,554,81617,175,339,1891,74413,51518,81579,73561,135,1403,260,26578,5401,7417,39726,3694,697,4252,63861,144,52388,43232,1332,2090,583,54331,24555,60474,6752,2102,1683,58487,50132,222,56534,25527,4715,1375,2153,32644,1838,41146,7304,22901,539,387],\"y0\":\" \",\"yaxis\":\"y\",\"type\":\"box\"}],                        {\"template\":{\"data\":{\"histogram2dcontour\":[{\"type\":\"histogram2dcontour\",\"colorbar\":{\"outlinewidth\":0,\"ticks\":\"\"},\"colorscale\":[[0.0,\"#0d0887\"],[0.1111111111111111,\"#46039f\"],[0.2222222222222222,\"#7201a8\"],[0.3333333333333333,\"#9c179e\"],[0.4444444444444444,\"#bd3786\"],[0.5555555555555556,\"#d8576b\"],[0.6666666666666666,\"#ed7953\"],[0.7777777777777778,\"#fb9f3a\"],[0.8888888888888888,\"#fdca26\"],[1.0,\"#f0f921\"]]}],\"choropleth\":[{\"type\":\"choropleth\",\"colorbar\":{\"outlinewidth\":0,\"ticks\":\"\"}}],\"histogram2d\":[{\"type\":\"histogram2d\",\"colorbar\":{\"outlinewidth\":0,\"ticks\":\"\"},\"colorscale\":[[0.0,\"#0d0887\"],[0.1111111111111111,\"#46039f\"],[0.2222222222222222,\"#7201a8\"],[0.3333333333333333,\"#9c179e\"],[0.4444444444444444,\"#bd3786\"],[0.5555555555555556,\"#d8576b\"],[0.6666666666666666,\"#ed7953\"],[0.7777777777777778,\"#fb9f3a\"],[0.8888888888888888,\"#fdca26\"],[1.0,\"#f0f921\"]]}],\"heatmap\":[{\"type\":\"heatmap\",\"colorbar\":{\"outlinewidth\":0,\"ticks\":\"\"},\"colorscale\":[[0.0,\"#0d0887\"],[0.1111111111111111,\"#46039f\"],[0.2222222222222222,\"#7201a8\"],[0.3333333333333333,\"#9c179e\"],[0.4444444444444444,\"#bd3786\"],[0.5555555555555556,\"#d8576b\"],[0.6666666666666666,\"#ed7953\"],[0.7777777777777778,\"#fb9f3a\"],[0.8888888888888888,\"#fdca26\"],[1.0,\"#f0f921\"]]}],\"heatmapgl\":[{\"type\":\"heatmapgl\",\"colorbar\":{\"outlinewidth\":0,\"ticks\":\"\"},\"colorscale\":[[0.0,\"#0d0887\"],[0.1111111111111111,\"#46039f\"],[0.2222222222222222,\"#7201a8\"],[0.3333333333333333,\"#9c179e\"],[0.4444444444444444,\"#bd3786\"],[0.5555555555555556,\"#d8576b\"],[0.6666666666666666,\"#ed7953\"],[0.7777777777777778,\"#fb9f3a\"],[0.8888888888888888,\"#fdca26\"],[1.0,\"#f0f921\"]]}],\"contourcarpet\":[{\"type\":\"contourcarpet\",\"colorbar\":{\"outlinewidth\":0,\"ticks\":\"\"}}],\"contour\":[{\"type\":\"contour\",\"colorbar\":{\"outlinewidth\":0,\"ticks\":\"\"},\"colorscale\":[[0.0,\"#0d0887\"],[0.1111111111111111,\"#46039f\"],[0.2222222222222222,\"#7201a8\"],[0.3333333333333333,\"#9c179e\"],[0.4444444444444444,\"#bd3786\"],[0.5555555555555556,\"#d8576b\"],[0.6666666666666666,\"#ed7953\"],[0.7777777777777778,\"#fb9f3a\"],[0.8888888888888888,\"#fdca26\"],[1.0,\"#f0f921\"]]}],\"surface\":[{\"type\":\"surface\",\"colorbar\":{\"outlinewidth\":0,\"ticks\":\"\"},\"colorscale\":[[0.0,\"#0d0887\"],[0.1111111111111111,\"#46039f\"],[0.2222222222222222,\"#7201a8\"],[0.3333333333333333,\"#9c179e\"],[0.4444444444444444,\"#bd3786\"],[0.5555555555555556,\"#d8576b\"],[0.6666666666666666,\"#ed7953\"],[0.7777777777777778,\"#fb9f3a\"],[0.8888888888888888,\"#fdca26\"],[1.0,\"#f0f921\"]]}],\"mesh3d\":[{\"type\":\"mesh3d\",\"colorbar\":{\"outlinewidth\":0,\"ticks\":\"\"}}],\"scatter\":[{\"fillpattern\":{\"fillmode\":\"overlay\",\"size\":10,\"solidity\":0.2},\"type\":\"scatter\"}],\"parcoords\":[{\"type\":\"parcoords\",\"line\":{\"colorbar\":{\"outlinewidth\":0,\"ticks\":\"\"}}}],\"scatterpolargl\":[{\"type\":\"scatterpolargl\",\"marker\":{\"colorbar\":{\"outlinewidth\":0,\"ticks\":\"\"}}}],\"bar\":[{\"error_x\":{\"color\":\"#2a3f5f\"},\"error_y\":{\"color\":\"#2a3f5f\"},\"marker\":{\"line\":{\"color\":\"#E5ECF6\",\"width\":0.5},\"pattern\":{\"fillmode\":\"overlay\",\"size\":10,\"solidity\":0.2}},\"type\":\"bar\"}],\"scattergeo\":[{\"type\":\"scattergeo\",\"marker\":{\"colorbar\":{\"outlinewidth\":0,\"ticks\":\"\"}}}],\"scatterpolar\":[{\"type\":\"scatterpolar\",\"marker\":{\"colorbar\":{\"outlinewidth\":0,\"ticks\":\"\"}}}],\"histogram\":[{\"marker\":{\"pattern\":{\"fillmode\":\"overlay\",\"size\":10,\"solidity\":0.2}},\"type\":\"histogram\"}],\"scattergl\":[{\"type\":\"scattergl\",\"marker\":{\"colorbar\":{\"outlinewidth\":0,\"ticks\":\"\"}}}],\"scatter3d\":[{\"type\":\"scatter3d\",\"line\":{\"colorbar\":{\"outlinewidth\":0,\"ticks\":\"\"}},\"marker\":{\"colorbar\":{\"outlinewidth\":0,\"ticks\":\"\"}}}],\"scattermapbox\":[{\"type\":\"scattermapbox\",\"marker\":{\"colorbar\":{\"outlinewidth\":0,\"ticks\":\"\"}}}],\"scatterternary\":[{\"type\":\"scatterternary\",\"marker\":{\"colorbar\":{\"outlinewidth\":0,\"ticks\":\"\"}}}],\"scattercarpet\":[{\"type\":\"scattercarpet\",\"marker\":{\"colorbar\":{\"outlinewidth\":0,\"ticks\":\"\"}}}],\"carpet\":[{\"aaxis\":{\"endlinecolor\":\"#2a3f5f\",\"gridcolor\":\"white\",\"linecolor\":\"white\",\"minorgridcolor\":\"white\",\"startlinecolor\":\"#2a3f5f\"},\"baxis\":{\"endlinecolor\":\"#2a3f5f\",\"gridcolor\":\"white\",\"linecolor\":\"white\",\"minorgridcolor\":\"white\",\"startlinecolor\":\"#2a3f5f\"},\"type\":\"carpet\"}],\"table\":[{\"cells\":{\"fill\":{\"color\":\"#EBF0F8\"},\"line\":{\"color\":\"white\"}},\"header\":{\"fill\":{\"color\":\"#C8D4E3\"},\"line\":{\"color\":\"white\"}},\"type\":\"table\"}],\"barpolar\":[{\"marker\":{\"line\":{\"color\":\"#E5ECF6\",\"width\":0.5},\"pattern\":{\"fillmode\":\"overlay\",\"size\":10,\"solidity\":0.2}},\"type\":\"barpolar\"}],\"pie\":[{\"automargin\":true,\"type\":\"pie\"}]},\"layout\":{\"autotypenumbers\":\"strict\",\"colorway\":[\"#636efa\",\"#EF553B\",\"#00cc96\",\"#ab63fa\",\"#FFA15A\",\"#19d3f3\",\"#FF6692\",\"#B6E880\",\"#FF97FF\",\"#FECB52\"],\"font\":{\"color\":\"#2a3f5f\"},\"hovermode\":\"closest\",\"hoverlabel\":{\"align\":\"left\"},\"paper_bgcolor\":\"white\",\"plot_bgcolor\":\"#E5ECF6\",\"polar\":{\"bgcolor\":\"#E5ECF6\",\"angularaxis\":{\"gridcolor\":\"white\",\"linecolor\":\"white\",\"ticks\":\"\"},\"radialaxis\":{\"gridcolor\":\"white\",\"linecolor\":\"white\",\"ticks\":\"\"}},\"ternary\":{\"bgcolor\":\"#E5ECF6\",\"aaxis\":{\"gridcolor\":\"white\",\"linecolor\":\"white\",\"ticks\":\"\"},\"baxis\":{\"gridcolor\":\"white\",\"linecolor\":\"white\",\"ticks\":\"\"},\"caxis\":{\"gridcolor\":\"white\",\"linecolor\":\"white\",\"ticks\":\"\"}},\"coloraxis\":{\"colorbar\":{\"outlinewidth\":0,\"ticks\":\"\"}},\"colorscale\":{\"sequential\":[[0.0,\"#0d0887\"],[0.1111111111111111,\"#46039f\"],[0.2222222222222222,\"#7201a8\"],[0.3333333333333333,\"#9c179e\"],[0.4444444444444444,\"#bd3786\"],[0.5555555555555556,\"#d8576b\"],[0.6666666666666666,\"#ed7953\"],[0.7777777777777778,\"#fb9f3a\"],[0.8888888888888888,\"#fdca26\"],[1.0,\"#f0f921\"]],\"sequentialminus\":[[0.0,\"#0d0887\"],[0.1111111111111111,\"#46039f\"],[0.2222222222222222,\"#7201a8\"],[0.3333333333333333,\"#9c179e\"],[0.4444444444444444,\"#bd3786\"],[0.5555555555555556,\"#d8576b\"],[0.6666666666666666,\"#ed7953\"],[0.7777777777777778,\"#fb9f3a\"],[0.8888888888888888,\"#fdca26\"],[1.0,\"#f0f921\"]],\"diverging\":[[0,\"#8e0152\"],[0.1,\"#c51b7d\"],[0.2,\"#de77ae\"],[0.3,\"#f1b6da\"],[0.4,\"#fde0ef\"],[0.5,\"#f7f7f7\"],[0.6,\"#e6f5d0\"],[0.7,\"#b8e186\"],[0.8,\"#7fbc41\"],[0.9,\"#4d9221\"],[1,\"#276419\"]]},\"xaxis\":{\"gridcolor\":\"white\",\"linecolor\":\"white\",\"ticks\":\"\",\"title\":{\"standoff\":15},\"zerolinecolor\":\"white\",\"automargin\":true,\"zerolinewidth\":2},\"yaxis\":{\"gridcolor\":\"white\",\"linecolor\":\"white\",\"ticks\":\"\",\"title\":{\"standoff\":15},\"zerolinecolor\":\"white\",\"automargin\":true,\"zerolinewidth\":2},\"scene\":{\"xaxis\":{\"backgroundcolor\":\"#E5ECF6\",\"gridcolor\":\"white\",\"linecolor\":\"white\",\"showbackground\":true,\"ticks\":\"\",\"zerolinecolor\":\"white\",\"gridwidth\":2},\"yaxis\":{\"backgroundcolor\":\"#E5ECF6\",\"gridcolor\":\"white\",\"linecolor\":\"white\",\"showbackground\":true,\"ticks\":\"\",\"zerolinecolor\":\"white\",\"gridwidth\":2},\"zaxis\":{\"backgroundcolor\":\"#E5ECF6\",\"gridcolor\":\"white\",\"linecolor\":\"white\",\"showbackground\":true,\"ticks\":\"\",\"zerolinecolor\":\"white\",\"gridwidth\":2}},\"shapedefaults\":{\"line\":{\"color\":\"#2a3f5f\"}},\"annotationdefaults\":{\"arrowcolor\":\"#2a3f5f\",\"arrowhead\":0,\"arrowwidth\":1},\"geo\":{\"bgcolor\":\"white\",\"landcolor\":\"#E5ECF6\",\"subunitcolor\":\"white\",\"showland\":true,\"showlakes\":true,\"lakecolor\":\"white\"},\"title\":{\"x\":0.05},\"mapbox\":{\"style\":\"light\"}}},\"xaxis\":{\"anchor\":\"y\",\"domain\":[0.0,1.0],\"title\":{\"text\":\"variable\"}},\"yaxis\":{\"anchor\":\"x\",\"domain\":[0.0,1.0],\"title\":{\"text\":\"value\"}},\"legend\":{\"tracegroupgap\":0},\"title\":{\"text\":\"Ranking correct and wrong verb forms L17H4 Spanish\"},\"boxmode\":\"group\"},                        {\"responsive\": true}                    ).then(function(){\n",
       "                            \n",
       "var gd = document.getElementById('c0f1e83f-e4ff-4bf2-b55c-32cd6881acdf');\n",
       "var x = new MutationObserver(function (mutations, observer) {{\n",
       "        var display = window.getComputedStyle(gd).display;\n",
       "        if (!display || display === 'none') {{\n",
       "            console.log([gd, 'removed!']);\n",
       "            Plotly.purge(gd);\n",
       "            observer.disconnect();\n",
       "        }}\n",
       "}});\n",
       "\n",
       "// Listen for the removal of the full notebook cells\n",
       "var notebookContainer = gd.closest('#notebook-container');\n",
       "if (notebookContainer) {{\n",
       "    x.observe(notebookContainer, {childList: true});\n",
       "}}\n",
       "\n",
       "// Listen for the clearing of the current output cell\n",
       "var outputEl = gd.closest('.output');\n",
       "if (outputEl) {{\n",
       "    x.observe(outputEl, {childList: true});\n",
       "}}\n",
       "\n",
       "                        })                };                });            </script>        </div>"
      ]
     },
     "metadata": {},
     "output_type": "display_data"
    }
   ],
   "source": [
    "df = pd.DataFrame.from_dict(ranking_dict)\n",
    "import plotly.express as px\n",
    "fig = px.box(df, title=f'Ranking correct and wrong verb forms L{layer_index}H{head_index} Spanish')\n",
    "fig.show()"
   ]
  },
  {
   "cell_type": "code",
   "execution_count": null,
   "metadata": {},
   "outputs": [],
   "source": []
  }
 ],
 "metadata": {
  "kernelspec": {
   "display_name": "Python 3 (ipykernel)",
   "language": "python",
   "name": "python3"
  },
  "language_info": {
   "codemirror_mode": {
    "name": "ipython",
    "version": 3
   },
   "file_extension": ".py",
   "mimetype": "text/x-python",
   "name": "python",
   "nbconvert_exporter": "python",
   "pygments_lexer": "ipython3",
   "version": "3.11.9"
  }
 },
 "nbformat": 4,
 "nbformat_minor": 2
}
